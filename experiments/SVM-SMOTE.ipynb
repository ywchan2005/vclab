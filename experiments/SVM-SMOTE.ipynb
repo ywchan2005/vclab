{
 "cells": [
  {
   "cell_type": "code",
   "execution_count": 10,
   "metadata": {
    "collapsed": false
   },
   "outputs": [],
   "source": [
    "%matplotlib inline\n",
    "\n",
    "import datetime\n",
    "# import goks.xgb\n",
    "import keras\n",
    "# import keras.utils\n",
    "import matplotlib\n",
    "import matplotlib.pyplot as pt\n",
    "import numpy as np\n",
    "import pandas as pd\n",
    "import seaborn as sb\n",
    "# import scipy.optimize\n",
    "import sklearn\n",
    "import sklearn.cross_validation\n",
    "import sklearn.manifold\n",
    "import sklearn.metrics\n",
    "# import sklearn.ensemble\n",
    "# import sklearn.neighbors\n",
    "# import xgboost"
   ]
  },
  {
   "cell_type": "code",
   "execution_count": 11,
   "metadata": {
    "collapsed": true
   },
   "outputs": [],
   "source": [
    "class MyHistory( keras.callbacks.Callback ):\n",
    "    def __init__( self, m ):\n",
    "        self.m = m\n",
    "    def on_train_begin( self, logs={} ):\n",
    "        self.weights = []\n",
    "        self.bias = []\n",
    "#         self.updates = []\n",
    "#         self.total_loss = []\n",
    "    def on_epoch_end( self, epoch, logs={} ):\n",
    "        ws = []\n",
    "        bs = []\n",
    "        for layer in self.m.layers:\n",
    "            ws = np.append( ws, layer.get_weights()[ 0 ] )\n",
    "            bs = np.append( bs, layer.get_weights()[ 1 ] )\n",
    "        self.weights.append( ws )\n",
    "        self.bias.append( bs )\n",
    "#         self.updates.append( self.m.model.train_function.updated[ 2 ] )\n",
    "#         self.total_loss.append( self.m.model.train_function.updated[ 0 ] )"
   ]
  },
  {
   "cell_type": "markdown",
   "metadata": {},
   "source": [
    "# Load data"
   ]
  },
  {
   "cell_type": "code",
   "execution_count": 12,
   "metadata": {
    "collapsed": false
   },
   "outputs": [
    {
     "data": {
      "text/html": [
       "<div>\n",
       "<table border=\"1\" class=\"dataframe\">\n",
       "  <thead>\n",
       "    <tr style=\"text-align: right;\">\n",
       "      <th></th>\n",
       "      <th>fixed acidity</th>\n",
       "      <th>volatile acidity</th>\n",
       "      <th>citric acid</th>\n",
       "      <th>residual sugar</th>\n",
       "      <th>chlorides</th>\n",
       "      <th>free sulfur dioxide</th>\n",
       "      <th>total sulfur dioxide</th>\n",
       "      <th>density</th>\n",
       "      <th>pH</th>\n",
       "      <th>sulphates</th>\n",
       "      <th>alcohol</th>\n",
       "      <th>quality</th>\n",
       "    </tr>\n",
       "  </thead>\n",
       "  <tbody>\n",
       "    <tr>\n",
       "      <th>count</th>\n",
       "      <td>1599.000000</td>\n",
       "      <td>1599.000000</td>\n",
       "      <td>1599.000000</td>\n",
       "      <td>1599.000000</td>\n",
       "      <td>1599.000000</td>\n",
       "      <td>1599.000000</td>\n",
       "      <td>1599.000000</td>\n",
       "      <td>1599.000000</td>\n",
       "      <td>1599.000000</td>\n",
       "      <td>1599.000000</td>\n",
       "      <td>1599.000000</td>\n",
       "      <td>1599.000000</td>\n",
       "    </tr>\n",
       "    <tr>\n",
       "      <th>mean</th>\n",
       "      <td>8.319637</td>\n",
       "      <td>0.527821</td>\n",
       "      <td>0.270976</td>\n",
       "      <td>2.538806</td>\n",
       "      <td>0.087467</td>\n",
       "      <td>15.874922</td>\n",
       "      <td>46.467792</td>\n",
       "      <td>0.996747</td>\n",
       "      <td>3.311113</td>\n",
       "      <td>0.658149</td>\n",
       "      <td>10.422983</td>\n",
       "      <td>5.636023</td>\n",
       "    </tr>\n",
       "    <tr>\n",
       "      <th>std</th>\n",
       "      <td>1.741096</td>\n",
       "      <td>0.179060</td>\n",
       "      <td>0.194801</td>\n",
       "      <td>1.409928</td>\n",
       "      <td>0.047065</td>\n",
       "      <td>10.460157</td>\n",
       "      <td>32.895324</td>\n",
       "      <td>0.001887</td>\n",
       "      <td>0.154386</td>\n",
       "      <td>0.169507</td>\n",
       "      <td>1.065668</td>\n",
       "      <td>0.807569</td>\n",
       "    </tr>\n",
       "    <tr>\n",
       "      <th>min</th>\n",
       "      <td>4.600000</td>\n",
       "      <td>0.120000</td>\n",
       "      <td>0.000000</td>\n",
       "      <td>0.900000</td>\n",
       "      <td>0.012000</td>\n",
       "      <td>1.000000</td>\n",
       "      <td>6.000000</td>\n",
       "      <td>0.990070</td>\n",
       "      <td>2.740000</td>\n",
       "      <td>0.330000</td>\n",
       "      <td>8.400000</td>\n",
       "      <td>3.000000</td>\n",
       "    </tr>\n",
       "    <tr>\n",
       "      <th>25%</th>\n",
       "      <td>7.100000</td>\n",
       "      <td>0.390000</td>\n",
       "      <td>0.090000</td>\n",
       "      <td>1.900000</td>\n",
       "      <td>0.070000</td>\n",
       "      <td>7.000000</td>\n",
       "      <td>22.000000</td>\n",
       "      <td>0.995600</td>\n",
       "      <td>3.210000</td>\n",
       "      <td>0.550000</td>\n",
       "      <td>9.500000</td>\n",
       "      <td>5.000000</td>\n",
       "    </tr>\n",
       "    <tr>\n",
       "      <th>50%</th>\n",
       "      <td>7.900000</td>\n",
       "      <td>0.520000</td>\n",
       "      <td>0.260000</td>\n",
       "      <td>2.200000</td>\n",
       "      <td>0.079000</td>\n",
       "      <td>14.000000</td>\n",
       "      <td>38.000000</td>\n",
       "      <td>0.996750</td>\n",
       "      <td>3.310000</td>\n",
       "      <td>0.620000</td>\n",
       "      <td>10.200000</td>\n",
       "      <td>6.000000</td>\n",
       "    </tr>\n",
       "    <tr>\n",
       "      <th>75%</th>\n",
       "      <td>9.200000</td>\n",
       "      <td>0.640000</td>\n",
       "      <td>0.420000</td>\n",
       "      <td>2.600000</td>\n",
       "      <td>0.090000</td>\n",
       "      <td>21.000000</td>\n",
       "      <td>62.000000</td>\n",
       "      <td>0.997835</td>\n",
       "      <td>3.400000</td>\n",
       "      <td>0.730000</td>\n",
       "      <td>11.100000</td>\n",
       "      <td>6.000000</td>\n",
       "    </tr>\n",
       "    <tr>\n",
       "      <th>max</th>\n",
       "      <td>15.900000</td>\n",
       "      <td>1.580000</td>\n",
       "      <td>1.000000</td>\n",
       "      <td>15.500000</td>\n",
       "      <td>0.611000</td>\n",
       "      <td>72.000000</td>\n",
       "      <td>289.000000</td>\n",
       "      <td>1.003690</td>\n",
       "      <td>4.010000</td>\n",
       "      <td>2.000000</td>\n",
       "      <td>14.900000</td>\n",
       "      <td>8.000000</td>\n",
       "    </tr>\n",
       "  </tbody>\n",
       "</table>\n",
       "</div>"
      ],
      "text/plain": [
       "       fixed acidity  volatile acidity  citric acid  residual sugar  \\\n",
       "count    1599.000000       1599.000000  1599.000000     1599.000000   \n",
       "mean        8.319637          0.527821     0.270976        2.538806   \n",
       "std         1.741096          0.179060     0.194801        1.409928   \n",
       "min         4.600000          0.120000     0.000000        0.900000   \n",
       "25%         7.100000          0.390000     0.090000        1.900000   \n",
       "50%         7.900000          0.520000     0.260000        2.200000   \n",
       "75%         9.200000          0.640000     0.420000        2.600000   \n",
       "max        15.900000          1.580000     1.000000       15.500000   \n",
       "\n",
       "         chlorides  free sulfur dioxide  total sulfur dioxide      density  \\\n",
       "count  1599.000000          1599.000000           1599.000000  1599.000000   \n",
       "mean      0.087467            15.874922             46.467792     0.996747   \n",
       "std       0.047065            10.460157             32.895324     0.001887   \n",
       "min       0.012000             1.000000              6.000000     0.990070   \n",
       "25%       0.070000             7.000000             22.000000     0.995600   \n",
       "50%       0.079000            14.000000             38.000000     0.996750   \n",
       "75%       0.090000            21.000000             62.000000     0.997835   \n",
       "max       0.611000            72.000000            289.000000     1.003690   \n",
       "\n",
       "                pH    sulphates      alcohol      quality  \n",
       "count  1599.000000  1599.000000  1599.000000  1599.000000  \n",
       "mean      3.311113     0.658149    10.422983     5.636023  \n",
       "std       0.154386     0.169507     1.065668     0.807569  \n",
       "min       2.740000     0.330000     8.400000     3.000000  \n",
       "25%       3.210000     0.550000     9.500000     5.000000  \n",
       "50%       3.310000     0.620000    10.200000     6.000000  \n",
       "75%       3.400000     0.730000    11.100000     6.000000  \n",
       "max       4.010000     2.000000    14.900000     8.000000  "
      ]
     },
     "execution_count": 12,
     "metadata": {},
     "output_type": "execute_result"
    }
   ],
   "source": [
    "rdf = pd.read_csv( './data/winequality-red.csv', sep=';' )\n",
    "# rdf[ 'wine' ] = 1\n",
    "rdf.describe()"
   ]
  },
  {
   "cell_type": "code",
   "execution_count": 13,
   "metadata": {
    "collapsed": false
   },
   "outputs": [
    {
     "data": {
      "text/html": [
       "<div>\n",
       "<table border=\"1\" class=\"dataframe\">\n",
       "  <thead>\n",
       "    <tr style=\"text-align: right;\">\n",
       "      <th></th>\n",
       "      <th>fixed acidity</th>\n",
       "      <th>volatile acidity</th>\n",
       "      <th>citric acid</th>\n",
       "      <th>residual sugar</th>\n",
       "      <th>chlorides</th>\n",
       "      <th>free sulfur dioxide</th>\n",
       "      <th>total sulfur dioxide</th>\n",
       "      <th>density</th>\n",
       "      <th>pH</th>\n",
       "      <th>sulphates</th>\n",
       "      <th>alcohol</th>\n",
       "      <th>quality</th>\n",
       "    </tr>\n",
       "  </thead>\n",
       "  <tbody>\n",
       "    <tr>\n",
       "      <th>count</th>\n",
       "      <td>4898.000000</td>\n",
       "      <td>4898.000000</td>\n",
       "      <td>4898.000000</td>\n",
       "      <td>4898.000000</td>\n",
       "      <td>4898.000000</td>\n",
       "      <td>4898.000000</td>\n",
       "      <td>4898.000000</td>\n",
       "      <td>4898.000000</td>\n",
       "      <td>4898.000000</td>\n",
       "      <td>4898.000000</td>\n",
       "      <td>4898.000000</td>\n",
       "      <td>4898.000000</td>\n",
       "    </tr>\n",
       "    <tr>\n",
       "      <th>mean</th>\n",
       "      <td>6.854788</td>\n",
       "      <td>0.278241</td>\n",
       "      <td>0.334192</td>\n",
       "      <td>6.391415</td>\n",
       "      <td>0.045772</td>\n",
       "      <td>35.308085</td>\n",
       "      <td>138.360657</td>\n",
       "      <td>0.994027</td>\n",
       "      <td>3.188267</td>\n",
       "      <td>0.489847</td>\n",
       "      <td>10.514267</td>\n",
       "      <td>5.877909</td>\n",
       "    </tr>\n",
       "    <tr>\n",
       "      <th>std</th>\n",
       "      <td>0.843868</td>\n",
       "      <td>0.100795</td>\n",
       "      <td>0.121020</td>\n",
       "      <td>5.072058</td>\n",
       "      <td>0.021848</td>\n",
       "      <td>17.007137</td>\n",
       "      <td>42.498065</td>\n",
       "      <td>0.002991</td>\n",
       "      <td>0.151001</td>\n",
       "      <td>0.114126</td>\n",
       "      <td>1.230621</td>\n",
       "      <td>0.885639</td>\n",
       "    </tr>\n",
       "    <tr>\n",
       "      <th>min</th>\n",
       "      <td>3.800000</td>\n",
       "      <td>0.080000</td>\n",
       "      <td>0.000000</td>\n",
       "      <td>0.600000</td>\n",
       "      <td>0.009000</td>\n",
       "      <td>2.000000</td>\n",
       "      <td>9.000000</td>\n",
       "      <td>0.987110</td>\n",
       "      <td>2.720000</td>\n",
       "      <td>0.220000</td>\n",
       "      <td>8.000000</td>\n",
       "      <td>3.000000</td>\n",
       "    </tr>\n",
       "    <tr>\n",
       "      <th>25%</th>\n",
       "      <td>6.300000</td>\n",
       "      <td>0.210000</td>\n",
       "      <td>0.270000</td>\n",
       "      <td>1.700000</td>\n",
       "      <td>0.036000</td>\n",
       "      <td>23.000000</td>\n",
       "      <td>108.000000</td>\n",
       "      <td>0.991723</td>\n",
       "      <td>3.090000</td>\n",
       "      <td>0.410000</td>\n",
       "      <td>9.500000</td>\n",
       "      <td>5.000000</td>\n",
       "    </tr>\n",
       "    <tr>\n",
       "      <th>50%</th>\n",
       "      <td>6.800000</td>\n",
       "      <td>0.260000</td>\n",
       "      <td>0.320000</td>\n",
       "      <td>5.200000</td>\n",
       "      <td>0.043000</td>\n",
       "      <td>34.000000</td>\n",
       "      <td>134.000000</td>\n",
       "      <td>0.993740</td>\n",
       "      <td>3.180000</td>\n",
       "      <td>0.470000</td>\n",
       "      <td>10.400000</td>\n",
       "      <td>6.000000</td>\n",
       "    </tr>\n",
       "    <tr>\n",
       "      <th>75%</th>\n",
       "      <td>7.300000</td>\n",
       "      <td>0.320000</td>\n",
       "      <td>0.390000</td>\n",
       "      <td>9.900000</td>\n",
       "      <td>0.050000</td>\n",
       "      <td>46.000000</td>\n",
       "      <td>167.000000</td>\n",
       "      <td>0.996100</td>\n",
       "      <td>3.280000</td>\n",
       "      <td>0.550000</td>\n",
       "      <td>11.400000</td>\n",
       "      <td>6.000000</td>\n",
       "    </tr>\n",
       "    <tr>\n",
       "      <th>max</th>\n",
       "      <td>14.200000</td>\n",
       "      <td>1.100000</td>\n",
       "      <td>1.660000</td>\n",
       "      <td>65.800000</td>\n",
       "      <td>0.346000</td>\n",
       "      <td>289.000000</td>\n",
       "      <td>440.000000</td>\n",
       "      <td>1.038980</td>\n",
       "      <td>3.820000</td>\n",
       "      <td>1.080000</td>\n",
       "      <td>14.200000</td>\n",
       "      <td>9.000000</td>\n",
       "    </tr>\n",
       "  </tbody>\n",
       "</table>\n",
       "</div>"
      ],
      "text/plain": [
       "       fixed acidity  volatile acidity  citric acid  residual sugar  \\\n",
       "count    4898.000000       4898.000000  4898.000000     4898.000000   \n",
       "mean        6.854788          0.278241     0.334192        6.391415   \n",
       "std         0.843868          0.100795     0.121020        5.072058   \n",
       "min         3.800000          0.080000     0.000000        0.600000   \n",
       "25%         6.300000          0.210000     0.270000        1.700000   \n",
       "50%         6.800000          0.260000     0.320000        5.200000   \n",
       "75%         7.300000          0.320000     0.390000        9.900000   \n",
       "max        14.200000          1.100000     1.660000       65.800000   \n",
       "\n",
       "         chlorides  free sulfur dioxide  total sulfur dioxide      density  \\\n",
       "count  4898.000000          4898.000000           4898.000000  4898.000000   \n",
       "mean      0.045772            35.308085            138.360657     0.994027   \n",
       "std       0.021848            17.007137             42.498065     0.002991   \n",
       "min       0.009000             2.000000              9.000000     0.987110   \n",
       "25%       0.036000            23.000000            108.000000     0.991723   \n",
       "50%       0.043000            34.000000            134.000000     0.993740   \n",
       "75%       0.050000            46.000000            167.000000     0.996100   \n",
       "max       0.346000           289.000000            440.000000     1.038980   \n",
       "\n",
       "                pH    sulphates      alcohol      quality  \n",
       "count  4898.000000  4898.000000  4898.000000  4898.000000  \n",
       "mean      3.188267     0.489847    10.514267     5.877909  \n",
       "std       0.151001     0.114126     1.230621     0.885639  \n",
       "min       2.720000     0.220000     8.000000     3.000000  \n",
       "25%       3.090000     0.410000     9.500000     5.000000  \n",
       "50%       3.180000     0.470000    10.400000     6.000000  \n",
       "75%       3.280000     0.550000    11.400000     6.000000  \n",
       "max       3.820000     1.080000    14.200000     9.000000  "
      ]
     },
     "execution_count": 13,
     "metadata": {},
     "output_type": "execute_result"
    }
   ],
   "source": [
    "wdf = pd.read_csv( './data/winequality-white.csv', sep=';' )\n",
    "# wdf[ 'wine' ] = 2\n",
    "wdf.describe()"
   ]
  },
  {
   "cell_type": "code",
   "execution_count": 14,
   "metadata": {
    "collapsed": false
   },
   "outputs": [
    {
     "data": {
      "text/html": [
       "<div>\n",
       "<table border=\"1\" class=\"dataframe\">\n",
       "  <thead>\n",
       "    <tr style=\"text-align: right;\">\n",
       "      <th></th>\n",
       "      <th>fixed acidity</th>\n",
       "      <th>volatile acidity</th>\n",
       "      <th>citric acid</th>\n",
       "      <th>residual sugar</th>\n",
       "      <th>chlorides</th>\n",
       "      <th>free sulfur dioxide</th>\n",
       "      <th>total sulfur dioxide</th>\n",
       "      <th>density</th>\n",
       "      <th>pH</th>\n",
       "      <th>sulphates</th>\n",
       "      <th>alcohol</th>\n",
       "      <th>quality</th>\n",
       "    </tr>\n",
       "  </thead>\n",
       "  <tbody>\n",
       "    <tr>\n",
       "      <th>0</th>\n",
       "      <td>7.4</td>\n",
       "      <td>0.70</td>\n",
       "      <td>0.00</td>\n",
       "      <td>1.9</td>\n",
       "      <td>0.076</td>\n",
       "      <td>11.0</td>\n",
       "      <td>34.0</td>\n",
       "      <td>0.9978</td>\n",
       "      <td>3.51</td>\n",
       "      <td>0.56</td>\n",
       "      <td>9.4</td>\n",
       "      <td>5</td>\n",
       "    </tr>\n",
       "    <tr>\n",
       "      <th>1</th>\n",
       "      <td>7.8</td>\n",
       "      <td>0.88</td>\n",
       "      <td>0.00</td>\n",
       "      <td>2.6</td>\n",
       "      <td>0.098</td>\n",
       "      <td>25.0</td>\n",
       "      <td>67.0</td>\n",
       "      <td>0.9968</td>\n",
       "      <td>3.20</td>\n",
       "      <td>0.68</td>\n",
       "      <td>9.8</td>\n",
       "      <td>5</td>\n",
       "    </tr>\n",
       "    <tr>\n",
       "      <th>2</th>\n",
       "      <td>7.8</td>\n",
       "      <td>0.76</td>\n",
       "      <td>0.04</td>\n",
       "      <td>2.3</td>\n",
       "      <td>0.092</td>\n",
       "      <td>15.0</td>\n",
       "      <td>54.0</td>\n",
       "      <td>0.9970</td>\n",
       "      <td>3.26</td>\n",
       "      <td>0.65</td>\n",
       "      <td>9.8</td>\n",
       "      <td>5</td>\n",
       "    </tr>\n",
       "    <tr>\n",
       "      <th>3</th>\n",
       "      <td>11.2</td>\n",
       "      <td>0.28</td>\n",
       "      <td>0.56</td>\n",
       "      <td>1.9</td>\n",
       "      <td>0.075</td>\n",
       "      <td>17.0</td>\n",
       "      <td>60.0</td>\n",
       "      <td>0.9980</td>\n",
       "      <td>3.16</td>\n",
       "      <td>0.58</td>\n",
       "      <td>9.8</td>\n",
       "      <td>6</td>\n",
       "    </tr>\n",
       "    <tr>\n",
       "      <th>4</th>\n",
       "      <td>7.4</td>\n",
       "      <td>0.70</td>\n",
       "      <td>0.00</td>\n",
       "      <td>1.9</td>\n",
       "      <td>0.076</td>\n",
       "      <td>11.0</td>\n",
       "      <td>34.0</td>\n",
       "      <td>0.9978</td>\n",
       "      <td>3.51</td>\n",
       "      <td>0.56</td>\n",
       "      <td>9.4</td>\n",
       "      <td>5</td>\n",
       "    </tr>\n",
       "  </tbody>\n",
       "</table>\n",
       "</div>"
      ],
      "text/plain": [
       "   fixed acidity  volatile acidity  citric acid  residual sugar  chlorides  \\\n",
       "0            7.4              0.70         0.00             1.9      0.076   \n",
       "1            7.8              0.88         0.00             2.6      0.098   \n",
       "2            7.8              0.76         0.04             2.3      0.092   \n",
       "3           11.2              0.28         0.56             1.9      0.075   \n",
       "4            7.4              0.70         0.00             1.9      0.076   \n",
       "\n",
       "   free sulfur dioxide  total sulfur dioxide  density    pH  sulphates  \\\n",
       "0                 11.0                  34.0   0.9978  3.51       0.56   \n",
       "1                 25.0                  67.0   0.9968  3.20       0.68   \n",
       "2                 15.0                  54.0   0.9970  3.26       0.65   \n",
       "3                 17.0                  60.0   0.9980  3.16       0.58   \n",
       "4                 11.0                  34.0   0.9978  3.51       0.56   \n",
       "\n",
       "   alcohol  quality  \n",
       "0      9.4        5  \n",
       "1      9.8        5  \n",
       "2      9.8        5  \n",
       "3      9.8        6  \n",
       "4      9.4        5  "
      ]
     },
     "execution_count": 14,
     "metadata": {},
     "output_type": "execute_result"
    }
   ],
   "source": [
    "df = rdf.append( wdf )\n",
    "# df = wdf\n",
    "# df.loc[ df.quality < 8, 'quality' ] = 0\n",
    "# df.loc[ df.quality >= 8, 'quality' ] = 1\n",
    "df.head()"
   ]
  },
  {
   "cell_type": "code",
   "execution_count": 15,
   "metadata": {
    "collapsed": false
   },
   "outputs": [
    {
     "name": "stdout",
     "output_type": "stream",
     "text": [
      "[3 4 5 6 7 8 9]\n"
     ]
    },
    {
     "data": {
      "text/plain": [
       "<matplotlib.axes._subplots.AxesSubplot at 0x7fc18410ea90>"
      ]
     },
     "execution_count": 15,
     "metadata": {},
     "output_type": "execute_result"
    },
    {
     "data": {
      "image/png": "[encoded data removed]",
      "text/plain": [
       "<matplotlib.figure.Figure at 0x7fc18412edd0>"
      ]
     },
     "metadata": {},
     "output_type": "display_data"
    }
   ],
   "source": [
    "print np.sort( df.quality.unique() )\n",
    "df.quality.hist( bins=len( df.quality.unique() ), figsize=( 18, 6 ) )"
   ]
  },
  {
   "cell_type": "markdown",
   "metadata": {},
   "source": [
    "# Train normal multiclass network\n",
    "The expected result is that the network would constantly outputs the class priors"
   ]
  },
  {
   "cell_type": "code",
   "execution_count": 16,
   "metadata": {
    "collapsed": false
   },
   "outputs": [
    {
     "name": "stdout",
     "output_type": "stream",
     "text": [
      "(6497, 11) (6497,)\n"
     ]
    }
   ],
   "source": [
    "train_x = df.drop( 'quality', axis=1 ).values\n",
    "train_y = df.quality.values\n",
    "print train_x.shape, train_y.shape"
   ]
  },
  {
   "cell_type": "code",
   "execution_count": 17,
   "metadata": {
    "collapsed": false
   },
   "outputs": [
    {
     "name": "stdout",
     "output_type": "stream",
     "text": [
      "(6497, 11) (6497, 7)\n"
     ]
    }
   ],
   "source": [
    "nn_train_x = ( ( train_x - train_x.mean() ) / train_x.var() )\n",
    "nn_train_y = np.array( [ train_y == i for i in np.sort( np.unique( train_y ) ) ] ).astype( int ).T\n",
    "# nn_train_y = train_y\n",
    "print nn_train_x.shape, nn_train_y.shape"
   ]
  },
  {
   "cell_type": "code",
   "execution_count": 18,
   "metadata": {
    "collapsed": false,
    "scrolled": false
   },
   "outputs": [
    {
     "name": "stdout",
     "output_type": "stream",
     "text": [
      "loss: 1.0724245472487917\n"
     ]
    }
   ],
   "source": [
    "m = keras.models.Sequential()\n",
    "m.add( keras.layers.Dense( 512, input_dim=nn_train_x.shape[ 1 ], init='glorot_normal', activation='relu' ) )\n",
    "m.add( keras.layers.Dense( 512, init='glorot_normal', activation='relu' ) )\n",
    "m.add( keras.layers.Dropout( .5 ) )\n",
    "m.add( keras.layers.Dense( 7, init='glorot_normal', activation='softmax' ) )\n",
    "# m.add( keras.layers.Dense( 1, init='glorot_normal', activation='softmax' ) )\n",
    "m.compile( loss='categorical_crossentropy', optimizer='adam' )\n",
    "# m.compile( loss='binary_crossentropy', optimizer='adam' )\n",
    "\n",
    "# h2 = MyHistory( m )\n",
    "h = m.fit( nn_train_x, nn_train_y, batch_size=1000, nb_epoch=1000, verbose=0 )#, callbacks=[ h2 ] )\n",
    "print 'loss: %r' % m.evaluate( nn_train_x, nn_train_y, verbose=0 )\n",
    "p = m.predict( nn_train_x )"
   ]
  },
  {
   "cell_type": "code",
   "execution_count": 19,
   "metadata": {
    "collapsed": false
   },
   "outputs": [],
   "source": [
    "q = np.argmax( p, axis=1 ) + train_y.min()"
   ]
  },
  {
   "cell_type": "code",
   "execution_count": 20,
   "metadata": {
    "collapsed": false
   },
   "outputs": [],
   "source": [
    "# pd.DataFrame( h2.weights ).diff().plot.line( legend=False, figsize=( 18, 6 ) )"
   ]
  },
  {
   "cell_type": "code",
   "execution_count": 21,
   "metadata": {
    "collapsed": false
   },
   "outputs": [],
   "source": [
    "# pd.DataFrame( h2.bias ).diff().plot.line( legend=False, figsize=( 18, 6 ) )"
   ]
  },
  {
   "cell_type": "code",
   "execution_count": 22,
   "metadata": {
    "collapsed": false
   },
   "outputs": [
    {
     "data": {
      "text/plain": [
       "<matplotlib.axes._subplots.AxesSubplot at 0x7fc18408a810>"
      ]
     },
     "execution_count": 22,
     "metadata": {},
     "output_type": "execute_result"
    },
    {
     "data": {
      "image/png": "[encoded data removed]",
      "text/plain": [
       "<matplotlib.figure.Figure at 0x7fc184124e90>"
      ]
     },
     "metadata": {},
     "output_type": "display_data"
    }
   ],
   "source": [
    "pd.DataFrame( h.history[ 'loss' ] ).plot.line( legend=False, figsize=( 18, 6 ) )\n",
    "# for h in hs:\n",
    "# #     pd.DataFrame( h.history[ 'loss' ] ).plot.line( legend=False, figsize=( 18, 6 ) )\n",
    "#     pt.plot( h.history[ 'loss' ] )"
   ]
  },
  {
   "cell_type": "code",
   "execution_count": 24,
   "metadata": {
    "collapsed": false
   },
   "outputs": [
    {
     "data": {
      "text/plain": [
       "array([[<matplotlib.axes._subplots.AxesSubplot object at 0x7fc188688050>]], dtype=object)"
      ]
     },
     "execution_count": 24,
     "metadata": {},
     "output_type": "execute_result"
    },
    {
     "data": {
      "image/png": "[encoded data removed]",
      "text/plain": [
       "<matplotlib.figure.Figure at 0x7fc188714090>"
      ]
     },
     "metadata": {},
     "output_type": "display_data"
    }
   ],
   "source": [
    "pd.DataFrame( q ).hist( bins=np.sort( np.unique( train_y ) ), figsize=( 18, 6 ) )"
   ]
  },
  {
   "cell_type": "code",
   "execution_count": 25,
   "metadata": {
    "collapsed": false
   },
   "outputs": [
    {
     "name": "stdout",
     "output_type": "stream",
     "text": [
      "             precision    recall  f1-score   support\n",
      "\n",
      "          3     0.4000    0.0667    0.1143        30\n",
      "          4     0.0000    0.0000    0.0000       216\n",
      "          5     0.5698    0.5440    0.5566      2138\n",
      "          6     0.5113    0.7020    0.5917      2836\n",
      "          7     0.4704    0.2428    0.3203      1079\n",
      "          8     0.0000    0.0000    0.0000       193\n",
      "          9     0.0000    0.0000    0.0000         5\n",
      "\n",
      "avg / total     0.4907    0.5261    0.4952      6497\n",
      "\n"
     ]
    },
    {
     "name": "stderr",
     "output_type": "stream",
     "text": [
      "/usr/lib64/python2.7/site-packages/sklearn/metrics/classification.py:1074: UndefinedMetricWarning: Precision and F-score are ill-defined and being set to 0.0 in labels with no predicted samples.\n",
      "  'precision', 'predicted', average, warn_for)\n"
     ]
    }
   ],
   "source": [
    "print sklearn.metrics.classification_report( train_y, q, digits=4 )"
   ]
  },
  {
   "cell_type": "code",
   "execution_count": 26,
   "metadata": {
    "collapsed": false
   },
   "outputs": [
    {
     "name": "stdout",
     "output_type": "stream",
     "text": [
      "[[   2    0   13   15    0    0    0]\n",
      " [   2    0  115   97    2    0    0]\n",
      " [   1    0 1163  957   17    0    0]\n",
      " [   0    0  652 1991  193    0    0]\n",
      " [   0    0   81  736  262    0    0]\n",
      " [   0    0   17   95   81    0    0]\n",
      " [   0    0    0    3    2    0    0]]\n"
     ]
    }
   ],
   "source": [
    "print sklearn.metrics.confusion_matrix( train_y, q )"
   ]
  },
  {
   "cell_type": "markdown",
   "metadata": {},
   "source": [
    "# Train normal two-class network"
   ]
  },
  {
   "cell_type": "code",
   "execution_count": 27,
   "metadata": {
    "collapsed": false
   },
   "outputs": [
    {
     "name": "stdout",
     "output_type": "stream",
     "text": [
      "(6497, 11) (6497,)\n"
     ]
    }
   ],
   "source": [
    "data_x = df.drop( 'quality', axis=1 ).values\n",
    "data_y = df.quality.apply( lambda x: 1 if x >= 8 else 0 ).values\n",
    "print data_x.shape, data_y.shape\n",
    "# cv = sklearn.cross_validation.StratifiedKFold( data_y, 3 )\n",
    "# print cv"
   ]
  },
  {
   "cell_type": "code",
   "execution_count": 28,
   "metadata": {
    "collapsed": false
   },
   "outputs": [
    {
     "name": "stdout",
     "output_type": "stream",
     "text": [
      "train loss: 0.12063229129713775\n"
     ]
    }
   ],
   "source": [
    "train_x, train_y = data_x, data_y\n",
    "test_x, test_y = data_x, data_y\n",
    "nn_train_x, nn_train_y = ( ( train_x - train_x.mean() ) / train_x.var() ), np.array( [ train_y == i for i in np.sort( np.unique( train_y ) ) ] ).astype( int ).T\n",
    "nn_test_x, nn_test_y = ( ( test_x - test_x.mean() ) / test_x.var() ), test_y\n",
    "\n",
    "m = keras.models.Sequential()\n",
    "m.add( keras.layers.Dense( 256, input_dim=nn_train_x.shape[ 1 ], init='glorot_normal', activation='relu' ) )\n",
    "# m.add( keras.layers.Dense( 256, init='glorot_normal', activation='relu' ) )\n",
    "m.add( keras.layers.Dense( 2, init='glorot_normal', activation='softmax' ) )\n",
    "# m.compile( loss='binary_crossentropy', optimizer='adam' )\n",
    "m.compile( loss='categorical_crossentropy', optimizer='adam' )\n",
    "\n",
    "h = m.fit( nn_train_x, nn_train_y, batch_size=1000, nb_epoch=1000, verbose=0 )\n",
    "print 'train loss: %r' % m.evaluate( nn_train_x, nn_train_y, verbose=0 )\n",
    "# print 'test loss:  %r' % m.evaluate( nn_test_x, nn_test_y, verbose=0 )\n",
    "# train_ps.append( m.predict( nn_train_x ) )\n",
    "# test_ps.append( m.predict( nn_test_x ) )"
   ]
  },
  {
   "cell_type": "code",
   "execution_count": 29,
   "metadata": {
    "collapsed": false
   },
   "outputs": [
    {
     "data": {
      "text/plain": [
       "<matplotlib.axes._subplots.AxesSubplot at 0x7fc18b075910>"
      ]
     },
     "execution_count": 29,
     "metadata": {},
     "output_type": "execute_result"
    },
    {
     "data": {
      "image/png": "[encoded data removed]",
      "text/plain": [
       "<matplotlib.figure.Figure at 0x7fc15b7d2850>"
      ]
     },
     "metadata": {},
     "output_type": "display_data"
    }
   ],
   "source": [
    "pd.DataFrame( h.history[ 'loss' ] ).plot.line( legend=False, figsize=( 18, 6 ) )"
   ]
  },
  {
   "cell_type": "code",
   "execution_count": 30,
   "metadata": {
    "collapsed": false,
    "scrolled": false
   },
   "outputs": [
    {
     "name": "stdout",
     "output_type": "stream",
     "text": [
      "             precision    recall  f1-score   support\n",
      "\n",
      "          0       0.97      1.00      0.98      6299\n",
      "          1       0.00      0.00      0.00       198\n",
      "\n",
      "avg / total       0.94      0.97      0.95      6497\n",
      "\n"
     ]
    }
   ],
   "source": [
    "print sklearn.metrics.classification_report( train_y, np.argmax( m.predict( nn_train_x ), axis=1 ) )"
   ]
  },
  {
   "cell_type": "code",
   "execution_count": 31,
   "metadata": {
    "collapsed": false,
    "scrolled": true
   },
   "outputs": [
    {
     "name": "stdout",
     "output_type": "stream",
     "text": [
      "[[6299    0]\n",
      " [ 198    0]]\n"
     ]
    }
   ],
   "source": [
    "print sklearn.metrics.confusion_matrix( train_y, np.argmax( m.predict( nn_train_x ), axis=1 ) )"
   ]
  },
  {
   "cell_type": "markdown",
   "metadata": {},
   "source": [
    "# SVM-SMOTE"
   ]
  },
  {
   "cell_type": "code",
   "execution_count": 32,
   "metadata": {
    "collapsed": false
   },
   "outputs": [
    {
     "name": "stdout",
     "output_type": "stream",
     "text": [
      "Determining classes statistics... 2 classes detected: Counter({0: 6299, 1: 198})\n",
      "Finding the 10 nearest neighbours...\n",
      "done!\n",
      "Out of 130 support vectors, 63 are noisy, 125 are in danger and 5 are safe.\n",
      "Finding the 5 nearest neighbours...\n",
      "done!\n",
      "Creating synthetic samples...Generated 3233 new samples ...\n",
      "Generated 2868 new samples ...\n",
      "done!\n",
      "(12598, 11) (12598,)\n"
     ]
    }
   ],
   "source": [
    "import unbalanced_dataset\n",
    "import unbalanced_dataset.over_sampling\n",
    "smote = unbalanced_dataset.over_sampling.SMOTE( kind='svm' )\n",
    "smote_x, smote_y = smote.fit_transform( data_x, data_y )\n",
    "print smote_x.shape, smote_y.shape"
   ]
  },
  {
   "cell_type": "code",
   "execution_count": 33,
   "metadata": {
    "collapsed": false
   },
   "outputs": [
    {
     "data": {
      "text/plain": [
       "(array([ 6299.,  6299.]),\n",
       " array([ 0. ,  0.5,  1. ]),\n",
       " <a list of 2 Patch objects>)"
      ]
     },
     "execution_count": 33,
     "metadata": {},
     "output_type": "execute_result"
    },
    {
     "data": {
      "image/png": "[encoded data removed]",
      "text/plain": [
       "<matplotlib.figure.Figure at 0x7fc15b380410>"
      ]
     },
     "metadata": {},
     "output_type": "display_data"
    }
   ],
   "source": [
    "fig, axs = pt.subplots( 1, 2, sharex=True, figsize=( 18, 6 ) )\n",
    "axs[ 0 ].hist( data_y, bins=2 )\n",
    "axs[ 1 ].hist( smote_y, bins=2 )"
   ]
  },
  {
   "cell_type": "code",
   "execution_count": 34,
   "metadata": {
    "collapsed": true
   },
   "outputs": [],
   "source": [
    "pca = sklearn.decomposition.PCA( 2 )\n",
    "data2 = pca.fit_transform( data_x )"
   ]
  },
  {
   "cell_type": "code",
   "execution_count": 35,
   "metadata": {
    "collapsed": false
   },
   "outputs": [],
   "source": [
    "pca = sklearn.decomposition.PCA( 2 )\n",
    "smote2 = pca.fit_transform( smote_x )"
   ]
  },
  {
   "cell_type": "code",
   "execution_count": 36,
   "metadata": {
    "collapsed": false
   },
   "outputs": [
    {
     "data": {
      "text/plain": [
       "<matplotlib.collections.PathCollection at 0x7fc15a87d810>"
      ]
     },
     "execution_count": 36,
     "metadata": {},
     "output_type": "execute_result"
    },
    {
     "data": {
      "image/png": "[encoded data removed]",
      "text/plain": [
       "<matplotlib.figure.Figure at 0x7fc15b32d810>"
      ]
     },
     "metadata": {},
     "output_type": "display_data"
    }
   ],
   "source": [
    "# pt.figure( figsize=( 18, 6 ) )\n",
    "fig, axs = pt.subplots( 1, 2, sharey=True, figsize=( 18, 6 ) )\n",
    "axs[ 0 ].scatter( data2[ data_y == 0 ].T[ 0 ], data2[ data_y == 0 ].T[ 1 ], c='b', marker='x' )\n",
    "axs[ 0 ].scatter( data2[ data_y == 1 ].T[ 0 ], data2[ data_y == 1 ].T[ 1 ], c='r', marker='x' )\n",
    "axs[ 1 ].scatter( smote2[ smote_y == 0 ].T[ 0 ], smote2[ smote_y == 0 ].T[ 1 ], c='b', marker='x' )\n",
    "axs[ 1 ].scatter( smote2[ smote_y == 1 ].T[ 0 ], smote2[ smote_y == 1 ].T[ 1 ], c='r', marker='x' )"
   ]
  },
  {
   "cell_type": "code",
   "execution_count": 37,
   "metadata": {
    "collapsed": false
   },
   "outputs": [],
   "source": [
    "# smotedf = pd.DataFrame( smote_x )\n",
    "# datadf = pd.DataFrame( data_x )[ data_y == 1 ].drop_duplicates()\n",
    "# print smotedf.shape, datadf.shape\n",
    "# # datadf[ data_y == 1 ]\n",
    "# # smotedf[ smotedf[ 0 ] == datadf[ data_y == 1 ][ 0 ] ]\n",
    "# # smotedf[ 0 ]\n",
    "# datadf = datadf.reset_index()\n",
    "# datadf.columns = [ 'x', 0, 1, 2, 3, 4, 5, 6, 7, 8, 9, 10 ]\n",
    "# tdf = smotedf.merge( datadf, how='left' )\n",
    "# tdf[ pd.notnull( tdf.x ) ].x.unique()"
   ]
  },
  {
   "cell_type": "code",
   "execution_count": 38,
   "metadata": {
    "collapsed": true
   },
   "outputs": [],
   "source": [
    "train_x, train_y = smote_x, smote_y\n",
    "test_x, test_y = smote_x, smote_y\n",
    "nn_train_x, nn_train_y = ( ( train_x - train_x.mean() ) / train_x.var() ), np.array( [ train_y == i for i in np.sort( np.unique( train_y ) ) ] ).astype( int ).T\n",
    "nn_test_x, nn_test_y = ( ( test_x - train_x.mean() ) / train_x.var() ), np.array( [ test_y == i for i in np.sort( np.unique( test_y ) ) ] ).astype( int ).T"
   ]
  },
  {
   "cell_type": "code",
   "execution_count": 39,
   "metadata": {
    "collapsed": false
   },
   "outputs": [
    {
     "name": "stdout",
     "output_type": "stream",
     "text": [
      "train loss: 0.084703608383597861\n"
     ]
    }
   ],
   "source": [
    "m = keras.models.Sequential()\n",
    "m.add( keras.layers.Dense( 512, input_dim=nn_train_x.shape[ 1 ], init='glorot_normal', activation='relu' ) )\n",
    "m.add( keras.layers.Dense( 512, init='glorot_normal', activation='relu' ) )\n",
    "m.add( keras.layers.Dropout( .5 ) )\n",
    "m.add( keras.layers.Dense( 2, init='glorot_normal', activation='softmax' ) )\n",
    "m.compile( loss='categorical_crossentropy', optimizer='adam' )\n",
    "\n",
    "h = m.fit( nn_train_x, nn_train_y, batch_size=1000, nb_epoch=5000, verbose=0 )\n",
    "print 'train loss: %r' % m.evaluate( nn_train_x, nn_train_y, verbose=0 )\n",
    "# print 'test loss:  %r' % m.evaluate( nn_test_x, nn_test_y, verbose=0 )\n",
    "# train_ps.append( m.predict( nn_train_x ) )\n",
    "# test_ps.append( m.predict( nn_test_x ) )"
   ]
  },
  {
   "cell_type": "code",
   "execution_count": 40,
   "metadata": {
    "collapsed": false
   },
   "outputs": [
    {
     "data": {
      "text/plain": [
       "<matplotlib.axes._subplots.AxesSubplot at 0x7fc15a89bed0>"
      ]
     },
     "execution_count": 40,
     "metadata": {},
     "output_type": "execute_result"
    },
    {
     "data": {
      "image/png": "[encoded data removed]",
      "text/plain": [
       "<matplotlib.figure.Figure at 0x7fc184073e50>"
      ]
     },
     "metadata": {},
     "output_type": "display_data"
    }
   ],
   "source": [
    "pd.DataFrame( h.history[ 'loss' ] ).plot.line( legend=False, figsize=( 18, 6 ) )"
   ]
  },
  {
   "cell_type": "code",
   "execution_count": 41,
   "metadata": {
    "collapsed": false,
    "scrolled": true
   },
   "outputs": [
    {
     "name": "stdout",
     "output_type": "stream",
     "text": [
      "             precision    recall  f1-score   support\n",
      "\n",
      "          0       0.98      0.96      0.97      6299\n",
      "          1       0.96      0.98      0.97      6299\n",
      "\n",
      "avg / total       0.97      0.97      0.97     12598\n",
      "\n"
     ]
    }
   ],
   "source": [
    "print sklearn.metrics.classification_report( train_y, np.argmax( m.predict( nn_train_x ), axis=1 ) )"
   ]
  },
  {
   "cell_type": "code",
   "execution_count": 42,
   "metadata": {
    "collapsed": false,
    "scrolled": true
   },
   "outputs": [
    {
     "name": "stdout",
     "output_type": "stream",
     "text": [
      "[[6053  246]\n",
      " [ 155 6144]]\n"
     ]
    }
   ],
   "source": [
    "print sklearn.metrics.confusion_matrix( train_y, np.argmax( m.predict( nn_train_x ), axis=1 ) )"
   ]
  },
  {
   "cell_type": "code",
   "execution_count": 43,
   "metadata": {
    "collapsed": false
   },
   "outputs": [
    {
     "name": "stdout",
     "output_type": "stream",
     "text": [
      "[[6053  246]\n",
      " [  32  166]]\n"
     ]
    }
   ],
   "source": [
    "print sklearn.metrics.confusion_matrix( data_y, np.argmax( m.predict( ( data_x - train_x.mean() ) / train_x.var() ), axis=1 ) )"
   ]
  },
  {
   "cell_type": "code",
   "execution_count": 44,
   "metadata": {
    "collapsed": false
   },
   "outputs": [
    {
     "name": "stdout",
     "output_type": "stream",
     "text": [
      "[[  0   0]\n",
      " [ 32 161]]\n"
     ]
    }
   ],
   "source": [
    "t = smote.svm_.support_[ data_y[ smote.svm_.support_ ] == 1 ]\n",
    "print sklearn.metrics.confusion_matrix( data_y[ t ], np.argmax( m.predict( ( data_x[ t ] - train_x.mean() ) / train_x.var() ), axis=1 ) )"
   ]
  },
  {
   "cell_type": "code",
   "execution_count": 45,
   "metadata": {
    "collapsed": false
   },
   "outputs": [
    {
     "name": "stdout",
     "output_type": "stream",
     "text": [
      "[[ 0  0]\n",
      " [27 36]]\n"
     ]
    }
   ],
   "source": [
    "print sklearn.metrics.confusion_matrix( data_y[ t ][ smote.noise_bool ], np.argmax( m.predict( ( data_x[ t ][ smote.noise_bool ] - train_x.mean() ) / train_x.var() ), axis=1 ) )"
   ]
  },
  {
   "cell_type": "code",
   "execution_count": 46,
   "metadata": {
    "collapsed": false
   },
   "outputs": [
    {
     "name": "stdout",
     "output_type": "stream",
     "text": [
      "[[  0   0]\n",
      " [  5 120]]\n"
     ]
    }
   ],
   "source": [
    "print sklearn.metrics.confusion_matrix( data_y[ t ][ ~smote.noise_bool ][ smote.danger_bool ], np.argmax( m.predict( ( data_x[ t ][ ~smote.noise_bool ][ smote.danger_bool ] - train_x.mean() ) / train_x.var() ), axis=1 ) )"
   ]
  },
  {
   "cell_type": "code",
   "execution_count": 47,
   "metadata": {
    "collapsed": false
   },
   "outputs": [
    {
     "name": "stdout",
     "output_type": "stream",
     "text": [
      "[[5]]\n"
     ]
    }
   ],
   "source": [
    "print sklearn.metrics.confusion_matrix( data_y[ t ][ ~smote.noise_bool ][ smote.safety_bool ], np.argmax( m.predict( ( data_x[ t ][ ~smote.noise_bool ][ smote.safety_bool ] - train_x.mean() ) / train_x.var() ), axis=1 ) )"
   ]
  },
  {
   "cell_type": "code",
   "execution_count": 48,
   "metadata": {
    "collapsed": false
   },
   "outputs": [
    {
     "name": "stdout",
     "output_type": "stream",
     "text": [
      "193\n",
      "noise: 63\n",
      "danger: 125\n",
      "safe: 5\n"
     ]
    }
   ],
   "source": [
    "print len( smote.noise_bool )\n",
    "print 'noise: %r' % smote.noise_bool.sum()\n",
    "print 'danger: %r' % smote.danger_bool.sum()\n",
    "print 'safe: %r' % smote.safety_bool.sum()"
   ]
  },
  {
   "cell_type": "markdown",
   "metadata": {},
   "source": [
    "# Approachs for imbalanced dataset\n",
    "- sampling techniques\n",
    "    - monte carlo sampling\n",
    "    - synthetic minority over sampling technique (SMOTE)\n",
    "- cost sensitive learning\n",
    "    - classifier evaluation\n",
    "    - minimizing expected cost\n",
    "    - instance reweighting\n",
    "    - class probability threshold\n",
    "- one class learning\n",
    "- bagging techniques\n",
    "    - balance cascade\n",
    "    - easy ensemble"
   ]
  }
 ],
 "metadata": {
  "kernelspec": {
   "display_name": "Python 2",
   "language": "python",
   "name": "python2"
  },
  "language_info": {
   "codemirror_mode": {
    "name": "ipython",
    "version": 2
   },
   "file_extension": ".py",
   "mimetype": "text/x-python",
   "name": "python",
   "nbconvert_exporter": "python",
   "pygments_lexer": "ipython2",
   "version": "2.7.11"
  }
 },
 "nbformat": 4,
 "nbformat_minor": 0
}
