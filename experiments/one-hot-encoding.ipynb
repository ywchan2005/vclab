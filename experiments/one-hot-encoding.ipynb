{
 "cells": [
  {
   "cell_type": "code",
   "execution_count": 34,
   "metadata": {
    "collapsed": false
   },
   "outputs": [
    {
     "name": "stdout",
     "output_type": "stream",
     "text": [
      "The autotime extension is already loaded. To reload it, use:\n",
      "  %reload_ext autotime\n",
      "time: 12.7 ms\n"
     ]
    }
   ],
   "source": [
    "%matplotlib inline\n",
    "%load_ext autotime\n",
    "\n",
    "import datetime\n",
    "import keras\n",
    "import matplotlib\n",
    "import matplotlib.pyplot as pt\n",
    "import numpy as np\n",
    "import pandas as pd\n",
    "import seaborn as sb\n",
    "import sklearn\n",
    "import sklearn.cross_validation\n",
    "import sklearn.manifold\n",
    "import sklearn.metrics"
   ]
  },
  {
   "cell_type": "code",
   "execution_count": 35,
   "metadata": {
    "collapsed": false
   },
   "outputs": [
    {
     "name": "stdout",
     "output_type": "stream",
     "text": [
      "time: 14.8 ms\n"
     ]
    }
   ],
   "source": [
    "class MyHistory( keras.callbacks.Callback ):\n",
    "    def __init__( self, m ):\n",
    "        self.m = m\n",
    "    def on_train_begin( self, logs={} ):\n",
    "        self.weights = []\n",
    "        self.bias = []\n",
    "#         self.updates = []\n",
    "#         self.total_loss = []\n",
    "    def on_epoch_end( self, epoch, logs={} ):\n",
    "        ws = []\n",
    "        bs = []\n",
    "        for layer in self.m.layers:\n",
    "            ws = np.append( ws, layer.get_weights()[ 0 ] )\n",
    "            bs = np.append( bs, layer.get_weights()[ 1 ] )\n",
    "        self.weights.append( ws )\n",
    "        self.bias.append( bs )\n",
    "#         self.updates.append( self.m.model.train_function.updated[ 2 ] )\n",
    "#         self.total_loss.append( self.m.model.train_function.updated[ 0 ] )"
   ]
  },
  {
   "cell_type": "markdown",
   "metadata": {},
   "source": [
    "# Load data"
   ]
  },
  {
   "cell_type": "code",
   "execution_count": 36,
   "metadata": {
    "collapsed": false
   },
   "outputs": [
    {
     "name": "stdout",
     "output_type": "stream",
     "text": [
      "(746, 9)\n"
     ]
    },
    {
     "data": {
      "text/html": [
       "<div>\n",
       "<table border=\"1\" class=\"dataframe\">\n",
       "  <thead>\n",
       "    <tr style=\"text-align: right;\">\n",
       "      <th></th>\n",
       "      <th>cleave</th>\n",
       "    </tr>\n",
       "  </thead>\n",
       "  <tbody>\n",
       "    <tr>\n",
       "      <th>count</th>\n",
       "      <td>746.000000</td>\n",
       "    </tr>\n",
       "    <tr>\n",
       "      <th>mean</th>\n",
       "      <td>0.077748</td>\n",
       "    </tr>\n",
       "    <tr>\n",
       "      <th>std</th>\n",
       "      <td>0.997642</td>\n",
       "    </tr>\n",
       "    <tr>\n",
       "      <th>min</th>\n",
       "      <td>-1.000000</td>\n",
       "    </tr>\n",
       "    <tr>\n",
       "      <th>25%</th>\n",
       "      <td>-1.000000</td>\n",
       "    </tr>\n",
       "    <tr>\n",
       "      <th>50%</th>\n",
       "      <td>1.000000</td>\n",
       "    </tr>\n",
       "    <tr>\n",
       "      <th>75%</th>\n",
       "      <td>1.000000</td>\n",
       "    </tr>\n",
       "    <tr>\n",
       "      <th>max</th>\n",
       "      <td>1.000000</td>\n",
       "    </tr>\n",
       "  </tbody>\n",
       "</table>\n",
       "</div>"
      ],
      "text/plain": [
       "           cleave\n",
       "count  746.000000\n",
       "mean     0.077748\n",
       "std      0.997642\n",
       "min     -1.000000\n",
       "25%     -1.000000\n",
       "50%      1.000000\n",
       "75%      1.000000\n",
       "max      1.000000"
      ]
     },
     "execution_count": 36,
     "metadata": {},
     "output_type": "execute_result"
    },
    {
     "name": "stdout",
     "output_type": "stream",
     "text": [
      "time: 25.3 ms\n"
     ]
    }
   ],
   "source": [
    "df1 = pd.read_csv( './data/746Data.txt', header=None )\n",
    "df1.columns = [ 0, 'cleave' ]\n",
    "for i in xrange( 8 ):\n",
    "    df1[ 'f%r' % ( i + 1 ) ] = df1[ 0 ].str.slice( i, i + 1 )\n",
    "df1 = df1.drop( 0, axis=1 )\n",
    "print df1.shape\n",
    "df1.describe()"
   ]
  },
  {
   "cell_type": "code",
   "execution_count": 37,
   "metadata": {
    "collapsed": false
   },
   "outputs": [
    {
     "name": "stdout",
     "output_type": "stream",
     "text": [
      "(1625, 9)\n"
     ]
    },
    {
     "data": {
      "text/html": [
       "<div>\n",
       "<table border=\"1\" class=\"dataframe\">\n",
       "  <thead>\n",
       "    <tr style=\"text-align: right;\">\n",
       "      <th></th>\n",
       "      <th>cleave</th>\n",
       "    </tr>\n",
       "  </thead>\n",
       "  <tbody>\n",
       "    <tr>\n",
       "      <th>count</th>\n",
       "      <td>1625.000000</td>\n",
       "    </tr>\n",
       "    <tr>\n",
       "      <th>mean</th>\n",
       "      <td>-0.538462</td>\n",
       "    </tr>\n",
       "    <tr>\n",
       "      <th>std</th>\n",
       "      <td>0.842909</td>\n",
       "    </tr>\n",
       "    <tr>\n",
       "      <th>min</th>\n",
       "      <td>-1.000000</td>\n",
       "    </tr>\n",
       "    <tr>\n",
       "      <th>25%</th>\n",
       "      <td>-1.000000</td>\n",
       "    </tr>\n",
       "    <tr>\n",
       "      <th>50%</th>\n",
       "      <td>-1.000000</td>\n",
       "    </tr>\n",
       "    <tr>\n",
       "      <th>75%</th>\n",
       "      <td>-1.000000</td>\n",
       "    </tr>\n",
       "    <tr>\n",
       "      <th>max</th>\n",
       "      <td>1.000000</td>\n",
       "    </tr>\n",
       "  </tbody>\n",
       "</table>\n",
       "</div>"
      ],
      "text/plain": [
       "            cleave\n",
       "count  1625.000000\n",
       "mean     -0.538462\n",
       "std       0.842909\n",
       "min      -1.000000\n",
       "25%      -1.000000\n",
       "50%      -1.000000\n",
       "75%      -1.000000\n",
       "max       1.000000"
      ]
     },
     "execution_count": 37,
     "metadata": {},
     "output_type": "execute_result"
    },
    {
     "name": "stdout",
     "output_type": "stream",
     "text": [
      "time: 33.8 ms\n"
     ]
    }
   ],
   "source": [
    "df2 = pd.read_csv( './data/1625Data.txt', header=None )\n",
    "df2.columns = [ 0, 'cleave' ]\n",
    "for i in xrange( 8 ):\n",
    "    df2[ 'f%r' % ( i + 1 ) ] = df2[ 0 ].str.slice( i, i + 1 )\n",
    "df2 = df2.drop( 0, axis=1 )\n",
    "print df2.shape\n",
    "df2.describe()"
   ]
  },
  {
   "cell_type": "code",
   "execution_count": 38,
   "metadata": {
    "collapsed": false
   },
   "outputs": [
    {
     "name": "stdout",
     "output_type": "stream",
     "text": [
      "(3272, 9)\n"
     ]
    },
    {
     "data": {
      "text/html": [
       "<div>\n",
       "<table border=\"1\" class=\"dataframe\">\n",
       "  <thead>\n",
       "    <tr style=\"text-align: right;\">\n",
       "      <th></th>\n",
       "      <th>cleave</th>\n",
       "    </tr>\n",
       "  </thead>\n",
       "  <tbody>\n",
       "    <tr>\n",
       "      <th>count</th>\n",
       "      <td>3272.000000</td>\n",
       "    </tr>\n",
       "    <tr>\n",
       "      <th>mean</th>\n",
       "      <td>-0.734719</td>\n",
       "    </tr>\n",
       "    <tr>\n",
       "      <th>std</th>\n",
       "      <td>0.678475</td>\n",
       "    </tr>\n",
       "    <tr>\n",
       "      <th>min</th>\n",
       "      <td>-1.000000</td>\n",
       "    </tr>\n",
       "    <tr>\n",
       "      <th>25%</th>\n",
       "      <td>-1.000000</td>\n",
       "    </tr>\n",
       "    <tr>\n",
       "      <th>50%</th>\n",
       "      <td>-1.000000</td>\n",
       "    </tr>\n",
       "    <tr>\n",
       "      <th>75%</th>\n",
       "      <td>-1.000000</td>\n",
       "    </tr>\n",
       "    <tr>\n",
       "      <th>max</th>\n",
       "      <td>1.000000</td>\n",
       "    </tr>\n",
       "  </tbody>\n",
       "</table>\n",
       "</div>"
      ],
      "text/plain": [
       "            cleave\n",
       "count  3272.000000\n",
       "mean     -0.734719\n",
       "std       0.678475\n",
       "min      -1.000000\n",
       "25%      -1.000000\n",
       "50%      -1.000000\n",
       "75%      -1.000000\n",
       "max       1.000000"
      ]
     },
     "execution_count": 38,
     "metadata": {},
     "output_type": "execute_result"
    },
    {
     "name": "stdout",
     "output_type": "stream",
     "text": [
      "time: 323 ms\n"
     ]
    }
   ],
   "source": [
    "df3 = pd.read_csv( './data/schillingData.txt', header=None )\n",
    "df3.columns = [ 0, 'cleave' ]\n",
    "for i in xrange( 8 ):\n",
    "    df3[ 'f%r' % ( i + 1 ) ] = df3[ 0 ].str.slice( i, i + 1 )\n",
    "df3 = df3.drop( 0, axis=1 )\n",
    "print df3.shape\n",
    "df3.describe()"
   ]
  },
  {
   "cell_type": "code",
   "execution_count": 39,
   "metadata": {
    "collapsed": false
   },
   "outputs": [
    {
     "name": "stdout",
     "output_type": "stream",
     "text": [
      "(947, 9)\n"
     ]
    },
    {
     "data": {
      "text/html": [
       "<div>\n",
       "<table border=\"1\" class=\"dataframe\">\n",
       "  <thead>\n",
       "    <tr style=\"text-align: right;\">\n",
       "      <th></th>\n",
       "      <th>cleave</th>\n",
       "    </tr>\n",
       "  </thead>\n",
       "  <tbody>\n",
       "    <tr>\n",
       "      <th>count</th>\n",
       "      <td>947.000000</td>\n",
       "    </tr>\n",
       "    <tr>\n",
       "      <th>mean</th>\n",
       "      <td>-0.685322</td>\n",
       "    </tr>\n",
       "    <tr>\n",
       "      <th>std</th>\n",
       "      <td>0.728625</td>\n",
       "    </tr>\n",
       "    <tr>\n",
       "      <th>min</th>\n",
       "      <td>-1.000000</td>\n",
       "    </tr>\n",
       "    <tr>\n",
       "      <th>25%</th>\n",
       "      <td>-1.000000</td>\n",
       "    </tr>\n",
       "    <tr>\n",
       "      <th>50%</th>\n",
       "      <td>-1.000000</td>\n",
       "    </tr>\n",
       "    <tr>\n",
       "      <th>75%</th>\n",
       "      <td>-1.000000</td>\n",
       "    </tr>\n",
       "    <tr>\n",
       "      <th>max</th>\n",
       "      <td>1.000000</td>\n",
       "    </tr>\n",
       "  </tbody>\n",
       "</table>\n",
       "</div>"
      ],
      "text/plain": [
       "           cleave\n",
       "count  947.000000\n",
       "mean    -0.685322\n",
       "std      0.728625\n",
       "min     -1.000000\n",
       "25%     -1.000000\n",
       "50%     -1.000000\n",
       "75%     -1.000000\n",
       "max      1.000000"
      ]
     },
     "execution_count": 39,
     "metadata": {},
     "output_type": "execute_result"
    },
    {
     "name": "stdout",
     "output_type": "stream",
     "text": [
      "time: 141 ms\n"
     ]
    }
   ],
   "source": [
    "df4 = pd.read_csv( './data/impensData.txt', header=None )\n",
    "df4.columns = [ 0, 'cleave' ]\n",
    "for i in xrange( 8 ):\n",
    "    df4[ 'f%r' % ( i + 1 ) ] = df4[ 0 ].str.slice( i, i + 1 )\n",
    "df4 = df4.drop( 0, axis=1 )\n",
    "print df4.shape\n",
    "df4.describe()"
   ]
  },
  {
   "cell_type": "code",
   "execution_count": 40,
   "metadata": {
    "collapsed": false
   },
   "outputs": [
    {
     "name": "stdout",
     "output_type": "stream",
     "text": [
      "(6590, 9)\n"
     ]
    },
    {
     "data": {
      "text/html": [
       "<div>\n",
       "<table border=\"1\" class=\"dataframe\">\n",
       "  <thead>\n",
       "    <tr style=\"text-align: right;\">\n",
       "      <th></th>\n",
       "      <th>cleave</th>\n",
       "      <th>f1</th>\n",
       "      <th>f2</th>\n",
       "      <th>f3</th>\n",
       "      <th>f4</th>\n",
       "      <th>f5</th>\n",
       "      <th>f6</th>\n",
       "      <th>f7</th>\n",
       "      <th>f8</th>\n",
       "    </tr>\n",
       "  </thead>\n",
       "  <tbody>\n",
       "    <tr>\n",
       "      <th>0</th>\n",
       "      <td>-1</td>\n",
       "      <td>A</td>\n",
       "      <td>A</td>\n",
       "      <td>A</td>\n",
       "      <td>K</td>\n",
       "      <td>F</td>\n",
       "      <td>E</td>\n",
       "      <td>R</td>\n",
       "      <td>Q</td>\n",
       "    </tr>\n",
       "    <tr>\n",
       "      <th>1</th>\n",
       "      <td>-1</td>\n",
       "      <td>A</td>\n",
       "      <td>A</td>\n",
       "      <td>A</td>\n",
       "      <td>M</td>\n",
       "      <td>K</td>\n",
       "      <td>R</td>\n",
       "      <td>H</td>\n",
       "      <td>G</td>\n",
       "    </tr>\n",
       "    <tr>\n",
       "      <th>2</th>\n",
       "      <td>-1</td>\n",
       "      <td>A</td>\n",
       "      <td>A</td>\n",
       "      <td>A</td>\n",
       "      <td>M</td>\n",
       "      <td>S</td>\n",
       "      <td>S</td>\n",
       "      <td>A</td>\n",
       "      <td>I</td>\n",
       "    </tr>\n",
       "    <tr>\n",
       "      <th>3</th>\n",
       "      <td>-1</td>\n",
       "      <td>A</td>\n",
       "      <td>A</td>\n",
       "      <td>K</td>\n",
       "      <td>F</td>\n",
       "      <td>E</td>\n",
       "      <td>R</td>\n",
       "      <td>Q</td>\n",
       "      <td>H</td>\n",
       "    </tr>\n",
       "    <tr>\n",
       "      <th>4</th>\n",
       "      <td>-1</td>\n",
       "      <td>A</td>\n",
       "      <td>A</td>\n",
       "      <td>K</td>\n",
       "      <td>F</td>\n",
       "      <td>E</td>\n",
       "      <td>S</td>\n",
       "      <td>N</td>\n",
       "      <td>F</td>\n",
       "    </tr>\n",
       "  </tbody>\n",
       "</table>\n",
       "</div>"
      ],
      "text/plain": [
       "   cleave f1 f2 f3 f4 f5 f6 f7 f8\n",
       "0      -1  A  A  A  K  F  E  R  Q\n",
       "1      -1  A  A  A  M  K  R  H  G\n",
       "2      -1  A  A  A  M  S  S  A  I\n",
       "3      -1  A  A  K  F  E  R  Q  H\n",
       "4      -1  A  A  K  F  E  S  N  F"
      ]
     },
     "execution_count": 40,
     "metadata": {},
     "output_type": "execute_result"
    },
    {
     "name": "stdout",
     "output_type": "stream",
     "text": [
      "time: 72.5 ms\n"
     ]
    }
   ],
   "source": [
    "df = df1.append( df2 ).append( df3 ).append( df4 ).reset_index( drop=True )\n",
    "print df.shape\n",
    "df.head()"
   ]
  },
  {
   "cell_type": "markdown",
   "metadata": {},
   "source": [
    "# Train two-class network without one-hot encoding"
   ]
  },
  {
   "cell_type": "code",
   "execution_count": 41,
   "metadata": {
    "collapsed": false
   },
   "outputs": [
    {
     "name": "stdout",
     "output_type": "stream",
     "text": [
      "(6590, 9)\n"
     ]
    },
    {
     "data": {
      "text/html": [
       "<div>\n",
       "<table border=\"1\" class=\"dataframe\">\n",
       "  <thead>\n",
       "    <tr style=\"text-align: right;\">\n",
       "      <th></th>\n",
       "      <th>cleave</th>\n",
       "      <th>f1</th>\n",
       "      <th>f2</th>\n",
       "      <th>f3</th>\n",
       "      <th>f4</th>\n",
       "      <th>f5</th>\n",
       "      <th>f6</th>\n",
       "      <th>f7</th>\n",
       "      <th>f8</th>\n",
       "    </tr>\n",
       "  </thead>\n",
       "  <tbody>\n",
       "    <tr>\n",
       "      <th>0</th>\n",
       "      <td>-1</td>\n",
       "      <td>0</td>\n",
       "      <td>0</td>\n",
       "      <td>0</td>\n",
       "      <td>8</td>\n",
       "      <td>4</td>\n",
       "      <td>3</td>\n",
       "      <td>14</td>\n",
       "      <td>13</td>\n",
       "    </tr>\n",
       "    <tr>\n",
       "      <th>1</th>\n",
       "      <td>-1</td>\n",
       "      <td>0</td>\n",
       "      <td>0</td>\n",
       "      <td>0</td>\n",
       "      <td>10</td>\n",
       "      <td>8</td>\n",
       "      <td>14</td>\n",
       "      <td>6</td>\n",
       "      <td>5</td>\n",
       "    </tr>\n",
       "    <tr>\n",
       "      <th>2</th>\n",
       "      <td>-1</td>\n",
       "      <td>0</td>\n",
       "      <td>0</td>\n",
       "      <td>0</td>\n",
       "      <td>10</td>\n",
       "      <td>15</td>\n",
       "      <td>15</td>\n",
       "      <td>0</td>\n",
       "      <td>7</td>\n",
       "    </tr>\n",
       "    <tr>\n",
       "      <th>3</th>\n",
       "      <td>-1</td>\n",
       "      <td>0</td>\n",
       "      <td>0</td>\n",
       "      <td>8</td>\n",
       "      <td>4</td>\n",
       "      <td>3</td>\n",
       "      <td>14</td>\n",
       "      <td>13</td>\n",
       "      <td>6</td>\n",
       "    </tr>\n",
       "    <tr>\n",
       "      <th>4</th>\n",
       "      <td>-1</td>\n",
       "      <td>0</td>\n",
       "      <td>0</td>\n",
       "      <td>8</td>\n",
       "      <td>4</td>\n",
       "      <td>3</td>\n",
       "      <td>15</td>\n",
       "      <td>11</td>\n",
       "      <td>4</td>\n",
       "    </tr>\n",
       "  </tbody>\n",
       "</table>\n",
       "</div>"
      ],
      "text/plain": [
       "   cleave  f1  f2  f3  f4  f5  f6  f7  f8\n",
       "0      -1   0   0   0   8   4   3  14  13\n",
       "1      -1   0   0   0  10   8  14   6   5\n",
       "2      -1   0   0   0  10  15  15   0   7\n",
       "3      -1   0   0   8   4   3  14  13   6\n",
       "4      -1   0   0   8   4   3  15  11   4"
      ]
     },
     "execution_count": 41,
     "metadata": {},
     "output_type": "execute_result"
    },
    {
     "name": "stdout",
     "output_type": "stream",
     "text": [
      "time: 30.7 ms\n"
     ]
    }
   ],
   "source": [
    "ndf = df.copy()\n",
    "for i in xrange( 1, 8 + 1 ):\n",
    "    ndf[ 'f%r' % i ] = ndf[ 'f%r' % i ].astype( 'category' ).cat.codes\n",
    "print ndf.shape\n",
    "ndf.head()"
   ]
  },
  {
   "cell_type": "code",
   "execution_count": 42,
   "metadata": {
    "collapsed": false
   },
   "outputs": [
    {
     "name": "stdout",
     "output_type": "stream",
     "text": [
      "(6590, 8) (6590,)\n",
      "time: 6.16 ms\n"
     ]
    }
   ],
   "source": [
    "data_x = ndf.drop( 'cleave', axis=1 ).values\n",
    "data_y = ndf.cleave.values\n",
    "print data_x.shape, data_y.shape"
   ]
  },
  {
   "cell_type": "code",
   "execution_count": 43,
   "metadata": {
    "collapsed": false
   },
   "outputs": [
    {
     "name": "stdout",
     "output_type": "stream",
     "text": [
      "(6590, 8) (6590, 2)\n",
      "time: 11.8 ms\n"
     ]
    }
   ],
   "source": [
    "train_x, train_y = data_x, data_y\n",
    "nn_train_x, nn_train_y = ( ( train_x - train_x.mean() ) / train_x.var() ), np.array( [ train_y == i for i in np.sort( np.unique( train_y ) ) ] ).astype( int ).T\n",
    "print nn_train_x.shape, nn_train_y.shape"
   ]
  },
  {
   "cell_type": "code",
   "execution_count": 44,
   "metadata": {
    "collapsed": false
   },
   "outputs": [
    {
     "name": "stdout",
     "output_type": "stream",
     "text": [
      "train loss: 0.44713629840538244\n",
      "time: 40.5 s\n"
     ]
    }
   ],
   "source": [
    "m = keras.models.Sequential()\n",
    "m.add( keras.layers.Dense( 16, input_dim=nn_train_x.shape[ 1 ], init='glorot_normal', activation='relu' ) )\n",
    "m.add( keras.layers.Dropout( .5 ) )\n",
    "m.add( keras.layers.Dense( 2, init='glorot_normal', activation='softmax' ) )\n",
    "m.compile( loss='categorical_crossentropy', optimizer='adam' )\n",
    "\n",
    "h = m.fit( nn_train_x, nn_train_y, batch_size=1000, nb_epoch=1000, verbose=0 )\n",
    "print 'train loss: %r' % m.evaluate( nn_train_x, nn_train_y, verbose=0 )"
   ]
  },
  {
   "cell_type": "code",
   "execution_count": 45,
   "metadata": {
    "collapsed": false
   },
   "outputs": [
    {
     "data": {
      "text/plain": [
       "<matplotlib.axes._subplots.AxesSubplot at 0x7f339ce9b6d0>"
      ]
     },
     "execution_count": 45,
     "metadata": {},
     "output_type": "execute_result"
    },
    {
     "data": {
      "image/png": "[encoded data removed]",
      "text/plain": [
       "<matplotlib.figure.Figure at 0x7f339c3c2290>"
      ]
     },
     "metadata": {},
     "output_type": "display_data"
    },
    {
     "name": "stdout",
     "output_type": "stream",
     "text": [
      "time: 231 ms\n"
     ]
    }
   ],
   "source": [
    "pd.DataFrame( h.history[ 'loss' ] ).plot.line( legend=False, figsize=( 18, 6 ) )"
   ]
  },
  {
   "cell_type": "code",
   "execution_count": 46,
   "metadata": {
    "collapsed": false,
    "scrolled": false
   },
   "outputs": [
    {
     "name": "stdout",
     "output_type": "stream",
     "text": [
      "             precision    recall  f1-score   support\n",
      "\n",
      "         -1       0.00      0.00      0.00      5230\n",
      "          0       0.00      0.00      0.00         0\n",
      "          1       0.87      0.11      0.19      1360\n",
      "\n",
      "avg / total       0.18      0.02      0.04      6590\n",
      "\n",
      "time: 197 ms\n"
     ]
    }
   ],
   "source": [
    "print sklearn.metrics.classification_report( train_y, np.argmax( m.predict( nn_train_x ), axis=1 ) )"
   ]
  },
  {
   "cell_type": "code",
   "execution_count": 47,
   "metadata": {
    "collapsed": false,
    "scrolled": true
   },
   "outputs": [
    {
     "name": "stdout",
     "output_type": "stream",
     "text": [
      "[[   0 5208   22]\n",
      " [   0    0    0]\n",
      " [   0 1211  149]]\n",
      "time: 156 ms\n"
     ]
    }
   ],
   "source": [
    "print sklearn.metrics.confusion_matrix( train_y, np.argmax( m.predict( nn_train_x ), axis=1 ) )"
   ]
  },
  {
   "cell_type": "markdown",
   "metadata": {},
   "source": [
    "# Train two-class network with one-hot encoding"
   ]
  },
  {
   "cell_type": "code",
   "execution_count": 193,
   "metadata": {
    "collapsed": false
   },
   "outputs": [
    {
     "name": "stdout",
     "output_type": "stream",
     "text": [
      "(6590, 161)\n"
     ]
    },
    {
     "data": {
      "text/html": [
       "<div>\n",
       "<table border=\"1\" class=\"dataframe\">\n",
       "  <thead>\n",
       "    <tr style=\"text-align: right;\">\n",
       "      <th></th>\n",
       "      <th>A</th>\n",
       "      <th>C</th>\n",
       "      <th>D</th>\n",
       "      <th>E</th>\n",
       "      <th>F</th>\n",
       "      <th>G</th>\n",
       "      <th>H</th>\n",
       "      <th>I</th>\n",
       "      <th>K</th>\n",
       "      <th>L</th>\n",
       "      <th>...</th>\n",
       "      <th>N</th>\n",
       "      <th>P</th>\n",
       "      <th>Q</th>\n",
       "      <th>R</th>\n",
       "      <th>S</th>\n",
       "      <th>T</th>\n",
       "      <th>V</th>\n",
       "      <th>W</th>\n",
       "      <th>Y</th>\n",
       "      <th>cleave</th>\n",
       "    </tr>\n",
       "  </thead>\n",
       "  <tbody>\n",
       "    <tr>\n",
       "      <th>0</th>\n",
       "      <td>1.0</td>\n",
       "      <td>0.0</td>\n",
       "      <td>0.0</td>\n",
       "      <td>0.0</td>\n",
       "      <td>0.0</td>\n",
       "      <td>0.0</td>\n",
       "      <td>0.0</td>\n",
       "      <td>0.0</td>\n",
       "      <td>0.0</td>\n",
       "      <td>0.0</td>\n",
       "      <td>...</td>\n",
       "      <td>0.0</td>\n",
       "      <td>0.0</td>\n",
       "      <td>1.0</td>\n",
       "      <td>0.0</td>\n",
       "      <td>0.0</td>\n",
       "      <td>0.0</td>\n",
       "      <td>0.0</td>\n",
       "      <td>0.0</td>\n",
       "      <td>0.0</td>\n",
       "      <td>-1</td>\n",
       "    </tr>\n",
       "    <tr>\n",
       "      <th>1</th>\n",
       "      <td>1.0</td>\n",
       "      <td>0.0</td>\n",
       "      <td>0.0</td>\n",
       "      <td>0.0</td>\n",
       "      <td>0.0</td>\n",
       "      <td>0.0</td>\n",
       "      <td>0.0</td>\n",
       "      <td>0.0</td>\n",
       "      <td>0.0</td>\n",
       "      <td>0.0</td>\n",
       "      <td>...</td>\n",
       "      <td>0.0</td>\n",
       "      <td>0.0</td>\n",
       "      <td>0.0</td>\n",
       "      <td>0.0</td>\n",
       "      <td>0.0</td>\n",
       "      <td>0.0</td>\n",
       "      <td>0.0</td>\n",
       "      <td>0.0</td>\n",
       "      <td>0.0</td>\n",
       "      <td>-1</td>\n",
       "    </tr>\n",
       "    <tr>\n",
       "      <th>2</th>\n",
       "      <td>1.0</td>\n",
       "      <td>0.0</td>\n",
       "      <td>0.0</td>\n",
       "      <td>0.0</td>\n",
       "      <td>0.0</td>\n",
       "      <td>0.0</td>\n",
       "      <td>0.0</td>\n",
       "      <td>0.0</td>\n",
       "      <td>0.0</td>\n",
       "      <td>0.0</td>\n",
       "      <td>...</td>\n",
       "      <td>0.0</td>\n",
       "      <td>0.0</td>\n",
       "      <td>0.0</td>\n",
       "      <td>0.0</td>\n",
       "      <td>0.0</td>\n",
       "      <td>0.0</td>\n",
       "      <td>0.0</td>\n",
       "      <td>0.0</td>\n",
       "      <td>0.0</td>\n",
       "      <td>-1</td>\n",
       "    </tr>\n",
       "    <tr>\n",
       "      <th>3</th>\n",
       "      <td>1.0</td>\n",
       "      <td>0.0</td>\n",
       "      <td>0.0</td>\n",
       "      <td>0.0</td>\n",
       "      <td>0.0</td>\n",
       "      <td>0.0</td>\n",
       "      <td>0.0</td>\n",
       "      <td>0.0</td>\n",
       "      <td>0.0</td>\n",
       "      <td>0.0</td>\n",
       "      <td>...</td>\n",
       "      <td>0.0</td>\n",
       "      <td>0.0</td>\n",
       "      <td>0.0</td>\n",
       "      <td>0.0</td>\n",
       "      <td>0.0</td>\n",
       "      <td>0.0</td>\n",
       "      <td>0.0</td>\n",
       "      <td>0.0</td>\n",
       "      <td>0.0</td>\n",
       "      <td>-1</td>\n",
       "    </tr>\n",
       "    <tr>\n",
       "      <th>4</th>\n",
       "      <td>1.0</td>\n",
       "      <td>0.0</td>\n",
       "      <td>0.0</td>\n",
       "      <td>0.0</td>\n",
       "      <td>0.0</td>\n",
       "      <td>0.0</td>\n",
       "      <td>0.0</td>\n",
       "      <td>0.0</td>\n",
       "      <td>0.0</td>\n",
       "      <td>0.0</td>\n",
       "      <td>...</td>\n",
       "      <td>0.0</td>\n",
       "      <td>0.0</td>\n",
       "      <td>0.0</td>\n",
       "      <td>0.0</td>\n",
       "      <td>0.0</td>\n",
       "      <td>0.0</td>\n",
       "      <td>0.0</td>\n",
       "      <td>0.0</td>\n",
       "      <td>0.0</td>\n",
       "      <td>-1</td>\n",
       "    </tr>\n",
       "  </tbody>\n",
       "</table>\n",
       "<p>5 rows × 161 columns</p>\n",
       "</div>"
      ],
      "text/plain": [
       "     A    C    D    E    F    G    H    I    K    L   ...      N    P    Q  \\\n",
       "0  1.0  0.0  0.0  0.0  0.0  0.0  0.0  0.0  0.0  0.0   ...    0.0  0.0  1.0   \n",
       "1  1.0  0.0  0.0  0.0  0.0  0.0  0.0  0.0  0.0  0.0   ...    0.0  0.0  0.0   \n",
       "2  1.0  0.0  0.0  0.0  0.0  0.0  0.0  0.0  0.0  0.0   ...    0.0  0.0  0.0   \n",
       "3  1.0  0.0  0.0  0.0  0.0  0.0  0.0  0.0  0.0  0.0   ...    0.0  0.0  0.0   \n",
       "4  1.0  0.0  0.0  0.0  0.0  0.0  0.0  0.0  0.0  0.0   ...    0.0  0.0  0.0   \n",
       "\n",
       "     R    S    T    V    W    Y  cleave  \n",
       "0  0.0  0.0  0.0  0.0  0.0  0.0      -1  \n",
       "1  0.0  0.0  0.0  0.0  0.0  0.0      -1  \n",
       "2  0.0  0.0  0.0  0.0  0.0  0.0      -1  \n",
       "3  0.0  0.0  0.0  0.0  0.0  0.0      -1  \n",
       "4  0.0  0.0  0.0  0.0  0.0  0.0      -1  \n",
       "\n",
       "[5 rows x 161 columns]"
      ]
     },
     "execution_count": 193,
     "metadata": {},
     "output_type": "execute_result"
    },
    {
     "name": "stdout",
     "output_type": "stream",
     "text": [
      "time: 52.8 ms\n"
     ]
    }
   ],
   "source": [
    "hdf = pd.concat( [ pd.get_dummies( df[ 'f%r' % i ] ) for i in range( 1, 9 ) ], axis=1 ).assign( cleave=df.cleave )\n",
    "print hdf.shape\n",
    "hdf.head()"
   ]
  },
  {
   "cell_type": "markdown",
   "metadata": {
    "collapsed": false
   },
   "source": [
    "data_x = hdf.drop( 'cleave', axis=1 ).values\n",
    "data_y = hdf.cleave.values\n",
    "print data_x.shape, data_y.shape"
   ]
  },
  {
   "cell_type": "code",
   "execution_count": 50,
   "metadata": {
    "collapsed": false
   },
   "outputs": [
    {
     "name": "stdout",
     "output_type": "stream",
     "text": [
      "(6590, 160) (6590, 2)\n",
      "time: 16.9 ms\n"
     ]
    }
   ],
   "source": [
    "train_x, train_y = data_x, data_y\n",
    "nn_train_x, nn_train_y = ( ( train_x - train_x.mean() ) / train_x.var() ), np.array( [ train_y == i for i in np.sort( np.unique( train_y ) ) ] ).astype( int ).T\n",
    "print nn_train_x.shape, nn_train_y.shape"
   ]
  },
  {
   "cell_type": "code",
   "execution_count": 51,
   "metadata": {
    "collapsed": false,
    "scrolled": false
   },
   "outputs": [
    {
     "name": "stdout",
     "output_type": "stream",
     "text": [
      "train loss: 0.031341118412640506\n",
      "time: 1min 14s\n"
     ]
    }
   ],
   "source": [
    "m2 = keras.models.Sequential()\n",
    "m2.add( keras.layers.Dense( 16, input_dim=nn_train_x.shape[ 1 ], init='glorot_normal', activation='relu' ) )\n",
    "m2.add( keras.layers.Dropout( .5 ) )\n",
    "m2.add( keras.layers.Dense( 2, init='glorot_normal', activation='softmax' ) )\n",
    "m2.compile( loss='categorical_crossentropy', optimizer='adam' )\n",
    "\n",
    "h2 = m2.fit( nn_train_x, nn_train_y, batch_size=1000, nb_epoch=1000, verbose=0 )\n",
    "print 'train loss: %r' % m2.evaluate( nn_train_x, nn_train_y, verbose=0 )"
   ]
  },
  {
   "cell_type": "code",
   "execution_count": 52,
   "metadata": {
    "collapsed": false
   },
   "outputs": [
    {
     "data": {
      "text/plain": [
       "<matplotlib.axes._subplots.AxesSubplot at 0x7f339c28d290>"
      ]
     },
     "execution_count": 52,
     "metadata": {},
     "output_type": "execute_result"
    },
    {
     "data": {
      "image/png": "[encoded data removed]",
      "text/plain": [
       "<matplotlib.figure.Figure at 0x7f339c2c9a90>"
      ]
     },
     "metadata": {},
     "output_type": "display_data"
    },
    {
     "name": "stdout",
     "output_type": "stream",
     "text": [
      "time: 217 ms\n"
     ]
    }
   ],
   "source": [
    "pd.DataFrame( h2.history[ 'loss' ] ).plot.line( legend=False, figsize=( 18, 6 ) )"
   ]
  },
  {
   "cell_type": "code",
   "execution_count": 53,
   "metadata": {
    "collapsed": false,
    "scrolled": true
   },
   "outputs": [
    {
     "name": "stdout",
     "output_type": "stream",
     "text": [
      "             precision    recall  f1-score   support\n",
      "\n",
      "         -1       0.00      0.00      0.00      5230\n",
      "          0       0.00      0.00      0.00         0\n",
      "          1       0.98      0.98      0.98      1360\n",
      "\n",
      "avg / total       0.20      0.20      0.20      6590\n",
      "\n",
      "time: 195 ms\n"
     ]
    }
   ],
   "source": [
    "print sklearn.metrics.classification_report( train_y, np.argmax( m2.predict( nn_train_x ), axis=1 ) )"
   ]
  },
  {
   "cell_type": "code",
   "execution_count": 54,
   "metadata": {
    "collapsed": false,
    "scrolled": true
   },
   "outputs": [
    {
     "name": "stdout",
     "output_type": "stream",
     "text": [
      "[[   0 5207   23]\n",
      " [   0    0    0]\n",
      " [   0   24 1336]]\n",
      "time: 183 ms\n"
     ]
    }
   ],
   "source": [
    "print sklearn.metrics.confusion_matrix( train_y, np.argmax( m2.predict( nn_train_x ), axis=1 ) )"
   ]
  },
  {
   "cell_type": "code",
   "execution_count": 55,
   "metadata": {
    "collapsed": false,
    "scrolled": true
   },
   "outputs": [
    {
     "name": "stdout",
     "output_type": "stream",
     "text": [
      "[[   0 5207   23]\n",
      " [   0    0    0]\n",
      " [   0   24 1336]]\n",
      "time: 541 ms\n"
     ]
    }
   ],
   "source": [
    "print sklearn.metrics.confusion_matrix( data_y, np.argmax( m2.predict( ( data_x - train_x.mean() ) / train_x.var() ), axis=1 ) )"
   ]
  },
  {
   "cell_type": "markdown",
   "metadata": {},
   "source": [
    "# Train two-class network with one-hot encoding & randomizepca"
   ]
  },
  {
   "cell_type": "code",
   "execution_count": 154,
   "metadata": {
    "collapsed": false
   },
   "outputs": [
    {
     "name": "stdout",
     "output_type": "stream",
     "text": [
      "(6590, 160) (6590,)\n",
      "time: 8.3 ms\n"
     ]
    }
   ],
   "source": [
    "data_x = hdf.drop( 'cleave', axis=1 ).values\n",
    "data_y = hdf.cleave.values\n",
    "print data_x.shape, data_y.shape"
   ]
  },
  {
   "cell_type": "code",
   "execution_count": 155,
   "metadata": {
    "collapsed": false
   },
   "outputs": [
    {
     "name": "stdout",
     "output_type": "stream",
     "text": [
      "(6590, 80)\n",
      "time: 465 ms\n"
     ]
    }
   ],
   "source": [
    "pca = sklearn.decomposition.RandomizedPCA( int( data_x.shape[ 1 ] * .5 ) )\n",
    "pca_x = pca.fit_transform( data_x )\n",
    "print pca_x.shape"
   ]
  },
  {
   "cell_type": "code",
   "execution_count": 156,
   "metadata": {
    "collapsed": false
   },
   "outputs": [
    {
     "name": "stdout",
     "output_type": "stream",
     "text": [
      "(6590, 80) (6590, 2)\n",
      "time: 8.8 ms\n"
     ]
    }
   ],
   "source": [
    "train_x, train_y = pca_x, data_y\n",
    "nn_train_x, nn_train_y = ( ( train_x - train_x.mean() ) / train_x.var() ), np.array( [ train_y == i for i in np.sort( np.unique( train_y ) ) ] ).astype( int ).T\n",
    "print nn_train_x.shape, nn_train_y.shape"
   ]
  },
  {
   "cell_type": "code",
   "execution_count": 157,
   "metadata": {
    "collapsed": false,
    "scrolled": false
   },
   "outputs": [
    {
     "name": "stdout",
     "output_type": "stream",
     "text": [
      "train loss: 0.07409890265996219\n",
      "time: 38.2 s\n"
     ]
    }
   ],
   "source": [
    "m3 = keras.models.Sequential()\n",
    "m3.add( keras.layers.Dense( 16, input_dim=nn_train_x.shape[ 1 ], init='glorot_normal', activation='relu' ) )\n",
    "m3.add( keras.layers.Dropout( .5 ) )\n",
    "m3.add( keras.layers.Dense( 2, init='glorot_normal', activation='softmax' ) )\n",
    "m3.compile( loss='categorical_crossentropy', optimizer='adam' )\n",
    "\n",
    "h3 = m3.fit( nn_train_x, nn_train_y, batch_size=1000, nb_epoch=1000, verbose=0 )\n",
    "print 'train loss: %r' % m3.evaluate( nn_train_x, nn_train_y, verbose=0 )"
   ]
  },
  {
   "cell_type": "code",
   "execution_count": 158,
   "metadata": {
    "collapsed": false
   },
   "outputs": [
    {
     "data": {
      "text/plain": [
       "<matplotlib.axes._subplots.AxesSubplot at 0x7f33699eab90>"
      ]
     },
     "execution_count": 158,
     "metadata": {},
     "output_type": "execute_result"
    },
    {
     "data": {
      "image/png": "[encoded data removed]",
      "text/plain": [
       "<matplotlib.figure.Figure at 0x7f3369027dd0>"
      ]
     },
     "metadata": {},
     "output_type": "display_data"
    },
    {
     "name": "stdout",
     "output_type": "stream",
     "text": [
      "time: 327 ms\n"
     ]
    }
   ],
   "source": [
    "pd.DataFrame( h3.history[ 'loss' ] ).plot.line( legend=False, figsize=( 18, 6 ) )"
   ]
  },
  {
   "cell_type": "code",
   "execution_count": 159,
   "metadata": {
    "collapsed": false,
    "scrolled": true
   },
   "outputs": [
    {
     "name": "stdout",
     "output_type": "stream",
     "text": [
      "             precision    recall  f1-score   support\n",
      "\n",
      "         -1       0.00      0.00      0.00      5230\n",
      "          0       0.00      0.00      0.00         0\n",
      "          1       0.96      0.91      0.93      1360\n",
      "\n",
      "avg / total       0.20      0.19      0.19      6590\n",
      "\n",
      "time: 264 ms\n"
     ]
    }
   ],
   "source": [
    "print sklearn.metrics.classification_report( train_y, np.argmax( m3.predict( nn_train_x ), axis=1 ) )"
   ]
  },
  {
   "cell_type": "code",
   "execution_count": 160,
   "metadata": {
    "collapsed": false,
    "scrolled": true
   },
   "outputs": [
    {
     "name": "stdout",
     "output_type": "stream",
     "text": [
      "[[   0 5177   53]\n",
      " [   0    0    0]\n",
      " [   0  125 1235]]\n",
      "time: 222 ms\n"
     ]
    }
   ],
   "source": [
    "print sklearn.metrics.confusion_matrix( train_y, np.argmax( m3.predict( nn_train_x ), axis=1 ) )"
   ]
  },
  {
   "cell_type": "code",
   "execution_count": 161,
   "metadata": {
    "collapsed": false,
    "scrolled": true
   },
   "outputs": [
    {
     "name": "stdout",
     "output_type": "stream",
     "text": [
      "[[   0 5177   53]\n",
      " [   0    0    0]\n",
      " [   0  125 1235]]\n",
      "time: 192 ms\n"
     ]
    }
   ],
   "source": [
    "print sklearn.metrics.confusion_matrix( data_y, np.argmax( m3.predict( ( pca_x - train_x.mean() ) / train_x.var() ), axis=1 ) )"
   ]
  },
  {
   "cell_type": "markdown",
   "metadata": {},
   "source": [
    "# Train two-class network with one-hot encoding & dimensionality reduction"
   ]
  },
  {
   "cell_type": "code",
   "execution_count": 162,
   "metadata": {
    "collapsed": false
   },
   "outputs": [
    {
     "name": "stdout",
     "output_type": "stream",
     "text": [
      "(6590, 160) (6590,)\n",
      "time: 8.79 ms\n"
     ]
    }
   ],
   "source": [
    "data_x = hdf.drop( 'cleave', axis=1 ).values\n",
    "data_y = hdf.cleave.values\n",
    "print data_x.shape, data_y.shape"
   ]
  },
  {
   "cell_type": "code",
   "execution_count": 163,
   "metadata": {
    "collapsed": false
   },
   "outputs": [
    {
     "name": "stdout",
     "output_type": "stream",
     "text": [
      "(6590, 80)\n",
      "time: 2.31 s\n"
     ]
    }
   ],
   "source": [
    "ica = sklearn.decomposition.FastICA( int( data_x.shape[ 1 ] * .5 ) )\n",
    "ica_x = ica.fit_transform( data_x )\n",
    "print ica_x.shape"
   ]
  },
  {
   "cell_type": "code",
   "execution_count": 164,
   "metadata": {
    "collapsed": false
   },
   "outputs": [
    {
     "name": "stdout",
     "output_type": "stream",
     "text": [
      "(6590, 80) (6590, 2)\n",
      "time: 27.3 ms\n"
     ]
    }
   ],
   "source": [
    "train_x, train_y = ica_x, data_y\n",
    "nn_train_x, nn_train_y = ( ( train_x - train_x.mean() ) / train_x.var() ), np.array( [ train_y == i for i in np.sort( np.unique( train_y ) ) ] ).astype( int ).T\n",
    "print nn_train_x.shape, nn_train_y.shape"
   ]
  },
  {
   "cell_type": "code",
   "execution_count": 165,
   "metadata": {
    "collapsed": false,
    "scrolled": false
   },
   "outputs": [
    {
     "name": "stdout",
     "output_type": "stream",
     "text": [
      "train loss: 0.43346579195950874\n",
      "time: 45.1 s\n"
     ]
    }
   ],
   "source": [
    "m4 = keras.models.Sequential()\n",
    "m4.add( keras.layers.Dense( 16, input_dim=nn_train_x.shape[ 1 ], init='glorot_normal', activation='relu' ) )\n",
    "m4.add( keras.layers.Dropout( .5 ) )\n",
    "m4.add( keras.layers.Dense( 2, init='glorot_normal', activation='softmax' ) )\n",
    "m4.compile( loss='categorical_crossentropy', optimizer='adam' )\n",
    "\n",
    "h4 = m4.fit( nn_train_x, nn_train_y, batch_size=1000, nb_epoch=1000, verbose=0 )\n",
    "print 'train loss: %r' % m4.evaluate( nn_train_x, nn_train_y, verbose=0 )\n",
    "# print 'test loss:  %r' % m4.evaluate( nn_test_x, nn_test_y, verbose=0 )\n",
    "# train_ps.append( m4.predict( nn_train_x ) )\n",
    "# test_ps.append( m4.predict( nn_test_x ) )"
   ]
  },
  {
   "cell_type": "code",
   "execution_count": 170,
   "metadata": {
    "collapsed": false
   },
   "outputs": [
    {
     "data": {
      "text/plain": [
       "<matplotlib.axes._subplots.AxesSubplot at 0x7f3368910fd0>"
      ]
     },
     "execution_count": 170,
     "metadata": {},
     "output_type": "execute_result"
    },
    {
     "data": {
      "image/png": "[encoded data removed]",
      "text/plain": [
       "<matplotlib.figure.Figure at 0x7f3368e9a710>"
      ]
     },
     "metadata": {},
     "output_type": "display_data"
    },
    {
     "name": "stdout",
     "output_type": "stream",
     "text": [
      "time: 233 ms\n"
     ]
    }
   ],
   "source": [
    "pd.DataFrame( h4.history[ 'loss' ] ).plot.line( legend=False, figsize=( 18, 6 ) )"
   ]
  },
  {
   "cell_type": "code",
   "execution_count": 167,
   "metadata": {
    "collapsed": false,
    "scrolled": true
   },
   "outputs": [
    {
     "name": "stdout",
     "output_type": "stream",
     "text": [
      "             precision    recall  f1-score   support\n",
      "\n",
      "         -1       0.00      0.00      0.00      5230\n",
      "          0       0.00      0.00      0.00         0\n",
      "          1       0.94      0.85      0.89      1360\n",
      "\n",
      "avg / total       0.19      0.17      0.18      6590\n",
      "\n",
      "time: 156 ms\n"
     ]
    }
   ],
   "source": [
    "print sklearn.metrics.classification_report( train_y, np.argmax( m4.predict( nn_train_x ), axis=1 ) )"
   ]
  },
  {
   "cell_type": "code",
   "execution_count": 168,
   "metadata": {
    "collapsed": false,
    "scrolled": true
   },
   "outputs": [
    {
     "name": "stdout",
     "output_type": "stream",
     "text": [
      "[[   0 5152   78]\n",
      " [   0    0    0]\n",
      " [   0  208 1152]]\n",
      "time: 127 ms\n"
     ]
    }
   ],
   "source": [
    "print sklearn.metrics.confusion_matrix( train_y, np.argmax( m4.predict( nn_train_x ), axis=1 ) )"
   ]
  },
  {
   "cell_type": "code",
   "execution_count": 169,
   "metadata": {
    "collapsed": false,
    "scrolled": true
   },
   "outputs": [
    {
     "name": "stdout",
     "output_type": "stream",
     "text": [
      "[[   0 5152   78]\n",
      " [   0    0    0]\n",
      " [   0  208 1152]]\n",
      "time: 133 ms\n"
     ]
    }
   ],
   "source": [
    "print sklearn.metrics.confusion_matrix( data_y, np.argmax( m4.predict( ( ica_x - train_x.mean() ) / train_x.var() ), axis=1 ) )"
   ]
  }
 ],
 "metadata": {
  "kernelspec": {
   "display_name": "Python 2",
   "language": "python",
   "name": "python2"
  },
  "language_info": {
   "codemirror_mode": {
    "name": "ipython",
    "version": 2
   },
   "file_extension": ".py",
   "mimetype": "text/x-python",
   "name": "python",
   "nbconvert_exporter": "python",
   "pygments_lexer": "ipython2",
   "version": "2.7.11"
  }
 },
 "nbformat": 4,
 "nbformat_minor": 0
}
