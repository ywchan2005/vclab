{
 "cells": [
  {
   "cell_type": "code",
   "execution_count": 1,
   "metadata": {
    "collapsed": true
   },
   "outputs": [],
   "source": [
    "%matplotlib inline\n",
    "%load_ext autotime\n",
    "\n",
    "import math\n",
    "import matplotlib as mpl\n",
    "import matplotlib.pyplot as pt\n",
    "import numpy as np\n",
    "import pandas as pd\n",
    "import sklearn as sk\n",
    "import sklearn.metrics"
   ]
  },
  {
   "cell_type": "code",
   "execution_count": 2,
   "metadata": {},
   "outputs": [
    {
     "name": "stderr",
     "output_type": "stream",
     "text": [
      "Using TensorFlow backend.\n"
     ]
    },
    {
     "name": "stdout",
     "output_type": "stream",
     "text": [
      "time: 9.74 s\n"
     ]
    }
   ],
   "source": [
    "import keras\n",
    "import tensorflow as tf"
   ]
  },
  {
   "cell_type": "code",
   "execution_count": 3,
   "metadata": {},
   "outputs": [
    {
     "name": "stdout",
     "output_type": "stream",
     "text": [
      "time: 893 µs\n"
     ]
    }
   ],
   "source": [
    "mpl.rcParams[ 'figure.figsize' ] = ( 18, 3 )"
   ]
  },
  {
   "cell_type": "markdown",
   "metadata": {},
   "source": [
    "# load data"
   ]
  },
  {
   "cell_type": "code",
   "execution_count": 4,
   "metadata": {},
   "outputs": [
    {
     "data": {
      "text/plain": [
       "((60000, 784), (60000, 10), (10000, 784), (10000, 10))"
      ]
     },
     "execution_count": 4,
     "metadata": {},
     "output_type": "execute_result"
    },
    {
     "name": "stdout",
     "output_type": "stream",
     "text": [
      "time: 1.07 s\n"
     ]
    }
   ],
   "source": [
    "from keras.datasets import mnist\n",
    "( train_x, train_y ), ( test_x, test_y ) = mnist.load_data()\n",
    "train_x = train_x.astype( float ).reshape( train_x.shape[ 0 ], -1 )\n",
    "train_x = sk.preprocessing.StandardScaler().fit_transform( train_x )\n",
    "train_y = keras.utils.to_categorical( train_y )\n",
    "test_x = test_x.astype( float ).reshape( test_x.shape[ 0 ], -1 )\n",
    "test_x = sk.preprocessing.StandardScaler().fit_transform( test_x )\n",
    "test_y = keras.utils.to_categorical( test_y )\n",
    "train_x.shape, train_y.shape, test_x.shape, test_y.shape"
   ]
  },
  {
   "cell_type": "markdown",
   "metadata": {},
   "source": [
    "# parameters"
   ]
  },
  {
   "cell_type": "code",
   "execution_count": 5,
   "metadata": {},
   "outputs": [
    {
     "name": "stdout",
     "output_type": "stream",
     "text": [
      "time: 1.16 ms\n"
     ]
    }
   ],
   "source": [
    "hidden_dim = 512\n",
    "n_layers = 100\n",
    "batch_size = 10000\n",
    "epochs = 100"
   ]
  },
  {
   "cell_type": "markdown",
   "metadata": {},
   "source": [
    "# self normalizing neural network"
   ]
  },
  {
   "cell_type": "code",
   "execution_count": 6,
   "metadata": {},
   "outputs": [
    {
     "name": "stdout",
     "output_type": "stream",
     "text": [
      "time: 72.6 ms\n"
     ]
    }
   ],
   "source": [
    "def selu( x ):\n",
    "    alpha = 1.6732632423543772848170429916717\n",
    "    scale = 1.0507009873554804934193349852946\n",
    "    return scale * tf.where( x > 0., x, alpha * tf.nn.elu( x ) )"
   ]
  },
  {
   "cell_type": "code",
   "execution_count": 7,
   "metadata": {},
   "outputs": [
    {
     "name": "stdout",
     "output_type": "stream",
     "text": [
      "time: 57.8 ms\n"
     ]
    }
   ],
   "source": [
    "def init( shape, dtype=None ):\n",
    "    return tf.random_normal( shape, stddev=tf.sqrt( 1. / shape[ 1 ] ) )"
   ]
  },
  {
   "cell_type": "code",
   "execution_count": 8,
   "metadata": {},
   "outputs": [
    {
     "name": "stdout",
     "output_type": "stream",
     "text": [
      "time: 916 ms\n"
     ]
    }
   ],
   "source": [
    "ms1 = []\n",
    "ms1.append( keras.models.Sequential() )\n",
    "ms1[ 0 ].add( keras.layers.Dense( hidden_dim, input_shape=train_x.shape[ 1: ], kernel_initializer=init ) )\n",
    "ms1[ 0 ].add( keras.layers.Activation( selu ) )\n",
    "for i in range( n_layers ):\n",
    "    ms1.append( keras.models.Sequential() )\n",
    "    ms1[ i + 1 ].add( keras.layers.Dense( hidden_dim, input_shape=( hidden_dim, ), kernel_initializer=init ) )\n",
    "    ms1[ i + 1 ].add( keras.layers.Activation( selu ) )"
   ]
  },
  {
   "cell_type": "markdown",
   "metadata": {},
   "source": [
    "The following optimizers cannot lead to zero mean and unit variance\n",
    "- SGD with momentum (without Nesterov) \n",
    "- RMSprop\n",
    "- Adam"
   ]
  },
  {
   "cell_type": "code",
   "execution_count": 9,
   "metadata": {},
   "outputs": [
    {
     "name": "stdout",
     "output_type": "stream",
     "text": [
      "time: 444 ms\n"
     ]
    }
   ],
   "source": [
    "m1 = keras.models.Sequential()\n",
    "for i in ms1:\n",
    "    m1.add( i )\n",
    "m1.add( keras.layers.Dense( train_y.shape[ 1 ], kernel_initializer='glorot_normal' ) )\n",
    "m1.add( keras.layers.Activation( 'softmax' ) )\n",
    "# m1.compile( loss='categorical_crossentropy', optimizer=keras.optimizers.Adam(), metrics=[ 'acc' ] )\n",
    "m1.compile( loss='categorical_crossentropy', optimizer=keras.optimizers.SGD(), metrics=[ 'acc' ] )"
   ]
  },
  {
   "cell_type": "code",
   "execution_count": 10,
   "metadata": {
    "scrolled": false
   },
   "outputs": [
    {
     "name": "stdout",
     "output_type": "stream",
     "text": [
      "time: 3min 54s\n"
     ]
    }
   ],
   "source": [
    "h1 = m1.fit( train_x, train_y, batch_size=batch_size, epochs=epochs, verbose=0 )"
   ]
  },
  {
   "cell_type": "code",
   "execution_count": 11,
   "metadata": {},
   "outputs": [
    {
     "data": {
      "image/png": "[encoded data removed]",
      "text/plain": [
       "<matplotlib.figure.Figure at 0x7f04ed0009b0>"
      ]
     },
     "metadata": {},
     "output_type": "display_data"
    },
    {
     "name": "stdout",
     "output_type": "stream",
     "text": [
      "time: 143 ms\n"
     ]
    }
   ],
   "source": [
    "_ = pd.Series( h1.history[ 'loss' ], name='loss' ).plot.line( legend=True )\n",
    "_ = pd.Series( h1.history[ 'acc' ], name='acc' ).plot.line( legend=True )"
   ]
  },
  {
   "cell_type": "code",
   "execution_count": 12,
   "metadata": {},
   "outputs": [
    {
     "data": {
      "text/plain": [
       "0.98946666666666672"
      ]
     },
     "execution_count": 12,
     "metadata": {},
     "output_type": "execute_result"
    },
    {
     "name": "stdout",
     "output_type": "stream",
     "text": [
      "time: 1.2 s\n"
     ]
    }
   ],
   "source": [
    "sk.metrics.accuracy_score( np.argmax( train_y, 1 ), np.argmax( m1.predict( train_x, batch_size=batch_size ), 1 ) )"
   ]
  },
  {
   "cell_type": "code",
   "execution_count": 13,
   "metadata": {},
   "outputs": [
    {
     "name": "stdout",
     "output_type": "stream",
     "text": [
      "time: 31.6 s\n"
     ]
    }
   ],
   "source": [
    "ps = []\n",
    "p = train_x\n",
    "ps.append( tuple( ( p.mean(), p.var() ) ) )\n",
    "for i in range( len( ms1 ) ):\n",
    "    p = ms1[ i ].predict( p, batch_size=batch_size )\n",
    "    ps.append( tuple( ( p.mean(), p.var() ) ) )"
   ]
  },
  {
   "cell_type": "code",
   "execution_count": 14,
   "metadata": {},
   "outputs": [
    {
     "name": "stdout",
     "output_type": "stream",
     "text": [
      "layer\tmean\tvar\n",
      "0\t-2.1974863349995617e-18\t0.91454081632655582\n",
      "1\t0.023476582\t1.2228079\n",
      "2\t0.019054014\t1.129766\n",
      "3\t0.013584105\t1.0925844\n",
      "4\t0.012024267\t1.0915987\n",
      "5\t0.010935271\t1.0952393\n",
      "6\t0.009069846\t1.1127968\n",
      "7\t0.013852996\t1.1459919\n",
      "8\t0.019398749\t1.1769044\n",
      "9\t0.027005866\t1.2014954\n",
      "10\t0.020433107\t1.2097999\n",
      "11\t0.024373205\t1.2221954\n",
      "12\t0.026944164\t1.2359024\n",
      "13\t0.032068234\t1.2465514\n",
      "14\t0.025314556\t1.2571433\n",
      "15\t0.025994008\t1.2565379\n",
      "16\t0.037361927\t1.2829134\n",
      "17\t0.037144538\t1.3070035\n",
      "18\t0.0374857\t1.3060539\n",
      "19\t0.038895652\t1.3270507\n",
      "20\t0.050693508\t1.3486868\n",
      "21\t0.033020139\t1.3382198\n",
      "22\t0.034056954\t1.3421797\n",
      "23\t0.034748644\t1.3207383\n",
      "24\t0.031895339\t1.3232962\n",
      "25\t0.030703427\t1.3462083\n",
      "26\t0.030176301\t1.338685\n",
      "27\t0.050288975\t1.3599203\n",
      "28\t0.035149787\t1.4053568\n",
      "29\t0.054691564\t1.4193536\n",
      "30\t0.0469134\t1.4555081\n",
      "31\t0.044842627\t1.4423159\n",
      "32\t0.034465007\t1.4117254\n",
      "33\t0.048313472\t1.4491298\n",
      "34\t0.056843176\t1.4677677\n",
      "35\t0.048341598\t1.4758517\n",
      "36\t0.058841787\t1.5092973\n",
      "37\t0.056223869\t1.5485386\n",
      "38\t0.045042798\t1.5392503\n",
      "39\t0.055559363\t1.5348125\n",
      "40\t0.070580646\t1.5725739\n",
      "41\t0.049237542\t1.5587424\n",
      "42\t0.059173994\t1.5971277\n",
      "43\t0.079844333\t1.6315073\n",
      "44\t0.053702634\t1.6008414\n",
      "45\t0.042899352\t1.5605751\n",
      "46\t0.071970537\t1.6254215\n",
      "47\t0.067298263\t1.6374912\n",
      "48\t0.079223171\t1.7184037\n",
      "49\t0.081099868\t1.7561736\n",
      "50\t0.090733357\t1.7445567\n",
      "51\t0.090040334\t1.7873272\n",
      "52\t0.076119982\t1.7889096\n",
      "53\t0.08586508\t1.795702\n",
      "54\t0.092086911\t1.8150715\n",
      "55\t0.064126931\t1.8186058\n",
      "56\t0.090708673\t1.8121787\n",
      "57\t0.094585374\t1.824061\n",
      "58\t0.098465867\t1.8042258\n",
      "59\t0.10695392\t1.8301094\n",
      "60\t0.087746985\t1.8946457\n",
      "61\t0.096338309\t1.9149448\n",
      "62\t0.10173686\t1.9181789\n",
      "63\t0.11135217\t1.9221712\n",
      "64\t0.067687228\t1.9315082\n",
      "65\t0.10109786\t1.9089544\n",
      "66\t0.10051406\t1.923399\n",
      "67\t0.10418815\t1.9386525\n",
      "68\t0.11595194\t1.9470798\n",
      "69\t0.11860084\t1.9629821\n",
      "70\t0.069492772\t1.8906076\n",
      "71\t0.094844244\t1.8895402\n",
      "72\t0.10266337\t1.8612819\n",
      "73\t0.087424234\t1.8644185\n",
      "74\t0.091219723\t1.836048\n",
      "75\t0.088100463\t1.8404837\n",
      "76\t0.10572919\t1.8581257\n",
      "77\t0.1267076\t1.8964666\n",
      "78\t0.13196748\t1.9928452\n",
      "79\t0.081190579\t1.9740638\n",
      "80\t0.12427393\t1.9729033\n",
      "81\t0.1174608\t1.9614316\n",
      "82\t0.11046962\t1.9219949\n",
      "83\t0.091563225\t1.9724509\n",
      "84\t0.10604584\t1.988297\n",
      "85\t0.1107647\t2.0378487\n",
      "86\t0.12514311\t2.040055\n",
      "87\t0.11021464\t1.9747175\n",
      "88\t0.096062027\t2.0159149\n",
      "89\t0.097149104\t1.9602715\n",
      "90\t0.09167137\t1.8926407\n",
      "91\t0.1156855\t1.9078283\n",
      "92\t0.11917698\t1.8944035\n",
      "93\t0.068898998\t1.8885323\n",
      "94\t0.039483663\t1.8556075\n",
      "95\t0.074343711\t1.7969513\n",
      "96\t0.049108919\t1.7420969\n",
      "97\t0.049702417\t1.7236465\n",
      "98\t-0.0070650489\t1.6497545\n",
      "99\t-0.0086312443\t1.598065\n",
      "100\t-0.0398922\t1.5092204\n",
      "101\t-0.082096599\t1.3961284\n",
      "time: 17 ms\n"
     ]
    }
   ],
   "source": [
    "print( 'layer\\tmean\\tvar' )\n",
    "for i, p in enumerate( ps ):\n",
    "    print( '%r\\t%r\\t%r' % ( i, p[ 0 ], p[ 1 ] ) )"
   ]
  },
  {
   "cell_type": "code",
   "execution_count": 15,
   "metadata": {},
   "outputs": [
    {
     "name": "stdout",
     "output_type": "stream",
     "text": [
      "layer # 0\n",
      "mean: -7.87577e-06\n",
      "var: 0.00194875\n"
     ]
    },
    {
     "data": {
      "image/png": "[encoded data removed]",
      "text/plain": [
       "<matplotlib.figure.Figure at 0x7f04e9e955c0>"
      ]
     },
     "metadata": {},
     "output_type": "display_data"
    },
    {
     "name": "stdout",
     "output_type": "stream",
     "text": [
      "time: 2.71 s\n"
     ]
    }
   ],
   "source": [
    "n = 0\n",
    "t = [ weights.flatten() for layer in ms1[ n ].layers for weights in layer.get_weights() if weights.ndim == 2 ]\n",
    "_ = pd.Series( t[ -1 ] ).plot.hist( bins=100 )\n",
    "print( 'layer #', n )\n",
    "print( 'mean:', np.mean( t[ -1 ] ) )\n",
    "print( 'var:', np.var( t[ -1 ] ) )"
   ]
  },
  {
   "cell_type": "code",
   "execution_count": 16,
   "metadata": {},
   "outputs": [
    {
     "name": "stdout",
     "output_type": "stream",
     "text": [
      "layer # 33\n",
      "mean: 6.33635e-05\n",
      "var: 0.00196178\n"
     ]
    },
    {
     "data": {
      "image/png": "[encoded data removed]",
      "text/plain": [
       "<matplotlib.figure.Figure at 0x7f04e99e8fd0>"
      ]
     },
     "metadata": {},
     "output_type": "display_data"
    },
    {
     "name": "stdout",
     "output_type": "stream",
     "text": [
      "time: 2.03 s\n"
     ]
    }
   ],
   "source": [
    "n = len( ms1 ) // 3\n",
    "t = [ weights.flatten() for layer in ms1[ n ].layers for weights in layer.get_weights() if weights.ndim == 2 ]\n",
    "_ = pd.Series( t[ -1 ] ).plot.hist( bins=100 )\n",
    "print( 'layer #', n )\n",
    "print( 'mean:', np.mean( t[ -1 ] ) )\n",
    "print( 'var:', np.var( t[ -1 ] ) )"
   ]
  },
  {
   "cell_type": "code",
   "execution_count": 17,
   "metadata": {},
   "outputs": [
    {
     "name": "stdout",
     "output_type": "stream",
     "text": [
      "layer # 66\n",
      "mean: 3.13185e-05\n",
      "var: 0.00194715\n"
     ]
    },
    {
     "data": {
      "image/png": "[encoded data removed]",
      "text/plain": [
       "<matplotlib.figure.Figure at 0x7f042f7acf60>"
      ]
     },
     "metadata": {},
     "output_type": "display_data"
    },
    {
     "name": "stdout",
     "output_type": "stream",
     "text": [
      "time: 1.89 s\n"
     ]
    }
   ],
   "source": [
    "n = len( ms1 ) // 3 * 2\n",
    "t = [ weights.flatten() for layer in ms1[ n ].layers for weights in layer.get_weights() if weights.ndim == 2 ]\n",
    "_ = pd.Series( t[ -1 ] ).plot.hist( bins=100 )\n",
    "print( 'layer #', n )\n",
    "print( 'mean:', np.mean( t[ -1 ] ) )\n",
    "print( 'var:', np.var( t[ -1 ] ) )"
   ]
  },
  {
   "cell_type": "code",
   "execution_count": 18,
   "metadata": {},
   "outputs": [
    {
     "name": "stdout",
     "output_type": "stream",
     "text": [
      "layer # 100\n",
      "mean: -0.000184787\n",
      "var: 0.00195404\n"
     ]
    },
    {
     "data": {
      "image/png": "[encoded data removed]",
      "text/plain": [
       "<matplotlib.figure.Figure at 0x7f042f47f048>"
      ]
     },
     "metadata": {},
     "output_type": "display_data"
    },
    {
     "name": "stdout",
     "output_type": "stream",
     "text": [
      "time: 1.9 s\n"
     ]
    }
   ],
   "source": [
    "n = len( ms1 ) - 1\n",
    "t = [ weights.flatten() for layer in ms1[ n ].layers for weights in layer.get_weights() if weights.ndim == 2 ]\n",
    "_ = pd.Series( t[ -1 ] ).plot.hist( bins=100 )\n",
    "print( 'layer #', n )\n",
    "print( 'mean:', np.mean( t[ -1 ] ) )\n",
    "print( 'var:', np.var( t[ -1 ] ) )"
   ]
  },
  {
   "cell_type": "markdown",
   "metadata": {},
   "source": [
    "# batch normalization"
   ]
  },
  {
   "cell_type": "code",
   "execution_count": 19,
   "metadata": {},
   "outputs": [
    {
     "name": "stdout",
     "output_type": "stream",
     "text": [
      "time: 3.1 s\n"
     ]
    }
   ],
   "source": [
    "ms2 = []\n",
    "ms2.append( keras.models.Sequential() )\n",
    "ms2[ 0 ].add( keras.layers.Dense( hidden_dim, input_shape=train_x.shape[ 1: ], kernel_initializer=init ) )\n",
    "ms2[ 0 ].add( keras.layers.BatchNormalization() )\n",
    "ms2[ 0 ].add( keras.layers.advanced_activations.ELU() )\n",
    "for i in range( n_layers ):\n",
    "    ms2.append( keras.models.Sequential() )\n",
    "    ms2[ i + 1 ].add( keras.layers.Dense( hidden_dim, input_shape=( hidden_dim, ), kernel_initializer=init ) )\n",
    "    ms2[ i + 1 ].add( keras.layers.BatchNormalization() )\n",
    "    ms2[ i + 1 ].add( keras.layers.advanced_activations.ELU() )"
   ]
  },
  {
   "cell_type": "code",
   "execution_count": 20,
   "metadata": {},
   "outputs": [
    {
     "name": "stdout",
     "output_type": "stream",
     "text": [
      "time: 2.02 s\n"
     ]
    }
   ],
   "source": [
    "m2 = keras.models.Sequential()\n",
    "for i in ms2:\n",
    "    m2.add( i )\n",
    "m2.add( keras.layers.Dense( train_y.shape[ 1 ], kernel_initializer='glorot_normal' ) )\n",
    "m2.add( keras.layers.Activation( 'softmax' ) )\n",
    "m2.compile( loss='categorical_crossentropy', optimizer=keras.optimizers.Adam(), metrics=[ 'acc' ] )"
   ]
  },
  {
   "cell_type": "code",
   "execution_count": 21,
   "metadata": {
    "scrolled": false
   },
   "outputs": [
    {
     "name": "stdout",
     "output_type": "stream",
     "text": [
      "time: 5min 14s\n"
     ]
    }
   ],
   "source": [
    "h2 = m2.fit( train_x, train_y, batch_size=batch_size, epochs=epochs, verbose=0 )"
   ]
  },
  {
   "cell_type": "code",
   "execution_count": 22,
   "metadata": {},
   "outputs": [
    {
     "data": {
      "image/png": "[encoded data removed]",
      "text/plain": [
       "<matplotlib.figure.Figure at 0x7f03efe187b8>"
      ]
     },
     "metadata": {},
     "output_type": "display_data"
    },
    {
     "name": "stdout",
     "output_type": "stream",
     "text": [
      "time: 144 ms\n"
     ]
    }
   ],
   "source": [
    "_ = pd.Series( h2.history[ 'loss' ], name='loss' ).plot.line( legend=True )\n",
    "_ = pd.Series( h2.history[ 'acc' ], name='acc' ).plot.line( legend=True )"
   ]
  },
  {
   "cell_type": "code",
   "execution_count": 23,
   "metadata": {},
   "outputs": [
    {
     "data": {
      "text/plain": [
       "0.99504999999999999"
      ]
     },
     "execution_count": 23,
     "metadata": {},
     "output_type": "execute_result"
    },
    {
     "name": "stdout",
     "output_type": "stream",
     "text": [
      "time: 2.47 s\n"
     ]
    }
   ],
   "source": [
    "sk.metrics.accuracy_score( np.argmax( train_y, 1 ), np.argmax( m2.predict( train_x, batch_size=batch_size ), 1 ) )"
   ]
  },
  {
   "cell_type": "code",
   "execution_count": 24,
   "metadata": {},
   "outputs": [
    {
     "name": "stdout",
     "output_type": "stream",
     "text": [
      "time: 2min 2s\n"
     ]
    }
   ],
   "source": [
    "ps = []\n",
    "p = train_x\n",
    "ps.append( tuple( ( p.mean(), p.var() ) ) )\n",
    "for i in range( len( ms2 ) ):\n",
    "    p = ms2[ i ].predict( p, batch_size=batch_size )\n",
    "    ps.append( tuple( ( p.mean(), p.var() ) ) )"
   ]
  },
  {
   "cell_type": "code",
   "execution_count": 25,
   "metadata": {},
   "outputs": [
    {
     "name": "stdout",
     "output_type": "stream",
     "text": [
      "layer\tmean\tvar\n",
      "0\t-2.1974863349995617e-18\t0.91454081632655582\n",
      "1\t0.14176093\t0.60378224\n",
      "2\t0.14946979\t0.62553996\n",
      "3\t0.15639715\t0.63068134\n",
      "4\t0.15900914\t0.64195526\n",
      "5\t0.1622124\t0.64955586\n",
      "6\t0.16304617\t0.65381628\n",
      "7\t0.16461478\t0.66038716\n",
      "8\t0.16815245\t0.66768199\n",
      "9\t0.16994812\t0.67924064\n",
      "10\t0.17125975\t0.68290591\n",
      "11\t0.1698968\t0.68913531\n",
      "12\t0.17257494\t0.69774377\n",
      "13\t0.17718284\t0.70818418\n",
      "14\t0.17648934\t0.71669477\n",
      "15\t0.17850083\t0.73176938\n",
      "16\t0.18170515\t0.7357102\n",
      "17\t0.17978446\t0.73695457\n",
      "18\t0.17973679\t0.74171233\n",
      "19\t0.1789981\t0.74331361\n",
      "20\t0.18227679\t0.74533874\n",
      "21\t0.18191612\t0.74289888\n",
      "22\t0.18038763\t0.74927735\n",
      "23\t0.18176262\t0.75781769\n",
      "24\t0.18096116\t0.75948423\n",
      "25\t0.18136705\t0.76514077\n",
      "26\t0.18155292\t0.75964576\n",
      "27\t0.17498021\t0.75943905\n",
      "28\t0.18065502\t0.76153904\n",
      "29\t0.17667042\t0.76425678\n",
      "30\t0.18083683\t0.76273322\n",
      "31\t0.17907797\t0.76619685\n",
      "32\t0.18004169\t0.76643842\n",
      "33\t0.1786541\t0.77235705\n",
      "34\t0.17608561\t0.77450168\n",
      "35\t0.17727575\t0.76720583\n",
      "36\t0.17800592\t0.75663644\n",
      "37\t0.17116821\t0.76755375\n",
      "38\t0.17506996\t0.76337278\n",
      "39\t0.1765188\t0.76553017\n",
      "40\t0.1759171\t0.75842094\n",
      "41\t0.17364642\t0.75906116\n",
      "42\t0.17302673\t0.75374192\n",
      "43\t0.17483607\t0.75250655\n",
      "44\t0.1705135\t0.74686974\n",
      "45\t0.16987881\t0.74643606\n",
      "46\t0.17138904\t0.74210232\n",
      "47\t0.17121296\t0.74093372\n",
      "48\t0.17144772\t0.73485982\n",
      "49\t0.17115006\t0.72419739\n",
      "50\t0.17031722\t0.73077154\n",
      "51\t0.16932589\t0.72672158\n",
      "52\t0.16669671\t0.72495115\n",
      "53\t0.17025396\t0.71641552\n",
      "54\t0.16881284\t0.71423906\n",
      "55\t0.16762781\t0.70652086\n",
      "56\t0.16701499\t0.70693076\n",
      "57\t0.16804361\t0.70556444\n",
      "58\t0.16869795\t0.70209599\n",
      "59\t0.16810955\t0.69430161\n",
      "60\t0.16826554\t0.69461441\n",
      "61\t0.16916735\t0.69107127\n",
      "62\t0.16815932\t0.69081801\n",
      "63\t0.16681463\t0.68901294\n",
      "64\t0.16678409\t0.69160414\n",
      "65\t0.16795363\t0.69292706\n",
      "66\t0.1687922\t0.68726379\n",
      "67\t0.16909303\t0.68996835\n",
      "68\t0.16738017\t0.68412912\n",
      "69\t0.16971196\t0.68290782\n",
      "70\t0.16897492\t0.68163091\n",
      "71\t0.16650456\t0.6894604\n",
      "72\t0.17128366\t0.67232263\n",
      "73\t0.16836582\t0.68247974\n",
      "74\t0.16970968\t0.68118536\n",
      "75\t0.16941091\t0.68806487\n",
      "76\t0.17167374\t0.68252218\n",
      "77\t0.17126106\t0.69080901\n",
      "78\t0.17170106\t0.69587487\n",
      "79\t0.17163931\t0.68492466\n",
      "80\t0.17304045\t0.69129747\n",
      "81\t0.17324471\t0.69631511\n",
      "82\t0.17763777\t0.69635338\n",
      "83\t0.17746963\t0.69079947\n",
      "84\t0.17171374\t0.67955726\n",
      "85\t0.17461692\t0.69292116\n",
      "86\t0.17571014\t0.69595331\n",
      "87\t0.17486714\t0.70024377\n",
      "88\t0.17428507\t0.69692963\n",
      "89\t0.17451257\t0.701325\n",
      "90\t0.17196038\t0.70327598\n",
      "91\t0.17499457\t0.69569069\n",
      "92\t0.17255338\t0.69493586\n",
      "93\t0.17400755\t0.69172394\n",
      "94\t0.17260014\t0.70107704\n",
      "95\t0.17823397\t0.69404268\n",
      "96\t0.17762677\t0.70236081\n",
      "97\t0.18278131\t0.71572214\n",
      "98\t0.17590074\t0.72182685\n",
      "99\t0.18159306\t0.72660965\n",
      "100\t0.18861182\t0.74795699\n",
      "101\t0.18088353\t0.75809377\n",
      "time: 12.7 ms\n"
     ]
    }
   ],
   "source": [
    "print( 'layer\\tmean\\tvar' )\n",
    "for i, p in enumerate( ps ):\n",
    "    print( '%r\\t%r\\t%r' % ( i, p[ 0 ], p[ 1 ] ) )"
   ]
  },
  {
   "cell_type": "code",
   "execution_count": 26,
   "metadata": {},
   "outputs": [
    {
     "name": "stdout",
     "output_type": "stream",
     "text": [
      "layer # 0\n",
      "mean: -0.000285661\n",
      "var: 0.00200666\n"
     ]
    },
    {
     "data": {
      "image/png": "[encoded data removed]",
      "text/plain": [
       "<matplotlib.figure.Figure at 0x7f03efd7ea90>"
      ]
     },
     "metadata": {},
     "output_type": "display_data"
    },
    {
     "name": "stdout",
     "output_type": "stream",
     "text": [
      "time: 2.95 s\n"
     ]
    }
   ],
   "source": [
    "n = 0\n",
    "t = [ weights.flatten() for layer in ms2[ n ].layers for weights in layer.get_weights() if weights.ndim == 2 ]\n",
    "_ = pd.Series( t[ -1 ] ).plot.hist( bins=100 )\n",
    "print( 'layer #', n )\n",
    "print( 'mean:', np.mean( t[ -1 ] ) )\n",
    "print( 'var:', np.var( t[ -1 ] ) )"
   ]
  },
  {
   "cell_type": "code",
   "execution_count": 27,
   "metadata": {},
   "outputs": [
    {
     "name": "stdout",
     "output_type": "stream",
     "text": [
      "layer # 33\n",
      "mean: -4.964e-06\n",
      "var: 0.00198737\n"
     ]
    },
    {
     "data": {
      "image/png": "[encoded data removed]",
      "text/plain": [
       "<matplotlib.figure.Figure at 0x7f03ed9f8198>"
      ]
     },
     "metadata": {},
     "output_type": "display_data"
    },
    {
     "name": "stdout",
     "output_type": "stream",
     "text": [
      "time: 2.07 s\n"
     ]
    }
   ],
   "source": [
    "n = len( ms2 ) // 3\n",
    "t = [ weights.flatten() for layer in ms2[ n ].layers for weights in layer.get_weights() if weights.ndim == 2 ]\n",
    "_ = pd.Series( t[ -1 ] ).plot.hist( bins=100 )\n",
    "print( 'layer #', n )\n",
    "print( 'mean:', np.mean( t[ -1 ] ) )\n",
    "print( 'var:', np.var( t[ -1 ] ) )"
   ]
  },
  {
   "cell_type": "code",
   "execution_count": 28,
   "metadata": {},
   "outputs": [
    {
     "name": "stdout",
     "output_type": "stream",
     "text": [
      "layer # 66\n",
      "mean: 8.63828e-06\n",
      "var: 0.00199061\n"
     ]
    },
    {
     "data": {
      "image/png": "[encoded data removed]",
      "text/plain": [
       "<matplotlib.figure.Figure at 0x7f03ee668f98>"
      ]
     },
     "metadata": {},
     "output_type": "display_data"
    },
    {
     "name": "stdout",
     "output_type": "stream",
     "text": [
      "time: 2.08 s\n"
     ]
    }
   ],
   "source": [
    "n = len( ms2 ) // 3 * 2\n",
    "t = [ weights.flatten() for layer in ms2[ n ].layers for weights in layer.get_weights() if weights.ndim == 2 ]\n",
    "_ = pd.Series( t[ -1 ] ).plot.hist( bins=100 )\n",
    "print( 'layer #', n )\n",
    "print( 'mean:', np.mean( t[ -1 ] ) )\n",
    "print( 'var:', np.var( t[ -1 ] ) )"
   ]
  },
  {
   "cell_type": "code",
   "execution_count": 29,
   "metadata": {},
   "outputs": [
    {
     "name": "stdout",
     "output_type": "stream",
     "text": [
      "layer # 100\n",
      "mean: 0.000107908\n",
      "var: 0.00197802\n"
     ]
    },
    {
     "data": {
      "image/png": "[encoded data removed]",
      "text/plain": [
       "<matplotlib.figure.Figure at 0x7f04e9fc14e0>"
      ]
     },
     "metadata": {},
     "output_type": "display_data"
    },
    {
     "name": "stdout",
     "output_type": "stream",
     "text": [
      "time: 2.01 s\n"
     ]
    }
   ],
   "source": [
    "n = len( ms2 ) - 1\n",
    "t = [ weights.flatten() for layer in ms2[ n ].layers for weights in layer.get_weights() if weights.ndim == 2 ]\n",
    "_ = pd.Series( t[ -1 ] ).plot.hist( bins=100 )\n",
    "print( 'layer #', n )\n",
    "print( 'mean:', np.mean( t[ -1 ] ) )\n",
    "print( 'var:', np.var( t[ -1 ] ) )"
   ]
  },
  {
   "cell_type": "markdown",
   "metadata": {},
   "source": [
    "# elu only"
   ]
  },
  {
   "cell_type": "code",
   "execution_count": 30,
   "metadata": {},
   "outputs": [
    {
     "name": "stdout",
     "output_type": "stream",
     "text": [
      "time: 3.36 s\n"
     ]
    }
   ],
   "source": [
    "ms3 = []\n",
    "ms3.append( keras.models.Sequential() )\n",
    "ms3[ 0 ].add( keras.layers.Dense( hidden_dim, input_shape=train_x.shape[ 1: ], kernel_initializer=init ) )\n",
    "ms3[ 0 ].add( keras.layers.BatchNormalization() )\n",
    "ms3[ 0 ].add( keras.layers.advanced_activations.ELU() )\n",
    "for i in range( n_layers ):\n",
    "    ms3.append( keras.models.Sequential() )\n",
    "    ms3[ i + 1 ].add( keras.layers.Dense( hidden_dim, input_shape=( hidden_dim, ), kernel_initializer=init ) )\n",
    "    ms3[ i + 1 ].add( keras.layers.BatchNormalization() )\n",
    "    ms3[ i + 1 ].add( keras.layers.advanced_activations.ELU() )"
   ]
  },
  {
   "cell_type": "code",
   "execution_count": 31,
   "metadata": {},
   "outputs": [
    {
     "name": "stdout",
     "output_type": "stream",
     "text": [
      "time: 1.84 s\n"
     ]
    }
   ],
   "source": [
    "m3 = keras.models.Sequential()\n",
    "for i in ms3:\n",
    "    m3.add( i )\n",
    "m3.add( keras.layers.Dense( train_y.shape[ 1 ], kernel_initializer='glorot_normal' ) )\n",
    "m3.add( keras.layers.Activation( 'softmax' ) )\n",
    "m3.compile( loss='categorical_crossentropy', optimizer=keras.optimizers.Adam(), metrics=[ 'acc' ] )"
   ]
  },
  {
   "cell_type": "code",
   "execution_count": 32,
   "metadata": {
    "scrolled": false
   },
   "outputs": [
    {
     "name": "stdout",
     "output_type": "stream",
     "text": [
      "time: 5min 15s\n"
     ]
    }
   ],
   "source": [
    "h3 = m3.fit( train_x, train_y, batch_size=batch_size, epochs=epochs, verbose=0 )"
   ]
  },
  {
   "cell_type": "code",
   "execution_count": 33,
   "metadata": {},
   "outputs": [
    {
     "data": {
      "image/png": "[encoded data removed]",
      "text/plain": [
       "<matplotlib.figure.Figure at 0x7f03c1ce7c50>"
      ]
     },
     "metadata": {},
     "output_type": "display_data"
    },
    {
     "name": "stdout",
     "output_type": "stream",
     "text": [
      "time: 144 ms\n"
     ]
    }
   ],
   "source": [
    "_ = pd.Series( h3.history[ 'loss' ], name='loss' ).plot.line( legend=True )\n",
    "_ = pd.Series( h3.history[ 'acc' ], name='acc' ).plot.line( legend=True )"
   ]
  },
  {
   "cell_type": "code",
   "execution_count": 34,
   "metadata": {},
   "outputs": [
    {
     "data": {
      "text/plain": [
       "0.62744999999999995"
      ]
     },
     "execution_count": 34,
     "metadata": {},
     "output_type": "execute_result"
    },
    {
     "name": "stdout",
     "output_type": "stream",
     "text": [
      "time: 3.42 s\n"
     ]
    }
   ],
   "source": [
    "sk.metrics.accuracy_score( np.argmax( train_y, 1 ), np.argmax( m3.predict( train_x, batch_size=batch_size ), 1 ) )"
   ]
  },
  {
   "cell_type": "code",
   "execution_count": 35,
   "metadata": {},
   "outputs": [
    {
     "name": "stdout",
     "output_type": "stream",
     "text": [
      "time: 3min 37s\n"
     ]
    }
   ],
   "source": [
    "ps = []\n",
    "p = train_x\n",
    "ps.append( tuple( ( p.mean(), p.var() ) ) )\n",
    "for i in range( len( ms3 ) ):\n",
    "    p = ms3[ i ].predict( p, batch_size=batch_size )\n",
    "    ps.append( tuple( ( p.mean(), p.var() ) ) )"
   ]
  },
  {
   "cell_type": "code",
   "execution_count": 36,
   "metadata": {},
   "outputs": [
    {
     "name": "stdout",
     "output_type": "stream",
     "text": [
      "layer\tmean\tvar\n",
      "0\t-2.1974863349995617e-18\t0.91454081632655582\n",
      "1\t0.11472291\t0.642712\n",
      "2\t0.12966467\t0.60034972\n",
      "3\t0.12333624\t0.54339719\n",
      "4\t0.12331277\t0.50840497\n",
      "5\t0.13027209\t0.51686919\n",
      "6\t0.14188716\t0.53554237\n",
      "7\t0.14695179\t0.55512798\n",
      "8\t0.15524963\t0.5752418\n",
      "9\t0.16020913\t0.59588438\n",
      "10\t0.16671045\t0.61456984\n",
      "11\t0.17260545\t0.63142997\n",
      "12\t0.17355923\t0.63913804\n",
      "13\t0.17750949\t0.65166879\n",
      "14\t0.1751155\t0.65738541\n",
      "15\t0.17845887\t0.66402537\n",
      "16\t0.18280393\t0.67376512\n",
      "17\t0.18026239\t0.67790252\n",
      "18\t0.18555738\t0.68130726\n",
      "19\t0.18332005\t0.68340451\n",
      "20\t0.18743977\t0.68906838\n",
      "21\t0.18682267\t0.69020277\n",
      "22\t0.18905264\t0.69683307\n",
      "23\t0.18845704\t0.69919342\n",
      "24\t0.1869515\t0.69978869\n",
      "25\t0.1889832\t0.70265019\n",
      "26\t0.19119258\t0.70685673\n",
      "27\t0.19004799\t0.70879596\n",
      "28\t0.19175602\t0.70327997\n",
      "29\t0.1904324\t0.70561582\n",
      "30\t0.19257031\t0.70818973\n",
      "31\t0.18997848\t0.71715033\n",
      "32\t0.19299139\t0.71860564\n",
      "33\t0.19760655\t0.72201514\n",
      "34\t0.19657406\t0.72066385\n",
      "35\t0.19030486\t0.71554029\n",
      "36\t0.19185163\t0.711272\n",
      "37\t0.19165812\t0.70541608\n",
      "38\t0.18896842\t0.69984609\n",
      "39\t0.18768883\t0.70091075\n",
      "40\t0.19480747\t0.70665854\n",
      "41\t0.18910567\t0.71106029\n",
      "42\t0.1931814\t0.71814764\n",
      "43\t0.19486956\t0.71819419\n",
      "44\t0.19217549\t0.71635181\n",
      "45\t0.19207594\t0.71877247\n",
      "46\t0.18781416\t0.71297693\n",
      "47\t0.19330262\t0.71075827\n",
      "48\t0.18881823\t0.70461506\n",
      "49\t0.18543965\t0.7090497\n",
      "50\t0.18885529\t0.70931262\n",
      "51\t0.19203307\t0.71491259\n",
      "52\t0.19288592\t0.72028726\n",
      "53\t0.19545273\t0.72303736\n",
      "54\t0.19340043\t0.72842455\n",
      "55\t0.19272929\t0.72752786\n",
      "56\t0.19448112\t0.72433156\n",
      "57\t0.18352582\t0.71729946\n",
      "58\t0.18613145\t0.70555967\n",
      "59\t0.1856833\t0.69957596\n",
      "60\t0.18472783\t0.70203328\n",
      "61\t0.18376781\t0.68897408\n",
      "62\t0.18548319\t0.6973477\n",
      "63\t0.18213342\t0.69578481\n",
      "64\t0.18898824\t0.69371766\n",
      "65\t0.18978003\t0.69051415\n",
      "66\t0.18490617\t0.69449198\n",
      "67\t0.18226475\t0.69232023\n",
      "68\t0.18376715\t0.68875891\n",
      "69\t0.18476537\t0.68231231\n",
      "70\t0.19056141\t0.68872583\n",
      "71\t0.18129855\t0.68642956\n",
      "72\t0.18065315\t0.69432253\n",
      "73\t0.19114567\t0.6949423\n",
      "74\t0.18640646\t0.69658339\n",
      "75\t0.18215445\t0.7047559\n",
      "76\t0.18573046\t0.70071602\n",
      "77\t0.18946636\t0.7030111\n",
      "78\t0.18612033\t0.70149237\n",
      "79\t0.19388983\t0.69303048\n",
      "80\t0.18918675\t0.69453514\n",
      "81\t0.18459505\t0.69536805\n",
      "82\t0.1849618\t0.69548517\n",
      "83\t0.18044254\t0.70020866\n",
      "84\t0.1897541\t0.693726\n",
      "85\t0.18877204\t0.69445932\n",
      "86\t0.18354028\t0.69545454\n",
      "87\t0.18356828\t0.69979095\n",
      "88\t0.19030856\t0.70175678\n",
      "89\t0.19429953\t0.70422864\n",
      "90\t0.18341988\t0.70917058\n",
      "91\t0.19139625\t0.70529044\n",
      "92\t0.19516815\t0.70441955\n",
      "93\t0.18342771\t0.70755756\n",
      "94\t0.17634158\t0.7017079\n",
      "95\t0.18560287\t0.69228894\n",
      "96\t0.18833649\t0.69344628\n",
      "97\t0.18950394\t0.71130538\n",
      "98\t0.19119866\t0.72237307\n",
      "99\t0.18637851\t0.73377484\n",
      "100\t0.18391827\t0.75701934\n",
      "101\t0.19097035\t0.74691039\n",
      "time: 10.2 ms\n"
     ]
    }
   ],
   "source": [
    "print( 'layer\\tmean\\tvar' )\n",
    "for i, p in enumerate( ps ):\n",
    "    print( '%r\\t%r\\t%r' % ( i, p[ 0 ], p[ 1 ] ) )"
   ]
  },
  {
   "cell_type": "code",
   "execution_count": 37,
   "metadata": {},
   "outputs": [
    {
     "name": "stdout",
     "output_type": "stream",
     "text": [
      "layer # 0\n",
      "mean: 0.000433723\n",
      "var: 0.00212781\n"
     ]
    },
    {
     "data": {
      "image/png": "[encoded data removed]",
      "text/plain": [
       "<matplotlib.figure.Figure at 0x7f03c1bd3128>"
      ]
     },
     "metadata": {},
     "output_type": "display_data"
    },
    {
     "name": "stdout",
     "output_type": "stream",
     "text": [
      "time: 3.15 s\n"
     ]
    }
   ],
   "source": [
    "n = 0\n",
    "t = [ weights.flatten() for layer in ms3[ n ].layers for weights in layer.get_weights() if weights.ndim == 2 ]\n",
    "_ = pd.Series( t[ -1 ] ).plot.hist( bins=100 )\n",
    "print( 'layer #', n )\n",
    "print( 'mean:', np.mean( t[ -1 ] ) )\n",
    "print( 'var:', np.var( t[ -1 ] ) )"
   ]
  },
  {
   "cell_type": "code",
   "execution_count": 38,
   "metadata": {},
   "outputs": [
    {
     "name": "stdout",
     "output_type": "stream",
     "text": [
      "layer # 33\n",
      "mean: 9.01701e-05\n",
      "var: 0.00228148\n"
     ]
    },
    {
     "data": {
      "image/png": "[encoded data removed]",
      "text/plain": [
       "<matplotlib.figure.Figure at 0x7f03c1b53668>"
      ]
     },
     "metadata": {},
     "output_type": "display_data"
    },
    {
     "name": "stdout",
     "output_type": "stream",
     "text": [
      "time: 2.26 s\n"
     ]
    }
   ],
   "source": [
    "n = len( ms3 ) // 3\n",
    "t = [ weights.flatten() for layer in ms3[ n ].layers for weights in layer.get_weights() if weights.ndim == 2 ]\n",
    "_ = pd.Series( t[ -1 ] ).plot.hist( bins=100 )\n",
    "print( 'layer #', n )\n",
    "print( 'mean:', np.mean( t[ -1 ] ) )\n",
    "print( 'var:', np.var( t[ -1 ] ) )"
   ]
  },
  {
   "cell_type": "code",
   "execution_count": 39,
   "metadata": {},
   "outputs": [
    {
     "name": "stdout",
     "output_type": "stream",
     "text": [
      "layer # 66\n",
      "mean: 0.00038108\n",
      "var: 0.00234986\n"
     ]
    },
    {
     "data": {
      "image/png": "[encoded data removed]",
      "text/plain": [
       "<matplotlib.figure.Figure at 0x7f03c03474a8>"
      ]
     },
     "metadata": {},
     "output_type": "display_data"
    },
    {
     "name": "stdout",
     "output_type": "stream",
     "text": [
      "time: 2.26 s\n"
     ]
    }
   ],
   "source": [
    "n = len( ms3 ) // 3 * 2\n",
    "t = [ weights.flatten() for layer in ms3[ n ].layers for weights in layer.get_weights() if weights.ndim == 2 ]\n",
    "_ = pd.Series( t[ -1 ] ).plot.hist( bins=100 )\n",
    "print( 'layer #', n )\n",
    "print( 'mean:', np.mean( t[ -1 ] ) )\n",
    "print( 'var:', np.var( t[ -1 ] ) )"
   ]
  },
  {
   "cell_type": "code",
   "execution_count": 40,
   "metadata": {},
   "outputs": [
    {
     "name": "stdout",
     "output_type": "stream",
     "text": [
      "layer # 100\n",
      "mean: 3.68527e-05\n",
      "var: 0.00230261\n"
     ]
    },
    {
     "data": {
      "image/png": "[encoded data removed]",
      "text/plain": [
       "<matplotlib.figure.Figure at 0x7f03c023e0b8>"
      ]
     },
     "metadata": {},
     "output_type": "display_data"
    },
    {
     "name": "stdout",
     "output_type": "stream",
     "text": [
      "time: 2.27 s\n"
     ]
    }
   ],
   "source": [
    "n = len( ms3 ) - 1\n",
    "t = [ weights.flatten() for layer in ms3[ n ].layers for weights in layer.get_weights() if weights.ndim == 2 ]\n",
    "_ = pd.Series( t[ -1 ] ).plot.hist( bins=100 )\n",
    "print( 'layer #', n )\n",
    "print( 'mean:', np.mean( t[ -1 ] ) )\n",
    "print( 'var:', np.var( t[ -1 ] ) )"
   ]
  },
  {
   "cell_type": "markdown",
   "metadata": {},
   "source": [
    "# compare"
   ]
  },
  {
   "cell_type": "code",
   "execution_count": 41,
   "metadata": {},
   "outputs": [
    {
     "data": {
      "image/png": "[encoded data removed]",
      "text/plain": [
       "<matplotlib.figure.Figure at 0x7f03c1ba0390>"
      ]
     },
     "metadata": {},
     "output_type": "display_data"
    },
    {
     "name": "stdout",
     "output_type": "stream",
     "text": [
      "time: 167 ms\n"
     ]
    }
   ],
   "source": [
    "_ = pd.Series( h1.history[ 'acc' ], name='selu' ).plot.line( legend=True )\n",
    "_ = pd.Series( h2.history[ 'acc' ], name='batchnorm' ).plot.line( legend=True )\n",
    "_ = pd.Series( h3.history[ 'acc' ], name='elu' ).plot.line( legend=True )"
   ]
  },
  {
   "cell_type": "code",
   "execution_count": 42,
   "metadata": {},
   "outputs": [
    {
     "data": {
      "image/png": "[encoded data removed]",
      "text/plain": [
       "<matplotlib.figure.Figure at 0x7f03c0966898>"
      ]
     },
     "metadata": {},
     "output_type": "display_data"
    },
    {
     "name": "stdout",
     "output_type": "stream",
     "text": [
      "time: 160 ms\n"
     ]
    }
   ],
   "source": [
    "_ = pd.Series( h1.history[ 'loss' ], name='selu' ).plot.line( legend=True )\n",
    "_ = pd.Series( h2.history[ 'loss' ], name='batchnorm' ).plot.line( legend=True )\n",
    "_ = pd.Series( h3.history[ 'loss' ], name='elu' ).plot.line( legend=True )"
   ]
  },
  {
   "cell_type": "markdown",
   "metadata": {},
   "source": [
    "# check"
   ]
  },
  {
   "cell_type": "code",
   "execution_count": 43,
   "metadata": {},
   "outputs": [
    {
     "name": "stdout",
     "output_type": "stream",
     "text": [
      "time: 1.69 ms\n"
     ]
    }
   ],
   "source": [
    "def np_selu( x ):\n",
    "    alpha = 1.6732632423543772848170429916717\n",
    "    scale = 1.0507009873554804934193349852946\n",
    "    return scale * np.where( x >= 0., x, alpha * np.exp( x ) - alpha )"
   ]
  },
  {
   "cell_type": "code",
   "execution_count": 44,
   "metadata": {},
   "outputs": [
    {
     "name": "stdout",
     "output_type": "stream",
     "text": [
      "(60000, 784)\n",
      "0\t-0.011920605712988516\t0.85198201477584057\n",
      "1\t-0.014009930001073685\t0.84009209231053528\n",
      "2\t-0.014833814263369665\t0.83710566498916028\n",
      "3\t-0.01345325858059928\t0.85542114695937022\n",
      "4\t-0.011074051521657149\t0.87604506129786197\n",
      "5\t-0.01538204698140253\t0.88946831604468357\n",
      "6\t-0.012597512179082785\t0.90667193212244246\n",
      "7\t-0.012218370386710061\t0.92522697872572746\n",
      "8\t-0.011835921087635265\t0.93761840394517637\n",
      "9\t-0.0074533372373455486\t0.9401515317599346\n",
      "10\t-0.00042083918916277485\t0.95321168773018539\n",
      "11\t-0.0031128792794270456\t0.95115693334616513\n",
      "12\t-0.0060753594076044578\t0.97491144573548649\n",
      "13\t-0.0025468591997165543\t0.96868499301251776\n",
      "14\t-0.0026659201866568358\t0.97255763241804294\n",
      "15\t0.0022811015280165795\t0.98521077735463736\n",
      "16\t-0.0079720580471199128\t0.98059247457471876\n",
      "17\t-0.0081024385035842091\t0.98552152268067084\n",
      "18\t-0.0037256306834446804\t0.98150133786185612\n",
      "19\t-0.0031892810750676062\t0.98438915338626953\n",
      "time: 50 s\n"
     ]
    }
   ],
   "source": [
    "t = train_x\n",
    "print( t.shape )\n",
    "for i in range( 20 ):\n",
    "    w = np.random.normal( size=( train_x.shape[ 1 ], train_x.shape[ 1 ] ), scale=math.sqrt( 1. / train_x.shape[ 1 ] ) )\n",
    "    t = np_selu( np.dot( t, w ) )\n",
    "    print( '%r\\t%r\\t%r' % ( i, t.mean(), t.var() ) )"
   ]
  },
  {
   "cell_type": "code",
   "execution_count": 45,
   "metadata": {},
   "outputs": [
    {
     "name": "stdout",
     "output_type": "stream",
     "text": [
      "0\t8.8917216914988876e-05\t1.0016365283566371\n",
      "1\t0.00033826504362383558\t1.0006840805694719\n",
      "2\t-0.00073038797663131693\t0.99611003249518393\n",
      "3\t2.8628515289885415e-05\t0.99952143589225884\n",
      "4\t0.00067301329832848927\t1.0041382115652706\n",
      "5\t0.00078331525111077955\t1.0052397062868257\n",
      "6\t-0.0003133192233469347\t1.0021971331562054\n",
      "7\t0.00053718432781164937\t1.0009316085610163\n",
      "8\t-0.00085682833216060221\t1.0032191018325833\n",
      "9\t-0.00090194685470240969\t0.99931213219912995\n",
      "10\t0.00016912271394340804\t0.99536900337506862\n",
      "11\t-7.1582761479131846e-05\t0.99922497792148435\n",
      "12\t-0.00091602064390040633\t0.99455061991274651\n",
      "13\t0.00043653392394994863\t0.99708407507611263\n",
      "14\t-0.0019440107130257829\t1.0027700623031297\n",
      "15\t0.0023220144489770013\t1.0052443198166001\n",
      "16\t-0.0007566922542048437\t0.9940181188021181\n",
      "17\t0.00094569425123910652\t0.99477900543532549\n",
      "18\t0.0020817759208735204\t0.99422125598369582\n",
      "19\t0.00020090475405414455\t0.99437475665605879\n",
      "time: 52 s\n"
     ]
    }
   ],
   "source": [
    "t = np.random.normal( size=( train_x.shape[ 0 ], train_x.shape[ 1 ] ) )\n",
    "for i in range( 20 ):\n",
    "    w = np.random.normal( size=( train_x.shape[ 1 ], train_x.shape[ 1 ] ), scale=math.sqrt( 1. / train_x.shape[ 1 ] ) )\n",
    "    t = np_selu( np.dot( t, w ) )\n",
    "    print( '%r\\t%r\\t%r' % ( i, t.mean(), t.var() ) )"
   ]
  },
  {
   "cell_type": "code",
   "execution_count": 46,
   "metadata": {},
   "outputs": [
    {
     "name": "stdout",
     "output_type": "stream",
     "text": [
      "0\t0.00061197383780942159\t1.0049188121767569\n",
      "1\t-0.0021906774801428376\t0.99610492452485344\n",
      "2\t-0.0026018570652697019\t0.97297968057537476\n",
      "3\t-0.0059959469918653002\t0.96624082882116791\n",
      "4\t-0.005262518223938556\t0.97338897993584539\n",
      "5\t-0.0026770559077949649\t0.96008053782939318\n",
      "6\t0.00017882479782118269\t0.98618381145220491\n",
      "7\t-0.0039505649932618887\t0.99606208374990979\n",
      "8\t-0.0049368025448500285\t0.997437761323688\n",
      "9\t-0.010580089033221943\t0.98464502152844147\n",
      "10\t-0.010901693856057262\t0.96191131676100172\n",
      "11\t-0.0053341707440030537\t0.9623296710077377\n",
      "12\t0.0013069063968984716\t0.98583348302952467\n",
      "13\t0.010631826133720547\t1.031277486012151\n",
      "14\t0.010889481582452286\t1.0368072802776547\n",
      "15\t0.0053155587091486788\t1.022010899532783\n",
      "16\t0.02259918219952391\t1.032625511429478\n",
      "17\t-0.0019931906643187529\t1.0200213627630039\n",
      "18\t-0.0013621488479305191\t1.0017253033754758\n",
      "19\t0.0018963665556534855\t0.99340757004512636\n",
      "time: 130 ms\n"
     ]
    }
   ],
   "source": [
    "t = np.random.normal( size=( 300, 200 ) )\n",
    "for i in range( 20 ):\n",
    "    w = np.random.normal( size=( 200, 200 ), scale=math.sqrt( 1. / 200 ) )\n",
    "    t = np_selu( np.dot( t, w ) )\n",
    "    print( '%r\\t%r\\t%r' % ( i, t.mean(), t.var() ) )"
   ]
  }
 ],
 "metadata": {
  "kernelspec": {
   "display_name": "Python 3",
   "language": "python",
   "name": "python3"
  },
  "language_info": {
   "codemirror_mode": {
    "name": "ipython",
    "version": 3
   },
   "file_extension": ".py",
   "mimetype": "text/x-python",
   "name": "python",
   "nbconvert_exporter": "python",
   "pygments_lexer": "ipython3",
   "version": "3.5.2"
  }
 },
 "nbformat": 4,
 "nbformat_minor": 2
}
