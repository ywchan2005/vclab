{
 "cells": [
  {
   "cell_type": "code",
   "execution_count": 1,
   "metadata": {
    "collapsed": true
   },
   "outputs": [],
   "source": [
    "%matplotlib inline\n",
    "%load_ext autotime\n",
    "\n",
    "import math\n",
    "import matplotlib as mpl\n",
    "import matplotlib.pyplot as pt\n",
    "import numpy as np\n",
    "import pandas as pd\n",
    "import sklearn as sk\n",
    "import sklearn.metrics"
   ]
  },
  {
   "cell_type": "code",
   "execution_count": 2,
   "metadata": {},
   "outputs": [
    {
     "name": "stderr",
     "output_type": "stream",
     "text": [
      "Using TensorFlow backend.\n"
     ]
    },
    {
     "name": "stdout",
     "output_type": "stream",
     "text": [
      "time: 9.71 s\n"
     ]
    }
   ],
   "source": [
    "import keras\n",
    "import tensorflow as tf"
   ]
  },
  {
   "cell_type": "code",
   "execution_count": 3,
   "metadata": {},
   "outputs": [
    {
     "name": "stdout",
     "output_type": "stream",
     "text": [
      "time: 766 µs\n"
     ]
    }
   ],
   "source": [
    "mpl.rcParams[ 'figure.figsize' ] = ( 18, 3 )"
   ]
  },
  {
   "cell_type": "markdown",
   "metadata": {},
   "source": [
    "# load data"
   ]
  },
  {
   "cell_type": "code",
   "execution_count": 4,
   "metadata": {},
   "outputs": [
    {
     "data": {
      "text/plain": [
       "((60000, 784), (60000, 10), (10000, 784), (10000, 10))"
      ]
     },
     "execution_count": 4,
     "metadata": {},
     "output_type": "execute_result"
    },
    {
     "name": "stdout",
     "output_type": "stream",
     "text": [
      "time: 1.04 s\n"
     ]
    }
   ],
   "source": [
    "from keras.datasets import mnist\n",
    "( train_x, train_y ), ( test_x, test_y ) = mnist.load_data()\n",
    "train_x = train_x.astype( float ).reshape( train_x.shape[ 0 ], -1 )\n",
    "train_x = sk.preprocessing.StandardScaler().fit_transform( train_x )\n",
    "train_y = keras.utils.to_categorical( train_y )\n",
    "test_x = test_x.astype( float ).reshape( test_x.shape[ 0 ], -1 )\n",
    "test_x = sk.preprocessing.StandardScaler().fit_transform( test_x )\n",
    "test_y = keras.utils.to_categorical( test_y )\n",
    "train_x.shape, train_y.shape, test_x.shape, test_y.shape"
   ]
  },
  {
   "cell_type": "markdown",
   "metadata": {},
   "source": [
    "# parameters"
   ]
  },
  {
   "cell_type": "code",
   "execution_count": 5,
   "metadata": {},
   "outputs": [
    {
     "name": "stdout",
     "output_type": "stream",
     "text": [
      "time: 1.17 ms\n"
     ]
    }
   ],
   "source": [
    "hidden_dim = 512\n",
    "n_layers = 100\n",
    "batch_size = 10000\n",
    "epochs = 100"
   ]
  },
  {
   "cell_type": "markdown",
   "metadata": {},
   "source": [
    "# self normalizing neural network"
   ]
  },
  {
   "cell_type": "code",
   "execution_count": 6,
   "metadata": {},
   "outputs": [
    {
     "name": "stdout",
     "output_type": "stream",
     "text": [
      "time: 34.3 ms\n"
     ]
    }
   ],
   "source": [
    "def selu( x ):\n",
    "    alpha = 1.6732632423543772848170429916717\n",
    "    scale = 1.0507009873554804934193349852946\n",
    "    return scale * tf.where( x >= 0., x, alpha * tf.nn.elu( x ) )"
   ]
  },
  {
   "cell_type": "code",
   "execution_count": 7,
   "metadata": {},
   "outputs": [
    {
     "name": "stdout",
     "output_type": "stream",
     "text": [
      "time: 27.8 ms\n"
     ]
    }
   ],
   "source": [
    "def init( shape, dtype=None ):\n",
    "    return tf.random_normal( shape, stddev=tf.sqrt( 1. / shape[ 1 ] ) )"
   ]
  },
  {
   "cell_type": "code",
   "execution_count": 8,
   "metadata": {},
   "outputs": [
    {
     "name": "stdout",
     "output_type": "stream",
     "text": [
      "time: 897 ms\n"
     ]
    }
   ],
   "source": [
    "ms1 = []\n",
    "ms1.append( keras.models.Sequential() )\n",
    "ms1[ 0 ].add( keras.layers.Dense( hidden_dim, input_shape=train_x.shape[ 1: ], kernel_initializer=init ) )\n",
    "ms1[ 0 ].add( keras.layers.Activation( selu ) )\n",
    "for i in range( n_layers ):\n",
    "    ms1.append( keras.models.Sequential() )\n",
    "    ms1[ i + 1 ].add( keras.layers.Dense( hidden_dim, input_shape=( hidden_dim, ), kernel_initializer=init ) )\n",
    "    ms1[ i + 1 ].add( keras.layers.Activation( selu ) )"
   ]
  },
  {
   "cell_type": "code",
   "execution_count": 9,
   "metadata": {},
   "outputs": [
    {
     "name": "stdout",
     "output_type": "stream",
     "text": [
      "time: 439 ms\n"
     ]
    }
   ],
   "source": [
    "m1 = keras.models.Sequential()\n",
    "for i in ms1:\n",
    "    m1.add( i )\n",
    "m1.add( keras.layers.Dense( train_y.shape[ 1 ], kernel_initializer='glorot_normal' ) )\n",
    "m1.add( keras.layers.Activation( 'softmax' ) )\n",
    "m1.compile( loss='categorical_crossentropy', optimizer=keras.optimizers.Adam(), metrics=[ 'acc' ] )"
   ]
  },
  {
   "cell_type": "code",
   "execution_count": 10,
   "metadata": {
    "scrolled": false
   },
   "outputs": [
    {
     "name": "stdout",
     "output_type": "stream",
     "text": [
      "time: 3min 58s\n"
     ]
    }
   ],
   "source": [
    "h1 = m1.fit( train_x, train_y, batch_size=batch_size, epochs=epochs, verbose=0 )"
   ]
  },
  {
   "cell_type": "code",
   "execution_count": 11,
   "metadata": {},
   "outputs": [
    {
     "data": {
      "image/png": "[encoded data removed]",
      "text/plain": [
       "<matplotlib.figure.Figure at 0x7f878c0cb940>"
      ]
     },
     "metadata": {},
     "output_type": "display_data"
    },
    {
     "name": "stdout",
     "output_type": "stream",
     "text": [
      "time: 145 ms\n"
     ]
    }
   ],
   "source": [
    "_ = pd.Series( h1.history[ 'loss' ], name='loss' ).plot.line( legend=True )\n",
    "_ = pd.Series( h1.history[ 'acc' ], name='acc' ).plot.line( legend=True )"
   ]
  },
  {
   "cell_type": "code",
   "execution_count": 12,
   "metadata": {},
   "outputs": [
    {
     "data": {
      "text/plain": [
       "0.098716666666666661"
      ]
     },
     "execution_count": 12,
     "metadata": {},
     "output_type": "execute_result"
    },
    {
     "name": "stdout",
     "output_type": "stream",
     "text": [
      "time: 1.25 s\n"
     ]
    }
   ],
   "source": [
    "sk.metrics.accuracy_score( np.argmax( train_y, 1 ), np.argmax( m1.predict( train_x, batch_size=batch_size ), 1 ) )"
   ]
  },
  {
   "cell_type": "code",
   "execution_count": 13,
   "metadata": {},
   "outputs": [
    {
     "name": "stdout",
     "output_type": "stream",
     "text": [
      "time: 38.4 s\n"
     ]
    }
   ],
   "source": [
    "ps = []\n",
    "p = train_x\n",
    "ps.append( tuple( ( p.mean(), p.var() ) ) )\n",
    "for i in range( len( ms1 ) ):\n",
    "    p = ms1[ i ].predict( p, batch_size=batch_size )\n",
    "    ps.append( tuple( ( p.mean(), p.var() ) ) )"
   ]
  },
  {
   "cell_type": "code",
   "execution_count": 14,
   "metadata": {},
   "outputs": [
    {
     "name": "stdout",
     "output_type": "stream",
     "text": [
      "layer\tmean\tvar\n",
      "0\t-2.1974863349995617e-18\t0.91454081632655582\n",
      "1\t0.039037514\t1.3661046\n",
      "2\t0.084470123\t1.7262069\n",
      "3\t0.19598107\t2.4948256\n",
      "4\t0.32964149\t3.5941908\n",
      "5\t0.51522207\t5.0907264\n",
      "6\t0.7142598\t7.0752225\n",
      "7\t1.0142425\t9.9000301\n",
      "8\t1.2534444\t13.01276\n",
      "9\t1.6442024\t17.210638\n",
      "10\t1.8772147\t21.454012\n",
      "11\t2.0101578\t24.997662\n",
      "12\t2.4419577\t30.654345\n",
      "13\t2.754256\t36.748608\n",
      "14\t3.1371644\t44.641529\n",
      "15\t3.6360178\t53.016087\n",
      "16\t3.4375231\t56.3582\n",
      "17\t4.1025376\t67.175369\n",
      "18\t4.1722574\t78.065834\n",
      "19\t4.5797668\t87.527367\n",
      "20\t4.6371818\t95.264381\n",
      "21\t5.2076564\t101.92229\n",
      "22\t6.1744809\t123.2802\n",
      "23\t5.939724\t130.72391\n",
      "24\t6.7336726\t153.12012\n",
      "25\t7.2260222\t169.10301\n",
      "26\t7.2421446\t180.8606\n",
      "27\t8.134182\t212.40987\n",
      "28\t9.2850161\t255.43736\n",
      "29\t9.5055342\t290.24994\n",
      "30\t10.46689\t336.76694\n",
      "31\t11.233859\t348.93759\n",
      "32\t11.202724\t376.09003\n",
      "33\t12.138782\t400.8002\n",
      "34\t13.441179\t500.68973\n",
      "35\t12.866833\t535.88422\n",
      "36\t14.356503\t558.44653\n",
      "37\t16.450024\t736.62494\n",
      "38\t21.239067\t1018.1851\n",
      "39\t20.870756\t1287.6281\n",
      "40\t26.033743\t1534.8712\n",
      "41\t28.798086\t2221.6646\n",
      "42\t37.138424\t2959.7468\n",
      "43\t34.748981\t3625.4006\n",
      "44\t40.309223\t4279.5649\n",
      "45\t45.021297\t5373.376\n",
      "46\t53.31192\t6784.5254\n",
      "47\t60.399479\t8858.2451\n",
      "48\t72.461639\t12806.453\n",
      "49\t81.491058\t16161.909\n",
      "50\t87.848274\t19720.396\n",
      "51\t104.78498\t25045.305\n",
      "52\t117.33875\t31883.768\n",
      "53\t126.87582\t37064.211\n",
      "54\t126.29307\t42019.512\n",
      "55\t150.45651\t51801.785\n",
      "56\t175.00012\t69986.516\n",
      "57\t179.41229\t78730.203\n",
      "58\t203.46625\t93274.445\n",
      "59\t208.47974\t104520.34\n",
      "60\t234.64801\t123558.09\n",
      "61\t246.96313\t156586.2\n",
      "62\t250.92084\t159210.11\n",
      "63\t253.96762\t160373.45\n",
      "64\t301.85706\t185615.12\n",
      "65\t300.12198\t227544.09\n",
      "66\t335.62296\t283878.72\n",
      "67\t376.01831\t318633.78\n",
      "68\t401.78403\t374806.88\n",
      "69\t401.39896\t378105.88\n",
      "70\t396.62683\t413848.0\n",
      "71\t401.21121\t400708.09\n",
      "72\t428.47803\t407339.69\n",
      "73\t510.50107\t543481.38\n",
      "74\t507.21631\t687337.0\n",
      "75\t521.98401\t699747.69\n",
      "76\t530.98608\t722944.56\n",
      "77\t570.36066\t848838.31\n",
      "78\t618.32971\t1092347.8\n",
      "79\t716.48456\t1355290.8\n",
      "80\t768.80322\t1788064.9\n",
      "81\t980.3056\t2512310.5\n",
      "82\t1095.8242\t3622885.8\n",
      "83\t1255.585\t4917376.5\n",
      "84\t1571.0121\t7394789.5\n",
      "85\t1838.0082\t11535148.0\n",
      "86\t2099.2314\t16239030.0\n",
      "87\t2940.0496\t26182274.0\n",
      "88\t3681.1177\t37642752.0\n",
      "89\t4066.0957\t57155996.0\n",
      "90\t4988.4219\t76994216.0\n",
      "91\t5845.624\t1.0593999e+08\n",
      "92\t7729.4316\t1.4405291e+08\n",
      "93\t8218.2627\t2.1956174e+08\n",
      "94\t9940.4736\t2.763312e+08\n",
      "95\t11099.962\t3.6075034e+08\n",
      "96\t12996.637\t4.5802186e+08\n",
      "97\t15478.936\t6.3453082e+08\n",
      "98\t16676.721\t8.5036717e+08\n",
      "99\t19600.283\t1.1996269e+09\n",
      "100\t22318.32\t1.3774004e+09\n",
      "101\t22422.188\t1.6060303e+09\n",
      "time: 14.9 ms\n"
     ]
    }
   ],
   "source": [
    "print( 'layer\\tmean\\tvar' )\n",
    "for i, p in enumerate( ps ):\n",
    "    print( '%r\\t%r\\t%r' % ( i, p[ 0 ], p[ 1 ] ) )"
   ]
  },
  {
   "cell_type": "code",
   "execution_count": 15,
   "metadata": {},
   "outputs": [
    {
     "name": "stdout",
     "output_type": "stream",
     "text": [
      "layer # 0\n",
      "mean: -3.91306e-05\n",
      "var: 0.00197388\n"
     ]
    },
    {
     "data": {
      "image/png": "[encoded data removed]",
      "text/plain": [
       "<matplotlib.figure.Figure at 0x7f878a6efc18>"
      ]
     },
     "metadata": {},
     "output_type": "display_data"
    },
    {
     "name": "stdout",
     "output_type": "stream",
     "text": [
      "time: 2.91 s\n"
     ]
    }
   ],
   "source": [
    "n = 0\n",
    "t = [ weights.flatten() for layer in ms1[ n ].layers for weights in layer.get_weights() if weights.ndim == 2 ]\n",
    "_ = pd.Series( t[ -1 ] ).plot.hist( bins=100 )\n",
    "print( 'layer #', n )\n",
    "print( 'mean:', np.mean( t[ -1 ] ) )\n",
    "print( 'var:', np.var( t[ -1 ] ) )"
   ]
  },
  {
   "cell_type": "code",
   "execution_count": 16,
   "metadata": {},
   "outputs": [
    {
     "name": "stdout",
     "output_type": "stream",
     "text": [
      "layer # 33\n",
      "mean: -0.000100048\n",
      "var: 0.00198454\n"
     ]
    },
    {
     "data": {
      "image/png": "[encoded data removed]",
      "text/plain": [
       "<matplotlib.figure.Figure at 0x7f878a681860>"
      ]
     },
     "metadata": {},
     "output_type": "display_data"
    },
    {
     "name": "stdout",
     "output_type": "stream",
     "text": [
      "time: 1.89 s\n"
     ]
    }
   ],
   "source": [
    "n = len( ms1 ) // 3\n",
    "t = [ weights.flatten() for layer in ms1[ n ].layers for weights in layer.get_weights() if weights.ndim == 2 ]\n",
    "_ = pd.Series( t[ -1 ] ).plot.hist( bins=100 )\n",
    "print( 'layer #', n )\n",
    "print( 'mean:', np.mean( t[ -1 ] ) )\n",
    "print( 'var:', np.var( t[ -1 ] ) )"
   ]
  },
  {
   "cell_type": "code",
   "execution_count": 17,
   "metadata": {},
   "outputs": [
    {
     "name": "stdout",
     "output_type": "stream",
     "text": [
      "layer # 66\n",
      "mean: -3.80539e-05\n",
      "var: 0.00198551\n"
     ]
    },
    {
     "data": {
      "image/png": "[encoded data removed]",
      "text/plain": [
       "<matplotlib.figure.Figure at 0x7f878a6b6668>"
      ]
     },
     "metadata": {},
     "output_type": "display_data"
    },
    {
     "name": "stdout",
     "output_type": "stream",
     "text": [
      "time: 1.89 s\n"
     ]
    }
   ],
   "source": [
    "n = len( ms1 ) // 3 * 2\n",
    "t = [ weights.flatten() for layer in ms1[ n ].layers for weights in layer.get_weights() if weights.ndim == 2 ]\n",
    "_ = pd.Series( t[ -1 ] ).plot.hist( bins=100 )\n",
    "print( 'layer #', n )\n",
    "print( 'mean:', np.mean( t[ -1 ] ) )\n",
    "print( 'var:', np.var( t[ -1 ] ) )"
   ]
  },
  {
   "cell_type": "code",
   "execution_count": 18,
   "metadata": {},
   "outputs": [
    {
     "name": "stdout",
     "output_type": "stream",
     "text": [
      "layer # 100\n",
      "mean: 9.08152e-05\n",
      "var: 0.0019789\n"
     ]
    },
    {
     "data": {
      "image/png": "[encoded data removed]",
      "text/plain": [
       "<matplotlib.figure.Figure at 0x7f873c1ce390>"
      ]
     },
     "metadata": {},
     "output_type": "display_data"
    },
    {
     "name": "stdout",
     "output_type": "stream",
     "text": [
      "time: 1.94 s\n"
     ]
    }
   ],
   "source": [
    "n = len( ms1 ) - 1\n",
    "t = [ weights.flatten() for layer in ms1[ n ].layers for weights in layer.get_weights() if weights.ndim == 2 ]\n",
    "_ = pd.Series( t[ -1 ] ).plot.hist( bins=100 )\n",
    "print( 'layer #', n )\n",
    "print( 'mean:', np.mean( t[ -1 ] ) )\n",
    "print( 'var:', np.var( t[ -1 ] ) )"
   ]
  },
  {
   "cell_type": "markdown",
   "metadata": {},
   "source": [
    "# batch normalization"
   ]
  },
  {
   "cell_type": "code",
   "execution_count": 19,
   "metadata": {},
   "outputs": [
    {
     "name": "stdout",
     "output_type": "stream",
     "text": [
      "time: 3.17 s\n"
     ]
    }
   ],
   "source": [
    "ms2 = []\n",
    "ms2.append( keras.models.Sequential() )\n",
    "ms2[ 0 ].add( keras.layers.Dense( hidden_dim, input_shape=train_x.shape[ 1: ], kernel_initializer=init ) )\n",
    "ms2[ 0 ].add( keras.layers.BatchNormalization() )\n",
    "ms2[ 0 ].add( keras.layers.advanced_activations.ELU() )\n",
    "for i in range( n_layers ):\n",
    "    ms2.append( keras.models.Sequential() )\n",
    "    ms2[ i + 1 ].add( keras.layers.Dense( hidden_dim, input_shape=( hidden_dim, ), kernel_initializer=init ) )\n",
    "    ms2[ i + 1 ].add( keras.layers.BatchNormalization() )\n",
    "    ms2[ i + 1 ].add( keras.layers.advanced_activations.ELU() )"
   ]
  },
  {
   "cell_type": "code",
   "execution_count": 20,
   "metadata": {},
   "outputs": [
    {
     "name": "stdout",
     "output_type": "stream",
     "text": [
      "time: 2.08 s\n"
     ]
    }
   ],
   "source": [
    "m2 = keras.models.Sequential()\n",
    "for i in ms2:\n",
    "    m2.add( i )\n",
    "m2.add( keras.layers.Dense( train_y.shape[ 1 ], kernel_initializer='glorot_normal' ) )\n",
    "m2.add( keras.layers.Activation( 'softmax' ) )\n",
    "m2.compile( loss='categorical_crossentropy', optimizer=keras.optimizers.Adam(), metrics=[ 'acc' ] )"
   ]
  },
  {
   "cell_type": "code",
   "execution_count": 21,
   "metadata": {
    "scrolled": false
   },
   "outputs": [
    {
     "name": "stdout",
     "output_type": "stream",
     "text": [
      "time: 5min 13s\n"
     ]
    }
   ],
   "source": [
    "h2 = m2.fit( train_x, train_y, batch_size=batch_size, epochs=epochs, verbose=0 )"
   ]
  },
  {
   "cell_type": "code",
   "execution_count": 22,
   "metadata": {},
   "outputs": [
    {
     "data": {
      "image/png": "[encoded data removed]",
      "text/plain": [
       "<matplotlib.figure.Figure at 0x7f8681bea278>"
      ]
     },
     "metadata": {},
     "output_type": "display_data"
    },
    {
     "name": "stdout",
     "output_type": "stream",
     "text": [
      "time: 142 ms\n"
     ]
    }
   ],
   "source": [
    "_ = pd.Series( h2.history[ 'loss' ], name='loss' ).plot.line( legend=True )\n",
    "_ = pd.Series( h2.history[ 'acc' ], name='acc' ).plot.line( legend=True )"
   ]
  },
  {
   "cell_type": "code",
   "execution_count": 23,
   "metadata": {},
   "outputs": [
    {
     "data": {
      "text/plain": [
       "0.99646666666666661"
      ]
     },
     "execution_count": 23,
     "metadata": {},
     "output_type": "execute_result"
    },
    {
     "name": "stdout",
     "output_type": "stream",
     "text": [
      "time: 2.53 s\n"
     ]
    }
   ],
   "source": [
    "sk.metrics.accuracy_score( np.argmax( train_y, 1 ), np.argmax( m2.predict( train_x, batch_size=batch_size ), 1 ) )"
   ]
  },
  {
   "cell_type": "code",
   "execution_count": 24,
   "metadata": {},
   "outputs": [
    {
     "name": "stdout",
     "output_type": "stream",
     "text": [
      "time: 2min 8s\n"
     ]
    }
   ],
   "source": [
    "ps = []\n",
    "p = train_x\n",
    "ps.append( tuple( ( p.mean(), p.var() ) ) )\n",
    "for i in range( len( ms2 ) ):\n",
    "    p = ms2[ i ].predict( p, batch_size=batch_size )\n",
    "    ps.append( tuple( ( p.mean(), p.var() ) ) )"
   ]
  },
  {
   "cell_type": "code",
   "execution_count": 25,
   "metadata": {},
   "outputs": [
    {
     "name": "stdout",
     "output_type": "stream",
     "text": [
      "layer\tmean\tvar\n",
      "0\t-2.1974863349995617e-18\t0.91454081632655582\n",
      "1\t0.1401336\t0.60767025\n",
      "2\t0.14818682\t0.61666769\n",
      "3\t0.15357472\t0.62816286\n",
      "4\t0.15702024\t0.63094896\n",
      "5\t0.15877095\t0.63770586\n",
      "6\t0.16112471\t0.63981575\n",
      "7\t0.16019608\t0.64688247\n",
      "8\t0.16480598\t0.6495828\n",
      "9\t0.1631148\t0.65573424\n",
      "10\t0.16329603\t0.65539479\n",
      "11\t0.16663006\t0.66645193\n",
      "12\t0.16672735\t0.66766024\n",
      "13\t0.16349325\t0.66799653\n",
      "14\t0.16437468\t0.67112637\n",
      "15\t0.16673313\t0.67722207\n",
      "16\t0.1657843\t0.68097448\n",
      "17\t0.16750482\t0.68117929\n",
      "18\t0.16230011\t0.68422806\n",
      "19\t0.16464365\t0.68420833\n",
      "20\t0.16380534\t0.68223006\n",
      "21\t0.16645859\t0.68921107\n",
      "22\t0.16479428\t0.69394445\n",
      "23\t0.16437262\t0.69287819\n",
      "24\t0.17077674\t0.70062017\n",
      "25\t0.16904186\t0.69222695\n",
      "26\t0.16870059\t0.69695336\n",
      "27\t0.16908891\t0.70084268\n",
      "28\t0.16716936\t0.69625407\n",
      "29\t0.16678877\t0.70008785\n",
      "30\t0.16430813\t0.70227808\n",
      "31\t0.16669634\t0.70095921\n",
      "32\t0.16692281\t0.70036739\n",
      "33\t0.1671859\t0.70420593\n",
      "34\t0.16508619\t0.70113081\n",
      "35\t0.16825183\t0.70166779\n",
      "36\t0.163395\t0.70759839\n",
      "37\t0.1672568\t0.70159268\n",
      "38\t0.1658242\t0.69636154\n",
      "39\t0.16717683\t0.7059375\n",
      "40\t0.17053846\t0.69809902\n",
      "41\t0.16876271\t0.69485831\n",
      "42\t0.16773856\t0.70002288\n",
      "43\t0.16697091\t0.69851267\n",
      "44\t0.16829936\t0.69661129\n",
      "45\t0.16867255\t0.69490957\n",
      "46\t0.17093568\t0.69045013\n",
      "47\t0.16850406\t0.69673449\n",
      "48\t0.17111948\t0.69013447\n",
      "49\t0.17163411\t0.6892156\n",
      "50\t0.16882256\t0.69357568\n",
      "51\t0.17141482\t0.68219411\n",
      "52\t0.17101295\t0.68163562\n",
      "53\t0.16913211\t0.68906677\n",
      "54\t0.17226063\t0.68848723\n",
      "55\t0.16889943\t0.68799531\n",
      "56\t0.17129025\t0.6855337\n",
      "57\t0.17059797\t0.68784207\n",
      "58\t0.17349458\t0.67959732\n",
      "59\t0.17195643\t0.68166572\n",
      "60\t0.17146079\t0.68283391\n",
      "61\t0.17152764\t0.68068808\n",
      "62\t0.17188671\t0.69075906\n",
      "63\t0.17059863\t0.67751801\n",
      "64\t0.17399718\t0.67640263\n",
      "65\t0.17026857\t0.68161988\n",
      "66\t0.17110275\t0.67138726\n",
      "67\t0.16882865\t0.67773408\n",
      "68\t0.16956995\t0.66766328\n",
      "69\t0.16974069\t0.6687808\n",
      "70\t0.16970807\t0.67071587\n",
      "71\t0.17021951\t0.66820014\n",
      "72\t0.17154659\t0.66706747\n",
      "73\t0.17111182\t0.67566699\n",
      "74\t0.17106935\t0.66723412\n",
      "75\t0.17329909\t0.6707691\n",
      "76\t0.17190266\t0.6750682\n",
      "77\t0.17307945\t0.67016715\n",
      "78\t0.17364256\t0.6799435\n",
      "79\t0.17527273\t0.67439371\n",
      "80\t0.17584351\t0.67260963\n",
      "81\t0.17217943\t0.67432839\n",
      "82\t0.1717528\t0.67561239\n",
      "83\t0.17330678\t0.6739558\n",
      "84\t0.17285623\t0.6613071\n",
      "85\t0.17109329\t0.66115493\n",
      "86\t0.17283522\t0.65355378\n",
      "87\t0.17251356\t0.64719748\n",
      "88\t0.17109223\t0.6514591\n",
      "89\t0.16917415\t0.65146482\n",
      "90\t0.17009895\t0.6499517\n",
      "91\t0.16911259\t0.6528821\n",
      "92\t0.16984689\t0.65381807\n",
      "93\t0.17167738\t0.66077882\n",
      "94\t0.17223012\t0.66272908\n",
      "95\t0.17434838\t0.66578662\n",
      "96\t0.17062624\t0.67148691\n",
      "97\t0.16900742\t0.66625279\n",
      "98\t0.1690508\t0.66255176\n",
      "99\t0.16493112\t0.65946698\n",
      "100\t0.16422306\t0.66913974\n",
      "101\t0.15969189\t0.66784942\n",
      "time: 16.8 ms\n"
     ]
    }
   ],
   "source": [
    "print( 'layer\\tmean\\tvar' )\n",
    "for i, p in enumerate( ps ):\n",
    "    print( '%r\\t%r\\t%r' % ( i, p[ 0 ], p[ 1 ] ) )"
   ]
  },
  {
   "cell_type": "code",
   "execution_count": 26,
   "metadata": {},
   "outputs": [
    {
     "name": "stdout",
     "output_type": "stream",
     "text": [
      "layer # 0\n",
      "mean: -8.42219e-05\n",
      "var: 0.00201307\n"
     ]
    },
    {
     "data": {
      "image/png": "[encoded data removed]",
      "text/plain": [
       "<matplotlib.figure.Figure at 0x7f86759dcb70>"
      ]
     },
     "metadata": {},
     "output_type": "display_data"
    },
    {
     "name": "stdout",
     "output_type": "stream",
     "text": [
      "time: 3.01 s\n"
     ]
    }
   ],
   "source": [
    "n = 0\n",
    "t = [ weights.flatten() for layer in ms2[ n ].layers for weights in layer.get_weights() if weights.ndim == 2 ]\n",
    "_ = pd.Series( t[ -1 ] ).plot.hist( bins=100 )\n",
    "print( 'layer #', n )\n",
    "print( 'mean:', np.mean( t[ -1 ] ) )\n",
    "print( 'var:', np.var( t[ -1 ] ) )"
   ]
  },
  {
   "cell_type": "code",
   "execution_count": 27,
   "metadata": {},
   "outputs": [
    {
     "name": "stdout",
     "output_type": "stream",
     "text": [
      "layer # 33\n",
      "mean: 1.29255e-05\n",
      "var: 0.00199421\n"
     ]
    },
    {
     "data": {
      "image/png": "[encoded data removed]",
      "text/plain": [
       "<matplotlib.figure.Figure at 0x7f8675946710>"
      ]
     },
     "metadata": {},
     "output_type": "display_data"
    },
    {
     "name": "stdout",
     "output_type": "stream",
     "text": [
      "time: 2.14 s\n"
     ]
    }
   ],
   "source": [
    "n = len( ms2 ) // 3\n",
    "t = [ weights.flatten() for layer in ms2[ n ].layers for weights in layer.get_weights() if weights.ndim == 2 ]\n",
    "_ = pd.Series( t[ -1 ] ).plot.hist( bins=100 )\n",
    "print( 'layer #', n )\n",
    "print( 'mean:', np.mean( t[ -1 ] ) )\n",
    "print( 'var:', np.var( t[ -1 ] ) )"
   ]
  },
  {
   "cell_type": "code",
   "execution_count": 28,
   "metadata": {},
   "outputs": [
    {
     "name": "stdout",
     "output_type": "stream",
     "text": [
      "layer # 66\n",
      "mean: -0.000102197\n",
      "var: 0.00199937\n"
     ]
    },
    {
     "data": {
      "image/png": "[encoded data removed]",
      "text/plain": [
       "<matplotlib.figure.Figure at 0x7f8674132438>"
      ]
     },
     "metadata": {},
     "output_type": "display_data"
    },
    {
     "name": "stdout",
     "output_type": "stream",
     "text": [
      "time: 2.1 s\n"
     ]
    }
   ],
   "source": [
    "n = len( ms2 ) // 3 * 2\n",
    "t = [ weights.flatten() for layer in ms2[ n ].layers for weights in layer.get_weights() if weights.ndim == 2 ]\n",
    "_ = pd.Series( t[ -1 ] ).plot.hist( bins=100 )\n",
    "print( 'layer #', n )\n",
    "print( 'mean:', np.mean( t[ -1 ] ) )\n",
    "print( 'var:', np.var( t[ -1 ] ) )"
   ]
  },
  {
   "cell_type": "code",
   "execution_count": 29,
   "metadata": {},
   "outputs": [
    {
     "name": "stdout",
     "output_type": "stream",
     "text": [
      "layer # 100\n",
      "mean: 7.08685e-05\n",
      "var: 0.00198898\n"
     ]
    },
    {
     "data": {
      "image/png": "[encoded data removed]",
      "text/plain": [
       "<matplotlib.figure.Figure at 0x7f8673f49550>"
      ]
     },
     "metadata": {},
     "output_type": "display_data"
    },
    {
     "name": "stdout",
     "output_type": "stream",
     "text": [
      "time: 2.03 s\n"
     ]
    }
   ],
   "source": [
    "n = len( ms2 ) - 1\n",
    "t = [ weights.flatten() for layer in ms2[ n ].layers for weights in layer.get_weights() if weights.ndim == 2 ]\n",
    "_ = pd.Series( t[ -1 ] ).plot.hist( bins=100 )\n",
    "print( 'layer #', n )\n",
    "print( 'mean:', np.mean( t[ -1 ] ) )\n",
    "print( 'var:', np.var( t[ -1 ] ) )"
   ]
  },
  {
   "cell_type": "markdown",
   "metadata": {},
   "source": [
    "# elu only"
   ]
  },
  {
   "cell_type": "code",
   "execution_count": 30,
   "metadata": {},
   "outputs": [
    {
     "name": "stdout",
     "output_type": "stream",
     "text": [
      "time: 3.37 s\n"
     ]
    }
   ],
   "source": [
    "ms3 = []\n",
    "ms3.append( keras.models.Sequential() )\n",
    "ms3[ 0 ].add( keras.layers.Dense( hidden_dim, input_shape=train_x.shape[ 1: ], kernel_initializer=init ) )\n",
    "ms3[ 0 ].add( keras.layers.BatchNormalization() )\n",
    "ms3[ 0 ].add( keras.layers.advanced_activations.ELU() )\n",
    "for i in range( n_layers ):\n",
    "    ms3.append( keras.models.Sequential() )\n",
    "    ms3[ i + 1 ].add( keras.layers.Dense( hidden_dim, input_shape=( hidden_dim, ), kernel_initializer=init ) )\n",
    "    ms3[ i + 1 ].add( keras.layers.BatchNormalization() )\n",
    "    ms3[ i + 1 ].add( keras.layers.advanced_activations.ELU() )"
   ]
  },
  {
   "cell_type": "code",
   "execution_count": 31,
   "metadata": {},
   "outputs": [
    {
     "name": "stdout",
     "output_type": "stream",
     "text": [
      "time: 1.83 s\n"
     ]
    }
   ],
   "source": [
    "m3 = keras.models.Sequential()\n",
    "for i in ms3:\n",
    "    m3.add( i )\n",
    "m3.add( keras.layers.Dense( train_y.shape[ 1 ], kernel_initializer='glorot_normal' ) )\n",
    "m3.add( keras.layers.Activation( 'softmax' ) )\n",
    "m3.compile( loss='categorical_crossentropy', optimizer=keras.optimizers.Adam(), metrics=[ 'acc' ] )"
   ]
  },
  {
   "cell_type": "code",
   "execution_count": 32,
   "metadata": {
    "scrolled": false
   },
   "outputs": [
    {
     "name": "stdout",
     "output_type": "stream",
     "text": [
      "time: 5min 14s\n"
     ]
    }
   ],
   "source": [
    "h3 = m3.fit( train_x, train_y, batch_size=batch_size, epochs=epochs, verbose=0 )"
   ]
  },
  {
   "cell_type": "code",
   "execution_count": 33,
   "metadata": {},
   "outputs": [
    {
     "data": {
      "image/png": "[encoded data removed]",
      "text/plain": [
       "<matplotlib.figure.Figure at 0x7f8660f40a90>"
      ]
     },
     "metadata": {},
     "output_type": "display_data"
    },
    {
     "name": "stdout",
     "output_type": "stream",
     "text": [
      "time: 140 ms\n"
     ]
    }
   ],
   "source": [
    "_ = pd.Series( h3.history[ 'loss' ], name='loss' ).plot.line( legend=True )\n",
    "_ = pd.Series( h3.history[ 'acc' ], name='acc' ).plot.line( legend=True )"
   ]
  },
  {
   "cell_type": "code",
   "execution_count": 34,
   "metadata": {},
   "outputs": [
    {
     "data": {
      "text/plain": [
       "0.99704999999999999"
      ]
     },
     "execution_count": 34,
     "metadata": {},
     "output_type": "execute_result"
    },
    {
     "name": "stdout",
     "output_type": "stream",
     "text": [
      "time: 3.49 s\n"
     ]
    }
   ],
   "source": [
    "sk.metrics.accuracy_score( np.argmax( train_y, 1 ), np.argmax( m3.predict( train_x, batch_size=batch_size ), 1 ) )"
   ]
  },
  {
   "cell_type": "code",
   "execution_count": 35,
   "metadata": {},
   "outputs": [
    {
     "name": "stdout",
     "output_type": "stream",
     "text": [
      "time: 3min 43s\n"
     ]
    }
   ],
   "source": [
    "ps = []\n",
    "p = train_x\n",
    "ps.append( tuple( ( p.mean(), p.var() ) ) )\n",
    "for i in range( len( ms3 ) ):\n",
    "    p = ms3[ i ].predict( p, batch_size=batch_size )\n",
    "    ps.append( tuple( ( p.mean(), p.var() ) ) )"
   ]
  },
  {
   "cell_type": "code",
   "execution_count": 36,
   "metadata": {},
   "outputs": [
    {
     "name": "stdout",
     "output_type": "stream",
     "text": [
      "layer\tmean\tvar\n",
      "0\t-2.1974863349995617e-18\t0.91454081632655582\n",
      "1\t0.14088614\t0.60709476\n",
      "2\t0.14882731\t0.62244833\n",
      "3\t0.15504415\t0.62951064\n",
      "4\t0.15818466\t0.63502508\n",
      "5\t0.16084394\t0.6436432\n",
      "6\t0.16102354\t0.64490885\n",
      "7\t0.16256249\t0.65229768\n",
      "8\t0.16384175\t0.65020037\n",
      "9\t0.16586444\t0.66133404\n",
      "10\t0.16495842\t0.66534698\n",
      "11\t0.16781542\t0.67545795\n",
      "12\t0.16702813\t0.68261218\n",
      "13\t0.16761263\t0.68775588\n",
      "14\t0.17271242\t0.69926924\n",
      "15\t0.17258862\t0.70011103\n",
      "16\t0.17164038\t0.71086556\n",
      "17\t0.17081642\t0.71241146\n",
      "18\t0.17171715\t0.72351402\n",
      "19\t0.17772056\t0.72590196\n",
      "20\t0.17599678\t0.73044473\n",
      "21\t0.17382561\t0.73411274\n",
      "22\t0.17363217\t0.73471206\n",
      "23\t0.17348889\t0.72905231\n",
      "24\t0.17183477\t0.73006046\n",
      "25\t0.17766145\t0.7342782\n",
      "26\t0.17842466\t0.72932822\n",
      "27\t0.17705418\t0.74744672\n",
      "28\t0.17600852\t0.74274051\n",
      "29\t0.17608842\t0.75037813\n",
      "30\t0.1733927\t0.74758953\n",
      "31\t0.17566383\t0.74688137\n",
      "32\t0.17676309\t0.73222697\n",
      "33\t0.17314473\t0.73877293\n",
      "34\t0.17532654\t0.73253447\n",
      "35\t0.17381813\t0.72741723\n",
      "36\t0.17185679\t0.73121816\n",
      "37\t0.17306472\t0.72159791\n",
      "38\t0.17088836\t0.72170269\n",
      "39\t0.17363721\t0.71571946\n",
      "40\t0.17112601\t0.71563047\n",
      "41\t0.17445517\t0.70103306\n",
      "42\t0.1720106\t0.71094519\n",
      "43\t0.17009553\t0.69868332\n",
      "44\t0.17273498\t0.70267594\n",
      "45\t0.17281018\t0.69952029\n",
      "46\t0.17166965\t0.70384485\n",
      "47\t0.17139617\t0.7057156\n",
      "48\t0.17002247\t0.70005864\n",
      "49\t0.1712454\t0.69751483\n",
      "50\t0.17031451\t0.70044011\n",
      "51\t0.17224374\t0.70087606\n",
      "52\t0.17283887\t0.68948001\n",
      "53\t0.17393377\t0.69019145\n",
      "54\t0.1720795\t0.69594711\n",
      "55\t0.17237686\t0.68688679\n",
      "56\t0.17380102\t0.68326646\n",
      "57\t0.16919699\t0.69813645\n",
      "58\t0.17094369\t0.68243754\n",
      "59\t0.17094402\t0.68698782\n",
      "60\t0.1715192\t0.6837883\n",
      "61\t0.1725072\t0.67370182\n",
      "62\t0.16894957\t0.67958874\n",
      "63\t0.17276011\t0.67475933\n",
      "64\t0.17081115\t0.67188388\n",
      "65\t0.17073143\t0.68624264\n",
      "66\t0.17254785\t0.6793645\n",
      "67\t0.17283431\t0.67276168\n",
      "68\t0.17145006\t0.68139732\n",
      "69\t0.17320733\t0.67813009\n",
      "70\t0.17250267\t0.68420178\n",
      "71\t0.1723613\t0.68509889\n",
      "72\t0.16966125\t0.68169904\n",
      "73\t0.17159949\t0.67700678\n",
      "74\t0.16830404\t0.68491638\n",
      "75\t0.16952564\t0.67730451\n",
      "76\t0.16884476\t0.67229861\n",
      "77\t0.1696472\t0.68206632\n",
      "78\t0.17122757\t0.67986578\n",
      "79\t0.16891311\t0.67770553\n",
      "80\t0.17022885\t0.67063379\n",
      "81\t0.16896456\t0.66932893\n",
      "82\t0.16948807\t0.65752369\n",
      "83\t0.16866429\t0.65788227\n",
      "84\t0.16861841\t0.65397322\n",
      "85\t0.16961029\t0.64586139\n",
      "86\t0.16720404\t0.65607798\n",
      "87\t0.16693278\t0.65813875\n",
      "88\t0.16882019\t0.66682535\n",
      "89\t0.17164592\t0.67150354\n",
      "90\t0.17422986\t0.67246193\n",
      "91\t0.17037714\t0.67687428\n",
      "92\t0.17396587\t0.67067224\n",
      "93\t0.1762037\t0.67319536\n",
      "94\t0.1745626\t0.67183286\n",
      "95\t0.17192745\t0.67635804\n",
      "96\t0.16921404\t0.66771913\n",
      "97\t0.17111628\t0.66464061\n",
      "98\t0.1651047\t0.66274381\n",
      "99\t0.16417025\t0.65291715\n",
      "100\t0.15876026\t0.66264439\n",
      "101\t0.15310244\t0.65216297\n",
      "time: 11.5 ms\n"
     ]
    }
   ],
   "source": [
    "print( 'layer\\tmean\\tvar' )\n",
    "for i, p in enumerate( ps ):\n",
    "    print( '%r\\t%r\\t%r' % ( i, p[ 0 ], p[ 1 ] ) )"
   ]
  },
  {
   "cell_type": "code",
   "execution_count": 37,
   "metadata": {},
   "outputs": [
    {
     "name": "stdout",
     "output_type": "stream",
     "text": [
      "layer # 0\n",
      "mean: -0.000135253\n",
      "var: 0.00200891\n"
     ]
    },
    {
     "data": {
      "image/png": "[encoded data removed]",
      "text/plain": [
       "<matplotlib.figure.Figure at 0x7f8660eb66d8>"
      ]
     },
     "metadata": {},
     "output_type": "display_data"
    },
    {
     "name": "stdout",
     "output_type": "stream",
     "text": [
      "time: 3.14 s\n"
     ]
    }
   ],
   "source": [
    "n = 0\n",
    "t = [ weights.flatten() for layer in ms3[ n ].layers for weights in layer.get_weights() if weights.ndim == 2 ]\n",
    "_ = pd.Series( t[ -1 ] ).plot.hist( bins=100 )\n",
    "print( 'layer #', n )\n",
    "print( 'mean:', np.mean( t[ -1 ] ) )\n",
    "print( 'var:', np.var( t[ -1 ] ) )"
   ]
  },
  {
   "cell_type": "code",
   "execution_count": 38,
   "metadata": {},
   "outputs": [
    {
     "name": "stdout",
     "output_type": "stream",
     "text": [
      "layer # 33\n",
      "mean: 4.41613e-05\n",
      "var: 0.00199095\n"
     ]
    },
    {
     "data": {
      "image/png": "[encoded data removed]",
      "text/plain": [
       "<matplotlib.figure.Figure at 0x7f8660e96cc0>"
      ]
     },
     "metadata": {},
     "output_type": "display_data"
    },
    {
     "name": "stdout",
     "output_type": "stream",
     "text": [
      "time: 2.29 s\n"
     ]
    }
   ],
   "source": [
    "n = len( ms3 ) // 3\n",
    "t = [ weights.flatten() for layer in ms3[ n ].layers for weights in layer.get_weights() if weights.ndim == 2 ]\n",
    "_ = pd.Series( t[ -1 ] ).plot.hist( bins=100 )\n",
    "print( 'layer #', n )\n",
    "print( 'mean:', np.mean( t[ -1 ] ) )\n",
    "print( 'var:', np.var( t[ -1 ] ) )"
   ]
  },
  {
   "cell_type": "code",
   "execution_count": 39,
   "metadata": {},
   "outputs": [
    {
     "name": "stdout",
     "output_type": "stream",
     "text": [
      "layer # 66\n",
      "mean: -0.000122973\n",
      "var: 0.00199655\n"
     ]
    },
    {
     "data": {
      "image/png": "[encoded data removed]",
      "text/plain": [
       "<matplotlib.figure.Figure at 0x7f865eb4c9b0>"
      ]
     },
     "metadata": {},
     "output_type": "display_data"
    },
    {
     "name": "stdout",
     "output_type": "stream",
     "text": [
      "time: 2.3 s\n"
     ]
    }
   ],
   "source": [
    "n = len( ms3 ) // 3 * 2\n",
    "t = [ weights.flatten() for layer in ms3[ n ].layers for weights in layer.get_weights() if weights.ndim == 2 ]\n",
    "_ = pd.Series( t[ -1 ] ).plot.hist( bins=100 )\n",
    "print( 'layer #', n )\n",
    "print( 'mean:', np.mean( t[ -1 ] ) )\n",
    "print( 'var:', np.var( t[ -1 ] ) )"
   ]
  },
  {
   "cell_type": "code",
   "execution_count": 40,
   "metadata": {},
   "outputs": [
    {
     "name": "stdout",
     "output_type": "stream",
     "text": [
      "layer # 100\n",
      "mean: -3.95749e-05\n",
      "var: 0.00199318\n"
     ]
    },
    {
     "data": {
      "image/png": "[encoded data removed]",
      "text/plain": [
       "<matplotlib.figure.Figure at 0x7f865f4895c0>"
      ]
     },
     "metadata": {},
     "output_type": "display_data"
    },
    {
     "name": "stdout",
     "output_type": "stream",
     "text": [
      "time: 2.3 s\n"
     ]
    }
   ],
   "source": [
    "n = len( ms3 ) - 1\n",
    "t = [ weights.flatten() for layer in ms3[ n ].layers for weights in layer.get_weights() if weights.ndim == 2 ]\n",
    "_ = pd.Series( t[ -1 ] ).plot.hist( bins=100 )\n",
    "print( 'layer #', n )\n",
    "print( 'mean:', np.mean( t[ -1 ] ) )\n",
    "print( 'var:', np.var( t[ -1 ] ) )"
   ]
  },
  {
   "cell_type": "markdown",
   "metadata": {},
   "source": [
    "# compare"
   ]
  },
  {
   "cell_type": "code",
   "execution_count": 42,
   "metadata": {},
   "outputs": [
    {
     "data": {
      "image/png": "[encoded data removed]",
      "text/plain": [
       "<matplotlib.figure.Figure at 0x7f8660b8df98>"
      ]
     },
     "metadata": {},
     "output_type": "display_data"
    },
    {
     "name": "stdout",
     "output_type": "stream",
     "text": [
      "time: 164 ms\n"
     ]
    }
   ],
   "source": [
    "_ = pd.Series( h1.history[ 'acc' ], name='selu' ).plot.line( legend=True )\n",
    "_ = pd.Series( h2.history[ 'acc' ], name='batchnorm' ).plot.line( legend=True )\n",
    "_ = pd.Series( h3.history[ 'acc' ], name='elu' ).plot.line( legend=True )"
   ]
  },
  {
   "cell_type": "code",
   "execution_count": 43,
   "metadata": {},
   "outputs": [
    {
     "data": {
      "image/png": "[encoded data removed]",
      "text/plain": [
       "<matplotlib.figure.Figure at 0x7f865f2e1ba8>"
      ]
     },
     "metadata": {},
     "output_type": "display_data"
    },
    {
     "name": "stdout",
     "output_type": "stream",
     "text": [
      "time: 165 ms\n"
     ]
    }
   ],
   "source": [
    "_ = pd.Series( h1.history[ 'loss' ], name='selu' ).plot.line( legend=True )\n",
    "_ = pd.Series( h2.history[ 'loss' ], name='batchnorm' ).plot.line( legend=True )\n",
    "_ = pd.Series( h3.history[ 'loss' ], name='elu' ).plot.line( legend=True )"
   ]
  },
  {
   "cell_type": "markdown",
   "metadata": {},
   "source": [
    "# check"
   ]
  },
  {
   "cell_type": "code",
   "execution_count": 44,
   "metadata": {},
   "outputs": [
    {
     "name": "stdout",
     "output_type": "stream",
     "text": [
      "time: 3.93 ms\n"
     ]
    }
   ],
   "source": [
    "def np_selu( x ):\n",
    "    alpha = 1.6732632423543772848170429916717\n",
    "    scale = 1.0507009873554804934193349852946\n",
    "    return scale * np.where( x >= 0., x, alpha * np.exp( x ) - alpha )"
   ]
  },
  {
   "cell_type": "code",
   "execution_count": 45,
   "metadata": {},
   "outputs": [
    {
     "name": "stdout",
     "output_type": "stream",
     "text": [
      "(60000, 784)\n",
      "0\t-0.010265291297054925\t0.85272614543092851\n",
      "1\t-0.013911532321110738\t0.83166286746921336\n",
      "2\t-0.015487985742662001\t0.84300483458907027\n",
      "3\t-0.013918483642903138\t0.87138417047468875\n",
      "4\t-0.0071974872096703373\t0.90239071305778173\n",
      "5\t-0.0048967333308982978\t0.91154406752127803\n",
      "6\t-0.01621857392543858\t0.92283662044520576\n",
      "7\t-0.0092683446669222565\t0.92948437626217462\n",
      "8\t-0.0018920264479308211\t0.95397844818068134\n",
      "9\t0.0029629476787161207\t0.96823182596755641\n",
      "10\t-0.00029355613368805937\t0.97512152748916814\n",
      "11\t-0.004558519322396727\t0.97796510999050801\n",
      "12\t-0.00050655827643823347\t0.98075362206374617\n",
      "13\t0.0013078376210755808\t0.98713693012407266\n",
      "14\t-0.006238669094667343\t0.98828280758171672\n",
      "15\t0.0021844074406604783\t0.98853961386338252\n",
      "16\t-0.0052851715885116821\t0.98300081550216201\n",
      "17\t-0.0039038794191494316\t0.9865338930386508\n",
      "18\t-0.0028349822296355525\t0.98234193403479475\n",
      "19\t0.00029304764134885651\t0.98878031467980454\n",
      "time: 49.9 s\n"
     ]
    }
   ],
   "source": [
    "t = train_x\n",
    "print( t.shape )\n",
    "for i in range( 20 ):\n",
    "    w = np.random.normal( size=( train_x.shape[ 1 ], train_x.shape[ 1 ] ), scale=math.sqrt( 1. / train_x.shape[ 1 ] ) )\n",
    "    t = np_selu( np.dot( t, w ) )\n",
    "    print( '%r\\t%r\\t%r' % ( i, t.mean(), t.var() ) )"
   ]
  },
  {
   "cell_type": "code",
   "execution_count": 46,
   "metadata": {},
   "outputs": [
    {
     "name": "stdout",
     "output_type": "stream",
     "text": [
      "0\t-9.4717891535861813e-05\t0.99969550782489802\n",
      "1\t-0.00020154242721468426\t1.0014490863688055\n",
      "2\t-6.8985946314412984e-05\t1.0010800203144745\n",
      "3\t-0.00029671508545528344\t0.9984080528834971\n",
      "4\t-0.00046745559615070489\t0.99892973744451041\n",
      "5\t5.3492840718193354e-05\t1.0028396161197024\n",
      "6\t0.00089487657384553269\t1.0037315100212008\n",
      "7\t0.00080704832395711937\t1.0041658326789846\n",
      "8\t0.0011195510365853496\t1.0102384697483882\n",
      "9\t0.0010694267284306607\t1.0081138072587645\n",
      "10\t-0.00036988203116616669\t0.99977444284566042\n",
      "11\t-9.1519787262968753e-05\t0.9966269283182092\n",
      "12\t0.00018367847979665285\t0.99240717878850671\n",
      "13\t-0.0014000858602421437\t0.9900899115124312\n",
      "14\t-0.00038570198662004907\t0.99546291734698655\n",
      "15\t-0.003235848927895091\t0.99219375220071726\n",
      "16\t-0.00060448717256993405\t0.99116773068958741\n",
      "17\t-0.0011106420272918309\t0.98454286238935229\n",
      "18\t-0.0028379397365330414\t0.98601173804950504\n",
      "19\t-0.00062363270284672358\t0.98708783708919645\n",
      "time: 51.9 s\n"
     ]
    }
   ],
   "source": [
    "t = np.random.normal( size=( train_x.shape[ 0 ], train_x.shape[ 1 ] ) )\n",
    "for i in range( 20 ):\n",
    "    w = np.random.normal( size=( train_x.shape[ 1 ], train_x.shape[ 1 ] ), scale=math.sqrt( 1. / train_x.shape[ 1 ] ) )\n",
    "    t = np_selu( np.dot( t, w ) )\n",
    "    print( '%r\\t%r\\t%r' % ( i, t.mean(), t.var() ) )"
   ]
  },
  {
   "cell_type": "code",
   "execution_count": 47,
   "metadata": {},
   "outputs": [
    {
     "name": "stdout",
     "output_type": "stream",
     "text": [
      "0\t0.0018636968529558951\t1.0036392457734613\n",
      "1\t0.0066140873171582452\t1.0069874721909795\n",
      "2\t0.0049689395729891608\t1.0028630103420473\n",
      "3\t0.0086869446192365911\t1.0047275474299393\n",
      "4\t-0.0038476064420324093\t0.98029898317855524\n",
      "5\t-0.0012242873791717239\t0.97712325400939304\n",
      "6\t-0.011270080061772395\t0.97447577718380685\n",
      "7\t-0.0041392830869269506\t0.97015034210291218\n",
      "8\t-0.004395829827595032\t0.97314511524705005\n",
      "9\t-0.0064623366091674725\t0.95658697501348744\n",
      "10\t-0.0089048844805679536\t0.94353392083801002\n",
      "11\t-0.0036239063377275669\t0.96982296863028128\n",
      "12\t-0.010425185153199425\t0.97041864280577494\n",
      "13\t-0.0041774420675692323\t0.99078858288994398\n",
      "14\t-0.00082569894335187842\t1.0165727180303088\n",
      "15\t-0.00016722389375736833\t1.0144230207587153\n",
      "16\t-0.013645745671506688\t0.99195296498409335\n",
      "17\t0.0028313312453843139\t0.98650372675177855\n",
      "18\t-0.0029482104953051664\t1.0108423476467547\n",
      "19\t0.0067965123570641241\t1.011542952219745\n",
      "time: 129 ms\n"
     ]
    }
   ],
   "source": [
    "t = np.random.normal( size=( 300, 200 ) )\n",
    "for i in range( 20 ):\n",
    "    w = np.random.normal( size=( 200, 200 ), scale=math.sqrt( 1. / 200 ) )\n",
    "    t = np_selu( np.dot( t, w ) )\n",
    "    print( '%r\\t%r\\t%r' % ( i, t.mean(), t.var() ) )"
   ]
  }
 ],
 "metadata": {
  "kernelspec": {
   "display_name": "Python 3",
   "language": "python",
   "name": "python3"
  },
  "language_info": {
   "codemirror_mode": {
    "name": "ipython",
    "version": 3
   },
   "file_extension": ".py",
   "mimetype": "text/x-python",
   "name": "python",
   "nbconvert_exporter": "python",
   "pygments_lexer": "ipython3",
   "version": "3.5.2"
  }
 },
 "nbformat": 4,
 "nbformat_minor": 2
}
