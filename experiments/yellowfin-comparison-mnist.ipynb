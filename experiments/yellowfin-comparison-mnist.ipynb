{
 "cells": [
  {
   "cell_type": "code",
   "execution_count": 1,
   "metadata": {
    "collapsed": true
   },
   "outputs": [],
   "source": [
    "%matplotlib inline\n",
    "%load_ext autotime\n",
    "\n",
    "import matplotlib as mpl\n",
    "import matplotlib.pyplot as pt\n",
    "import numpy as np\n",
    "import pandas as pd\n",
    "import sklearn as sk\n",
    "import sklearn.metrics"
   ]
  },
  {
   "cell_type": "code",
   "execution_count": 2,
   "metadata": {},
   "outputs": [
    {
     "name": "stderr",
     "output_type": "stream",
     "text": [
      "Using TensorFlow backend.\n"
     ]
    },
    {
     "name": "stdout",
     "output_type": "stream",
     "text": [
      "time: 17.9 s\n"
     ]
    }
   ],
   "source": [
    "import keras\n",
    "import tensorflow as tf"
   ]
  },
  {
   "cell_type": "code",
   "execution_count": 3,
   "metadata": {},
   "outputs": [
    {
     "name": "stdout",
     "output_type": "stream",
     "text": [
      "time: 23.9 ms\n"
     ]
    }
   ],
   "source": [
    "import libs.yellowfin as yf"
   ]
  },
  {
   "cell_type": "code",
   "execution_count": 4,
   "metadata": {},
   "outputs": [
    {
     "name": "stdout",
     "output_type": "stream",
     "text": [
      "time: 1.63 ms\n"
     ]
    }
   ],
   "source": [
    "mpl.rcParams[ 'figure.figsize' ] = ( 18, 3 )"
   ]
  },
  {
   "cell_type": "code",
   "execution_count": 5,
   "metadata": {},
   "outputs": [
    {
     "name": "stdout",
     "output_type": "stream",
     "text": [
      "time: 14.7 ms\n"
     ]
    }
   ],
   "source": [
    "class OptimizerWrapper( keras.optimizers.Optimizer ):\n",
    "    def __init__( self, optimizer ):\n",
    "        self.optimizer = optimizer\n",
    "        self.updates = []\n",
    "    def get_updates( self, params, constrains, loss ):\n",
    "        grads = self.optimizer._optimizer.compute_gradients( loss, params, gate_gradients=yf.GATE_OP )\n",
    "        opt_update = self.optimizer.apply_gradients( grads )\n",
    "        self.updates.append( opt_update )\n",
    "        return self.updates\n",
    "    @property\n",
    "    def weights( self ):\n",
    "        raise NotImplementedError\n",
    "    def get_config( self ):\n",
    "        raise NotImplementedError\n",
    "    def from_config( self ):\n",
    "        raise NotImplementedError"
   ]
  },
  {
   "cell_type": "markdown",
   "metadata": {},
   "source": [
    "# load data"
   ]
  },
  {
   "cell_type": "code",
   "execution_count": 6,
   "metadata": {},
   "outputs": [
    {
     "data": {
      "text/plain": [
       "((60000, 784), (60000, 10))"
      ]
     },
     "execution_count": 6,
     "metadata": {},
     "output_type": "execute_result"
    },
    {
     "name": "stdout",
     "output_type": "stream",
     "text": [
      "time: 966 ms\n"
     ]
    }
   ],
   "source": [
    "from keras.datasets import mnist\n",
    "\n",
    "( train_x, train_y ), ( test_x, test_y ) = mnist.load_data()\n",
    "nn_train_x = train_x.astype( float ).reshape( train_x.shape[ 0 ], -1 )\n",
    "nn_train_x = sk.preprocessing.MinMaxScaler().fit_transform( nn_train_x )\n",
    "nn_train_y = keras.utils.to_categorical( train_y )\n",
    "# test_x = test_x.astype( float ).reshape( test_x.shape[ 0 ], -1 )\n",
    "# test_x = sk.preprocessing.MinMaxScaler().fit_transform( test_x )\n",
    "# test_y = keras.utils.to_categorical( test_y )\n",
    "nn_train_x.shape, nn_train_y.shape#, test_x.shape, test_y.shape"
   ]
  },
  {
   "cell_type": "markdown",
   "metadata": {},
   "source": [
    "# parameters"
   ]
  },
  {
   "cell_type": "code",
   "execution_count": 7,
   "metadata": {},
   "outputs": [
    {
     "name": "stdout",
     "output_type": "stream",
     "text": [
      "time: 1.16 ms\n"
     ]
    }
   ],
   "source": [
    "hidden_dim = 128\n",
    "batch_size = 10000\n",
    "epochs = 500"
   ]
  },
  {
   "cell_type": "markdown",
   "metadata": {},
   "source": [
    "# YellowFin"
   ]
  },
  {
   "cell_type": "code",
   "execution_count": 8,
   "metadata": {},
   "outputs": [
    {
     "name": "stdout",
     "output_type": "stream",
     "text": [
      "time: 142 ms\n"
     ]
    }
   ],
   "source": [
    "m1 = keras.models.Sequential()\n",
    "m1.add( keras.layers.Dense( hidden_dim, input_shape=nn_train_x.shape[ 1: ], kernel_initializer='glorot_normal' ) )\n",
    "m1.add( keras.layers.advanced_activations.ELU() )\n",
    "m1.add( keras.layers.Dense( hidden_dim, kernel_initializer='glorot_normal' ) )\n",
    "m1.add( keras.layers.advanced_activations.ELU() )\n",
    "m1.add( keras.layers.Dense( hidden_dim, kernel_initializer='glorot_normal' ) )\n",
    "m1.add( keras.layers.advanced_activations.ELU() )\n",
    "m1.add( keras.layers.Dense( nn_train_y.shape[ 1 ], kernel_initializer='glorot_normal' ) )\n",
    "m1.add( keras.layers.Activation( 'softmax' ) )\n",
    "m1.compile( loss='categorical_crossentropy', optimizer=OptimizerWrapper( yf.YFOptimizer() ), metrics=[ 'acc' ] )"
   ]
  },
  {
   "cell_type": "code",
   "execution_count": 9,
   "metadata": {},
   "outputs": [
    {
     "name": "stdout",
     "output_type": "stream",
     "text": [
      "time: 7min 9s\n"
     ]
    }
   ],
   "source": [
    "h1 = m1.fit( nn_train_x, nn_train_y, epochs=epochs, batch_size=batch_size, verbose=0 )"
   ]
  },
  {
   "cell_type": "code",
   "execution_count": 10,
   "metadata": {},
   "outputs": [
    {
     "data": {
      "image/png": "[encoded data removed]",
      "text/plain": [
       "<matplotlib.figure.Figure at 0x7f0911609c88>"
      ]
     },
     "metadata": {},
     "output_type": "display_data"
    },
    {
     "name": "stdout",
     "output_type": "stream",
     "text": [
      "time: 302 ms\n"
     ]
    }
   ],
   "source": [
    "fig, ax1 = pt.subplots()\n",
    "ax2 = ax1.twinx()\n",
    "_ = pd.Series( h1.history[ 'loss' ], name='loss' ).plot.line( legend=True, ax=ax1, color='C0' )\n",
    "_ = pd.Series( h1.history[ 'acc' ], name='acc' ).plot.line( legend=True, ax=ax2, color='C1' )"
   ]
  },
  {
   "cell_type": "code",
   "execution_count": 11,
   "metadata": {},
   "outputs": [
    {
     "data": {
      "text/plain": [
       "0.097516666666666668"
      ]
     },
     "execution_count": 11,
     "metadata": {},
     "output_type": "execute_result"
    },
    {
     "name": "stdout",
     "output_type": "stream",
     "text": [
      "time: 486 ms\n"
     ]
    }
   ],
   "source": [
    "sk.metrics.accuracy_score( np.argmax( nn_train_y, 1 ), np.argmax( m1.predict( nn_train_x, batch_size=batch_size ), 1 ) )"
   ]
  },
  {
   "cell_type": "code",
   "execution_count": 12,
   "metadata": {},
   "outputs": [
    {
     "data": {
      "text/plain": [
       "array([[   0,    0,    0,    0,    0,    0,    0,    0, 5923,    0],\n",
       "       [   0,    0,    0,    0,    0,    0,    0,    0, 6742,    0],\n",
       "       [   0,    0,    0,    0,    0,    0,    0,    0, 5958,    0],\n",
       "       [   0,    0,    0,    0,    0,    0,    0,    0, 6131,    0],\n",
       "       [   0,    0,    0,    0,    0,    0,    0,    0, 5842,    0],\n",
       "       [   0,    0,    0,    0,    0,    0,    0,    0, 5421,    0],\n",
       "       [   0,    0,    0,    0,    0,    0,    0,    0, 5918,    0],\n",
       "       [   0,    0,    0,    0,    0,    0,    0,    0, 6265,    0],\n",
       "       [   0,    0,    0,    0,    0,    0,    0,    0, 5851,    0],\n",
       "       [   0,    0,    0,    0,    0,    0,    0,    0, 5949,    0]])"
      ]
     },
     "execution_count": 12,
     "metadata": {},
     "output_type": "execute_result"
    },
    {
     "name": "stdout",
     "output_type": "stream",
     "text": [
      "time: 459 ms\n"
     ]
    }
   ],
   "source": [
    "sk.metrics.confusion_matrix( np.argmax( nn_train_y, 1 ), np.argmax( m1.predict( nn_train_x, batch_size=batch_size ), 1 ) )"
   ]
  },
  {
   "cell_type": "code",
   "execution_count": 13,
   "metadata": {},
   "outputs": [
    {
     "name": "stdout",
     "output_type": "stream",
     "text": [
      "             precision    recall  f1-score   support\n",
      "\n",
      "          0       0.00      0.00      0.00      5923\n",
      "          1       0.00      0.00      0.00      6742\n",
      "          2       0.00      0.00      0.00      5958\n",
      "          3       0.00      0.00      0.00      6131\n",
      "          4       0.00      0.00      0.00      5842\n",
      "          5       0.00      0.00      0.00      5421\n",
      "          6       0.00      0.00      0.00      5918\n",
      "          7       0.00      0.00      0.00      6265\n",
      "          8       0.10      1.00      0.18      5851\n",
      "          9       0.00      0.00      0.00      5949\n",
      "\n",
      "avg / total       0.01      0.10      0.02     60000\n",
      "\n",
      "time: 449 ms\n"
     ]
    },
    {
     "name": "stderr",
     "output_type": "stream",
     "text": [
      "/usr/lib64/python3.5/site-packages/sklearn/metrics/classification.py:1113: UndefinedMetricWarning: Precision and F-score are ill-defined and being set to 0.0 in labels with no predicted samples.\n",
      "  'precision', 'predicted', average, warn_for)\n"
     ]
    }
   ],
   "source": [
    "print( sk.metrics.classification_report( np.argmax( nn_train_y, 1 ), np.argmax( m1.predict( nn_train_x, batch_size=batch_size ), 1 ) ) )"
   ]
  },
  {
   "cell_type": "markdown",
   "metadata": {},
   "source": [
    "# stochastic gradient descent"
   ]
  },
  {
   "cell_type": "code",
   "execution_count": 14,
   "metadata": {},
   "outputs": [
    {
     "name": "stdout",
     "output_type": "stream",
     "text": [
      "time: 64.8 ms\n"
     ]
    }
   ],
   "source": [
    "m2 = keras.models.Sequential()\n",
    "m2.add( keras.layers.Dense( hidden_dim, input_shape=nn_train_x.shape[ 1: ], kernel_initializer='glorot_normal' ) )\n",
    "m2.add( keras.layers.advanced_activations.ELU() )\n",
    "m2.add( keras.layers.Dense( hidden_dim, kernel_initializer='glorot_normal' ) )\n",
    "m2.add( keras.layers.advanced_activations.ELU() )\n",
    "m2.add( keras.layers.Dense( hidden_dim, kernel_initializer='glorot_normal' ) )\n",
    "m2.add( keras.layers.advanced_activations.ELU() )\n",
    "m2.add( keras.layers.Dense( nn_train_y.shape[ 1 ], kernel_initializer='glorot_normal' ) )\n",
    "m2.add( keras.layers.Activation( 'softmax' ) )\n",
    "m2.compile( loss='categorical_crossentropy', optimizer=keras.optimizers.SGD(), metrics=[ 'acc' ] )"
   ]
  },
  {
   "cell_type": "code",
   "execution_count": 15,
   "metadata": {},
   "outputs": [
    {
     "name": "stdout",
     "output_type": "stream",
     "text": [
      "time: 6min 18s\n"
     ]
    }
   ],
   "source": [
    "h2 = m2.fit( nn_train_x, nn_train_y, epochs=epochs, batch_size=batch_size, verbose=0 )"
   ]
  },
  {
   "cell_type": "code",
   "execution_count": 16,
   "metadata": {},
   "outputs": [
    {
     "data": {
      "image/png": "[encoded data removed]",
      "text/plain": [
       "<matplotlib.figure.Figure at 0x7f09037b8978>"
      ]
     },
     "metadata": {},
     "output_type": "display_data"
    },
    {
     "name": "stdout",
     "output_type": "stream",
     "text": [
      "time: 255 ms\n"
     ]
    }
   ],
   "source": [
    "fig, ax1 = pt.subplots()\n",
    "ax2 = ax1.twinx()\n",
    "_ = pd.Series( h2.history[ 'loss' ], name='loss' ).plot.line( legend=True, ax=ax1, color='C0' )\n",
    "_ = pd.Series( h2.history[ 'acc' ], name='acc' ).plot.line( legend=True, ax=ax2, color='C1' )"
   ]
  },
  {
   "cell_type": "code",
   "execution_count": 17,
   "metadata": {},
   "outputs": [
    {
     "data": {
      "text/plain": [
       "0.91851666666666665"
      ]
     },
     "execution_count": 17,
     "metadata": {},
     "output_type": "execute_result"
    },
    {
     "name": "stdout",
     "output_type": "stream",
     "text": [
      "time: 545 ms\n"
     ]
    }
   ],
   "source": [
    "sk.metrics.accuracy_score( np.argmax( nn_train_y, 1 ), np.argmax( m2.predict( nn_train_x, batch_size=batch_size ), 1 ) )"
   ]
  },
  {
   "cell_type": "code",
   "execution_count": 18,
   "metadata": {},
   "outputs": [
    {
     "data": {
      "text/plain": [
       "array([[5722,    0,   19,   13,   12,   42,   43,    8,   59,    5],\n",
       "       [   1, 6519,   35,   24,    7,   34,    3,   23,   86,   10],\n",
       "       [  45,   65, 5313,   91,   87,   24,  103,   73,  135,   22],\n",
       "       [  21,   36,  124, 5437,    4,  244,   25,   70,  116,   54],\n",
       "       [  10,   30,   30,    3, 5429,    4,   65,    9,   37,  225],\n",
       "       [  66,   36,   46,  193,   62, 4710,  102,   22,  134,   50],\n",
       "       [  43,   20,   43,    1,   60,   67, 5651,    1,   32,    0],\n",
       "       [  26,   48,   85,   23,   67,    7,    1, 5823,   11,  174],\n",
       "       [  39,  131,   67,  135,   35,  138,   50,   14, 5162,   80],\n",
       "       [  38,   32,   16,   79,  180,   28,    2,  186,   43, 5345]])"
      ]
     },
     "execution_count": 18,
     "metadata": {},
     "output_type": "execute_result"
    },
    {
     "name": "stdout",
     "output_type": "stream",
     "text": [
      "time: 543 ms\n"
     ]
    }
   ],
   "source": [
    "sk.metrics.confusion_matrix( np.argmax( nn_train_y, 1 ), np.argmax( m2.predict( nn_train_x, batch_size=batch_size ), 1 ) )"
   ]
  },
  {
   "cell_type": "code",
   "execution_count": 19,
   "metadata": {
    "scrolled": true
   },
   "outputs": [
    {
     "name": "stdout",
     "output_type": "stream",
     "text": [
      "             precision    recall  f1-score   support\n",
      "\n",
      "          0       0.95      0.97      0.96      5923\n",
      "          1       0.94      0.97      0.95      6742\n",
      "          2       0.92      0.89      0.91      5958\n",
      "          3       0.91      0.89      0.90      6131\n",
      "          4       0.91      0.93      0.92      5842\n",
      "          5       0.89      0.87      0.88      5421\n",
      "          6       0.93      0.95      0.94      5918\n",
      "          7       0.93      0.93      0.93      6265\n",
      "          8       0.89      0.88      0.88      5851\n",
      "          9       0.90      0.90      0.90      5949\n",
      "\n",
      "avg / total       0.92      0.92      0.92     60000\n",
      "\n",
      "time: 513 ms\n"
     ]
    }
   ],
   "source": [
    "print( sk.metrics.classification_report( np.argmax( nn_train_y, 1 ), np.argmax( m2.predict( nn_train_x, batch_size=batch_size ), 1 ) ) )"
   ]
  },
  {
   "cell_type": "markdown",
   "metadata": {},
   "source": [
    "# Adam"
   ]
  },
  {
   "cell_type": "code",
   "execution_count": 20,
   "metadata": {},
   "outputs": [
    {
     "name": "stdout",
     "output_type": "stream",
     "text": [
      "time: 62.8 ms\n"
     ]
    }
   ],
   "source": [
    "m3 = keras.models.Sequential()\n",
    "m3.add( keras.layers.Dense( hidden_dim, input_shape=nn_train_x.shape[ 1: ], kernel_initializer='glorot_normal' ) )\n",
    "m3.add( keras.layers.advanced_activations.ELU() )\n",
    "m3.add( keras.layers.Dense( hidden_dim, kernel_initializer='glorot_normal' ) )\n",
    "m3.add( keras.layers.advanced_activations.ELU() )\n",
    "m3.add( keras.layers.Dense( hidden_dim, kernel_initializer='glorot_normal' ) )\n",
    "m3.add( keras.layers.advanced_activations.ELU() )\n",
    "m3.add( keras.layers.Dense( nn_train_y.shape[ 1 ], kernel_initializer='glorot_normal' ) )\n",
    "m3.add( keras.layers.Activation( 'softmax' ) )\n",
    "m3.compile( loss='categorical_crossentropy', optimizer=keras.optimizers.Adam(), metrics=[ 'acc' ] )"
   ]
  },
  {
   "cell_type": "code",
   "execution_count": 21,
   "metadata": {},
   "outputs": [
    {
     "name": "stdout",
     "output_type": "stream",
     "text": [
      "time: 6min 17s\n"
     ]
    }
   ],
   "source": [
    "h3 = m3.fit( nn_train_x, nn_train_y, epochs=epochs, batch_size=batch_size, verbose=0 )"
   ]
  },
  {
   "cell_type": "code",
   "execution_count": 22,
   "metadata": {},
   "outputs": [
    {
     "data": {
      "image/png": "[encoded data removed]",
      "text/plain": [
       "<matplotlib.figure.Figure at 0x7f08ff0b8048>"
      ]
     },
     "metadata": {},
     "output_type": "display_data"
    },
    {
     "name": "stdout",
     "output_type": "stream",
     "text": [
      "time: 256 ms\n"
     ]
    }
   ],
   "source": [
    "fig, ax1 = pt.subplots()\n",
    "ax2 = ax1.twinx()\n",
    "_ = pd.Series( h3.history[ 'loss' ], name='loss' ).plot.line( legend=True, ax=ax1, color='C0' )\n",
    "_ = pd.Series( h3.history[ 'acc' ], name='acc' ).plot.line( legend=True, ax=ax2, color='C1' )"
   ]
  },
  {
   "cell_type": "code",
   "execution_count": 23,
   "metadata": {},
   "outputs": [
    {
     "data": {
      "text/plain": [
       "1.0"
      ]
     },
     "execution_count": 23,
     "metadata": {},
     "output_type": "execute_result"
    },
    {
     "name": "stdout",
     "output_type": "stream",
     "text": [
      "time: 592 ms\n"
     ]
    }
   ],
   "source": [
    "sk.metrics.accuracy_score( np.argmax( nn_train_y, 1 ), np.argmax( m3.predict( nn_train_x, batch_size=batch_size ), 1 ) )"
   ]
  },
  {
   "cell_type": "code",
   "execution_count": 24,
   "metadata": {},
   "outputs": [
    {
     "data": {
      "text/plain": [
       "array([[5923,    0,    0,    0,    0,    0,    0,    0,    0,    0],\n",
       "       [   0, 6742,    0,    0,    0,    0,    0,    0,    0,    0],\n",
       "       [   0,    0, 5958,    0,    0,    0,    0,    0,    0,    0],\n",
       "       [   0,    0,    0, 6131,    0,    0,    0,    0,    0,    0],\n",
       "       [   0,    0,    0,    0, 5842,    0,    0,    0,    0,    0],\n",
       "       [   0,    0,    0,    0,    0, 5421,    0,    0,    0,    0],\n",
       "       [   0,    0,    0,    0,    0,    0, 5918,    0,    0,    0],\n",
       "       [   0,    0,    0,    0,    0,    0,    0, 6265,    0,    0],\n",
       "       [   0,    0,    0,    0,    0,    0,    0,    0, 5851,    0],\n",
       "       [   0,    0,    0,    0,    0,    0,    0,    0,    0, 5949]])"
      ]
     },
     "execution_count": 24,
     "metadata": {},
     "output_type": "execute_result"
    },
    {
     "name": "stdout",
     "output_type": "stream",
     "text": [
      "time: 541 ms\n"
     ]
    }
   ],
   "source": [
    "sk.metrics.confusion_matrix( np.argmax( nn_train_y, 1 ), np.argmax( m3.predict( nn_train_x, batch_size=batch_size ), 1 ) )"
   ]
  },
  {
   "cell_type": "code",
   "execution_count": 25,
   "metadata": {},
   "outputs": [
    {
     "name": "stdout",
     "output_type": "stream",
     "text": [
      "             precision    recall  f1-score   support\n",
      "\n",
      "          0       1.00      1.00      1.00      5923\n",
      "          1       1.00      1.00      1.00      6742\n",
      "          2       1.00      1.00      1.00      5958\n",
      "          3       1.00      1.00      1.00      6131\n",
      "          4       1.00      1.00      1.00      5842\n",
      "          5       1.00      1.00      1.00      5421\n",
      "          6       1.00      1.00      1.00      5918\n",
      "          7       1.00      1.00      1.00      6265\n",
      "          8       1.00      1.00      1.00      5851\n",
      "          9       1.00      1.00      1.00      5949\n",
      "\n",
      "avg / total       1.00      1.00      1.00     60000\n",
      "\n",
      "time: 527 ms\n"
     ]
    }
   ],
   "source": [
    "print( sk.metrics.classification_report( np.argmax( nn_train_y, 1 ), np.argmax( m3.predict( nn_train_x, batch_size=batch_size ), 1 ) ) )"
   ]
  },
  {
   "cell_type": "markdown",
   "metadata": {},
   "source": [
    "# Nesterov Adam"
   ]
  },
  {
   "cell_type": "code",
   "execution_count": 26,
   "metadata": {},
   "outputs": [
    {
     "name": "stdout",
     "output_type": "stream",
     "text": [
      "time: 64.9 ms\n"
     ]
    }
   ],
   "source": [
    "m4 = keras.models.Sequential()\n",
    "m4.add( keras.layers.Dense( hidden_dim, input_shape=nn_train_x.shape[ 1: ], kernel_initializer='glorot_normal' ) )\n",
    "m4.add( keras.layers.advanced_activations.ELU() )\n",
    "m4.add( keras.layers.Dense( hidden_dim, kernel_initializer='glorot_normal' ) )\n",
    "m4.add( keras.layers.advanced_activations.ELU() )\n",
    "m4.add( keras.layers.Dense( hidden_dim, kernel_initializer='glorot_normal' ) )\n",
    "m4.add( keras.layers.advanced_activations.ELU() )\n",
    "m4.add( keras.layers.Dense( nn_train_y.shape[ 1 ], kernel_initializer='glorot_normal' ) )\n",
    "m4.add( keras.layers.Activation( 'softmax' ) )\n",
    "m4.compile( loss='categorical_crossentropy', optimizer=keras.optimizers.Nadam(), metrics=[ 'acc' ] )"
   ]
  },
  {
   "cell_type": "code",
   "execution_count": 27,
   "metadata": {},
   "outputs": [
    {
     "name": "stdout",
     "output_type": "stream",
     "text": [
      "time: 6min 16s\n"
     ]
    }
   ],
   "source": [
    "h4 = m4.fit( nn_train_x, nn_train_y, epochs=epochs, batch_size=batch_size, verbose=0 )"
   ]
  },
  {
   "cell_type": "code",
   "execution_count": 28,
   "metadata": {},
   "outputs": [
    {
     "data": {
      "image/png": "[encoded data removed]",
      "text/plain": [
       "<matplotlib.figure.Figure at 0x7f091159b0f0>"
      ]
     },
     "metadata": {},
     "output_type": "display_data"
    },
    {
     "name": "stdout",
     "output_type": "stream",
     "text": [
      "time: 291 ms\n"
     ]
    }
   ],
   "source": [
    "fig, ax1 = pt.subplots()\n",
    "ax2 = ax1.twinx()\n",
    "_ = pd.Series( h4.history[ 'loss' ], name='loss' ).plot.line( legend=True, ax=ax1, color='C0' )\n",
    "_ = pd.Series( h4.history[ 'acc' ], name='acc' ).plot.line( legend=True, ax=ax2, color='C1' )"
   ]
  },
  {
   "cell_type": "code",
   "execution_count": 29,
   "metadata": {},
   "outputs": [
    {
     "data": {
      "text/plain": [
       "1.0"
      ]
     },
     "execution_count": 29,
     "metadata": {},
     "output_type": "execute_result"
    },
    {
     "name": "stdout",
     "output_type": "stream",
     "text": [
      "time: 588 ms\n"
     ]
    }
   ],
   "source": [
    "sk.metrics.accuracy_score( np.argmax( nn_train_y, 1 ), np.argmax( m4.predict( nn_train_x, batch_size=batch_size ), 1 ) )"
   ]
  },
  {
   "cell_type": "code",
   "execution_count": 30,
   "metadata": {},
   "outputs": [
    {
     "data": {
      "text/plain": [
       "array([[5923,    0,    0,    0,    0,    0,    0,    0,    0,    0],\n",
       "       [   0, 6742,    0,    0,    0,    0,    0,    0,    0,    0],\n",
       "       [   0,    0, 5958,    0,    0,    0,    0,    0,    0,    0],\n",
       "       [   0,    0,    0, 6131,    0,    0,    0,    0,    0,    0],\n",
       "       [   0,    0,    0,    0, 5842,    0,    0,    0,    0,    0],\n",
       "       [   0,    0,    0,    0,    0, 5421,    0,    0,    0,    0],\n",
       "       [   0,    0,    0,    0,    0,    0, 5918,    0,    0,    0],\n",
       "       [   0,    0,    0,    0,    0,    0,    0, 6265,    0,    0],\n",
       "       [   0,    0,    0,    0,    0,    0,    0,    0, 5851,    0],\n",
       "       [   0,    0,    0,    0,    0,    0,    0,    0,    0, 5949]])"
      ]
     },
     "execution_count": 30,
     "metadata": {},
     "output_type": "execute_result"
    },
    {
     "name": "stdout",
     "output_type": "stream",
     "text": [
      "time: 538 ms\n"
     ]
    }
   ],
   "source": [
    "sk.metrics.confusion_matrix( np.argmax( nn_train_y, 1 ), np.argmax( m4.predict( nn_train_x, batch_size=batch_size ), 1 ) )"
   ]
  },
  {
   "cell_type": "code",
   "execution_count": 31,
   "metadata": {},
   "outputs": [
    {
     "name": "stdout",
     "output_type": "stream",
     "text": [
      "             precision    recall  f1-score   support\n",
      "\n",
      "          0       1.00      1.00      1.00      5923\n",
      "          1       1.00      1.00      1.00      6742\n",
      "          2       1.00      1.00      1.00      5958\n",
      "          3       1.00      1.00      1.00      6131\n",
      "          4       1.00      1.00      1.00      5842\n",
      "          5       1.00      1.00      1.00      5421\n",
      "          6       1.00      1.00      1.00      5918\n",
      "          7       1.00      1.00      1.00      6265\n",
      "          8       1.00      1.00      1.00      5851\n",
      "          9       1.00      1.00      1.00      5949\n",
      "\n",
      "avg / total       1.00      1.00      1.00     60000\n",
      "\n",
      "time: 512 ms\n"
     ]
    }
   ],
   "source": [
    "print( sk.metrics.classification_report( np.argmax( nn_train_y, 1 ), np.argmax( m4.predict( nn_train_x, batch_size=batch_size ), 1 ) ) )"
   ]
  },
  {
   "cell_type": "markdown",
   "metadata": {},
   "source": [
    "# YellowFin (BN)"
   ]
  },
  {
   "cell_type": "code",
   "execution_count": 32,
   "metadata": {},
   "outputs": [
    {
     "name": "stdout",
     "output_type": "stream",
     "text": [
      "time: 151 ms\n"
     ]
    }
   ],
   "source": [
    "m5 = keras.models.Sequential()\n",
    "m5.add( keras.layers.Dense( hidden_dim, input_shape=nn_train_x.shape[ 1: ], kernel_initializer='glorot_normal' ) )\n",
    "m5.add( keras.layers.BatchNormalization() )\n",
    "m5.add( keras.layers.advanced_activations.ELU() )\n",
    "m5.add( keras.layers.Dense( hidden_dim, kernel_initializer='glorot_normal' ) )\n",
    "m5.add( keras.layers.BatchNormalization() )\n",
    "m5.add( keras.layers.advanced_activations.ELU() )\n",
    "m5.add( keras.layers.Dense( hidden_dim, kernel_initializer='glorot_normal' ) )\n",
    "m5.add( keras.layers.BatchNormalization() )\n",
    "m5.add( keras.layers.advanced_activations.ELU() )\n",
    "m5.add( keras.layers.Dense( nn_train_y.shape[ 1 ], kernel_initializer='glorot_normal' ) )\n",
    "m5.add( keras.layers.Activation( 'softmax' ) )\n",
    "m5.compile( loss='categorical_crossentropy', optimizer=OptimizerWrapper( yf.YFOptimizer() ), metrics=[ 'acc' ] )"
   ]
  },
  {
   "cell_type": "code",
   "execution_count": 33,
   "metadata": {},
   "outputs": [
    {
     "name": "stdout",
     "output_type": "stream",
     "text": [
      "time: 10min 37s\n"
     ]
    }
   ],
   "source": [
    "h5 = m5.fit( nn_train_x, nn_train_y, epochs=epochs, batch_size=batch_size, verbose=0 )"
   ]
  },
  {
   "cell_type": "code",
   "execution_count": 34,
   "metadata": {},
   "outputs": [
    {
     "data": {
      "image/png": "[encoded data removed]",
      "text/plain": [
       "<matplotlib.figure.Figure at 0x7f088b69d160>"
      ]
     },
     "metadata": {},
     "output_type": "display_data"
    },
    {
     "name": "stdout",
     "output_type": "stream",
     "text": [
      "time: 288 ms\n"
     ]
    }
   ],
   "source": [
    "fig, ax1 = pt.subplots()\n",
    "ax2 = ax1.twinx()\n",
    "_ = pd.Series( h5.history[ 'loss' ], name='loss' ).plot.line( legend=True, ax=ax1, color='C0' )\n",
    "_ = pd.Series( h5.history[ 'acc' ], name='acc' ).plot.line( legend=True, ax=ax2, color='C1' )"
   ]
  },
  {
   "cell_type": "code",
   "execution_count": 35,
   "metadata": {},
   "outputs": [
    {
     "data": {
      "text/plain": [
       "1.0"
      ]
     },
     "execution_count": 35,
     "metadata": {},
     "output_type": "execute_result"
    },
    {
     "name": "stdout",
     "output_type": "stream",
     "text": [
      "time: 882 ms\n"
     ]
    }
   ],
   "source": [
    "sk.metrics.accuracy_score( np.argmax( nn_train_y, 1 ), np.argmax( m5.predict( nn_train_x, batch_size=batch_size ), 1 ) )"
   ]
  },
  {
   "cell_type": "code",
   "execution_count": 36,
   "metadata": {},
   "outputs": [
    {
     "data": {
      "text/plain": [
       "array([[5923,    0,    0,    0,    0,    0,    0,    0,    0,    0],\n",
       "       [   0, 6742,    0,    0,    0,    0,    0,    0,    0,    0],\n",
       "       [   0,    0, 5958,    0,    0,    0,    0,    0,    0,    0],\n",
       "       [   0,    0,    0, 6131,    0,    0,    0,    0,    0,    0],\n",
       "       [   0,    0,    0,    0, 5842,    0,    0,    0,    0,    0],\n",
       "       [   0,    0,    0,    0,    0, 5421,    0,    0,    0,    0],\n",
       "       [   0,    0,    0,    0,    0,    0, 5918,    0,    0,    0],\n",
       "       [   0,    0,    0,    0,    0,    0,    0, 6265,    0,    0],\n",
       "       [   0,    0,    0,    0,    0,    0,    0,    0, 5851,    0],\n",
       "       [   0,    0,    0,    0,    0,    0,    0,    0,    0, 5949]])"
      ]
     },
     "execution_count": 36,
     "metadata": {},
     "output_type": "execute_result"
    },
    {
     "name": "stdout",
     "output_type": "stream",
     "text": [
      "time: 669 ms\n"
     ]
    }
   ],
   "source": [
    "sk.metrics.confusion_matrix( np.argmax( nn_train_y, 1 ), np.argmax( m5.predict( nn_train_x, batch_size=batch_size ), 1 ) )"
   ]
  },
  {
   "cell_type": "code",
   "execution_count": 37,
   "metadata": {},
   "outputs": [
    {
     "name": "stdout",
     "output_type": "stream",
     "text": [
      "             precision    recall  f1-score   support\n",
      "\n",
      "          0       1.00      1.00      1.00      5923\n",
      "          1       1.00      1.00      1.00      6742\n",
      "          2       1.00      1.00      1.00      5958\n",
      "          3       1.00      1.00      1.00      6131\n",
      "          4       1.00      1.00      1.00      5842\n",
      "          5       1.00      1.00      1.00      5421\n",
      "          6       1.00      1.00      1.00      5918\n",
      "          7       1.00      1.00      1.00      6265\n",
      "          8       1.00      1.00      1.00      5851\n",
      "          9       1.00      1.00      1.00      5949\n",
      "\n",
      "avg / total       1.00      1.00      1.00     60000\n",
      "\n",
      "time: 659 ms\n"
     ]
    }
   ],
   "source": [
    "print( sk.metrics.classification_report( np.argmax( nn_train_y, 1 ), np.argmax( m5.predict( nn_train_x, batch_size=batch_size ), 1 ) ) )"
   ]
  },
  {
   "cell_type": "markdown",
   "metadata": {},
   "source": [
    "# stochastic gradient descent (BN)"
   ]
  },
  {
   "cell_type": "code",
   "execution_count": 38,
   "metadata": {},
   "outputs": [
    {
     "name": "stdout",
     "output_type": "stream",
     "text": [
      "time: 160 ms\n"
     ]
    }
   ],
   "source": [
    "m6 = keras.models.Sequential()\n",
    "m6.add( keras.layers.Dense( hidden_dim, input_shape=nn_train_x.shape[ 1: ], kernel_initializer='glorot_normal' ) )\n",
    "m6.add( keras.layers.BatchNormalization() )\n",
    "m6.add( keras.layers.advanced_activations.ELU() )\n",
    "m6.add( keras.layers.Dense( hidden_dim, kernel_initializer='glorot_normal' ) )\n",
    "m6.add( keras.layers.BatchNormalization() )\n",
    "m6.add( keras.layers.advanced_activations.ELU() )\n",
    "m6.add( keras.layers.Dense( hidden_dim, kernel_initializer='glorot_normal' ) )\n",
    "m6.add( keras.layers.BatchNormalization() )\n",
    "m6.add( keras.layers.advanced_activations.ELU() )\n",
    "m6.add( keras.layers.Dense( nn_train_y.shape[ 1 ], kernel_initializer='glorot_normal' ) )\n",
    "m6.add( keras.layers.Activation( 'softmax' ) )\n",
    "m6.compile( loss='categorical_crossentropy', optimizer=keras.optimizers.SGD(), metrics=[ 'acc' ] )"
   ]
  },
  {
   "cell_type": "code",
   "execution_count": 39,
   "metadata": {},
   "outputs": [
    {
     "name": "stdout",
     "output_type": "stream",
     "text": [
      "time: 9min 41s\n"
     ]
    }
   ],
   "source": [
    "h6 = m6.fit( nn_train_x, nn_train_y, epochs=epochs, batch_size=batch_size, verbose=0 )"
   ]
  },
  {
   "cell_type": "code",
   "execution_count": 40,
   "metadata": {},
   "outputs": [
    {
     "data": {
      "image/png": "[encoded data removed]",
      "text/plain": [
       "<matplotlib.figure.Figure at 0x7f0885ba6da0>"
      ]
     },
     "metadata": {},
     "output_type": "display_data"
    },
    {
     "name": "stdout",
     "output_type": "stream",
     "text": [
      "time: 269 ms\n"
     ]
    }
   ],
   "source": [
    "fig, ax1 = pt.subplots()\n",
    "ax2 = ax1.twinx()\n",
    "_ = pd.Series( h6.history[ 'loss' ], name='loss' ).plot.line( legend=True, ax=ax1, color='C0' )\n",
    "_ = pd.Series( h6.history[ 'acc' ], name='acc' ).plot.line( legend=True, ax=ax2, color='C1' )"
   ]
  },
  {
   "cell_type": "code",
   "execution_count": 41,
   "metadata": {},
   "outputs": [
    {
     "data": {
      "text/plain": [
       "0.96365000000000001"
      ]
     },
     "execution_count": 41,
     "metadata": {},
     "output_type": "execute_result"
    },
    {
     "name": "stdout",
     "output_type": "stream",
     "text": [
      "time: 918 ms\n"
     ]
    }
   ],
   "source": [
    "sk.metrics.accuracy_score( np.argmax( nn_train_y, 1 ), np.argmax( m6.predict( nn_train_x, batch_size=batch_size ), 1 ) )"
   ]
  },
  {
   "cell_type": "code",
   "execution_count": 42,
   "metadata": {},
   "outputs": [
    {
     "data": {
      "text/plain": [
       "array([[5820,    1,    9,    8,    8,   10,   32,    5,   23,    7],\n",
       "       [   1, 6631,   35,   14,    7,   12,    2,   14,   18,    8],\n",
       "       [  21,   29, 5706,   42,   32,    8,   28,   43,   42,    7],\n",
       "       [   6,   15,   66, 5805,    4,   86,   11,   45,   60,   33],\n",
       "       [   6,   14,   20,    6, 5618,    3,   37,   14,   12,  112],\n",
       "       [  22,   10,   17,   79,   21, 5173,   38,    9,   29,   23],\n",
       "       [  32,   11,   13,    0,   23,   45, 5778,    1,   15,    0],\n",
       "       [  14,   32,   37,   12,   36,    4,    1, 6073,    6,   50],\n",
       "       [  15,   57,   19,   66,   27,   43,   29,   13, 5548,   34],\n",
       "       [  19,   10,    3,   46,   95,   19,    2,   67,   21, 5667]])"
      ]
     },
     "execution_count": 42,
     "metadata": {},
     "output_type": "execute_result"
    },
    {
     "name": "stdout",
     "output_type": "stream",
     "text": [
      "time: 730 ms\n"
     ]
    }
   ],
   "source": [
    "sk.metrics.confusion_matrix( np.argmax( nn_train_y, 1 ), np.argmax( m6.predict( nn_train_x, batch_size=batch_size ), 1 ) )"
   ]
  },
  {
   "cell_type": "code",
   "execution_count": 43,
   "metadata": {
    "scrolled": true
   },
   "outputs": [
    {
     "name": "stdout",
     "output_type": "stream",
     "text": [
      "             precision    recall  f1-score   support\n",
      "\n",
      "          0       0.98      0.98      0.98      5923\n",
      "          1       0.97      0.98      0.98      6742\n",
      "          2       0.96      0.96      0.96      5958\n",
      "          3       0.96      0.95      0.95      6131\n",
      "          4       0.96      0.96      0.96      5842\n",
      "          5       0.96      0.95      0.96      5421\n",
      "          6       0.97      0.98      0.97      5918\n",
      "          7       0.97      0.97      0.97      6265\n",
      "          8       0.96      0.95      0.95      5851\n",
      "          9       0.95      0.95      0.95      5949\n",
      "\n",
      "avg / total       0.96      0.96      0.96     60000\n",
      "\n",
      "time: 717 ms\n"
     ]
    }
   ],
   "source": [
    "print( sk.metrics.classification_report( np.argmax( nn_train_y, 1 ), np.argmax( m6.predict( nn_train_x, batch_size=batch_size ), 1 ) ) )"
   ]
  },
  {
   "cell_type": "markdown",
   "metadata": {},
   "source": [
    "# Nesterov Adam (BN)"
   ]
  },
  {
   "cell_type": "code",
   "execution_count": 44,
   "metadata": {},
   "outputs": [
    {
     "name": "stdout",
     "output_type": "stream",
     "text": [
      "time: 399 ms\n"
     ]
    }
   ],
   "source": [
    "m7 = keras.models.Sequential()\n",
    "m7.add( keras.layers.Dense( hidden_dim, input_shape=nn_train_x.shape[ 1: ], kernel_initializer='glorot_normal' ) )\n",
    "m7.add( keras.layers.BatchNormalization() )\n",
    "m7.add( keras.layers.advanced_activations.ELU() )\n",
    "m7.add( keras.layers.Dense( hidden_dim, kernel_initializer='glorot_normal' ) )\n",
    "m7.add( keras.layers.BatchNormalization() )\n",
    "m7.add( keras.layers.advanced_activations.ELU() )\n",
    "m7.add( keras.layers.Dense( hidden_dim, kernel_initializer='glorot_normal' ) )\n",
    "m7.add( keras.layers.BatchNormalization() )\n",
    "m7.add( keras.layers.advanced_activations.ELU() )\n",
    "m7.add( keras.layers.Dense( nn_train_y.shape[ 1 ], kernel_initializer='glorot_normal' ) )\n",
    "m7.add( keras.layers.Activation( 'softmax' ) )\n",
    "m7.compile( loss='categorical_crossentropy', optimizer=keras.optimizers.Nadam(), metrics=[ 'acc' ] )"
   ]
  },
  {
   "cell_type": "code",
   "execution_count": 45,
   "metadata": {},
   "outputs": [
    {
     "name": "stdout",
     "output_type": "stream",
     "text": [
      "time: 9min 35s\n"
     ]
    }
   ],
   "source": [
    "h7 = m7.fit( nn_train_x, nn_train_y, epochs=epochs, batch_size=batch_size, verbose=0 )"
   ]
  },
  {
   "cell_type": "code",
   "execution_count": 46,
   "metadata": {},
   "outputs": [
    {
     "data": {
      "image/png": "[encoded data removed]",
      "text/plain": [
       "<matplotlib.figure.Figure at 0x7f08850541d0>"
      ]
     },
     "metadata": {},
     "output_type": "display_data"
    },
    {
     "name": "stdout",
     "output_type": "stream",
     "text": [
      "time: 279 ms\n"
     ]
    }
   ],
   "source": [
    "fig, ax1 = pt.subplots()\n",
    "ax2 = ax1.twinx()\n",
    "_ = pd.Series( h7.history[ 'loss' ], name='loss' ).plot.line( legend=True, ax=ax1, color='C0' )\n",
    "_ = pd.Series( h7.history[ 'acc' ], name='acc' ).plot.line( legend=True, ax=ax2, color='C1' )"
   ]
  },
  {
   "cell_type": "code",
   "execution_count": 47,
   "metadata": {},
   "outputs": [
    {
     "data": {
      "text/plain": [
       "1.0"
      ]
     },
     "execution_count": 47,
     "metadata": {},
     "output_type": "execute_result"
    },
    {
     "name": "stdout",
     "output_type": "stream",
     "text": [
      "time: 985 ms\n"
     ]
    }
   ],
   "source": [
    "sk.metrics.accuracy_score( np.argmax( nn_train_y, 1 ), np.argmax( m7.predict( nn_train_x, batch_size=batch_size ), 1 ) )"
   ]
  },
  {
   "cell_type": "code",
   "execution_count": 48,
   "metadata": {},
   "outputs": [
    {
     "data": {
      "text/plain": [
       "array([[5923,    0,    0,    0,    0,    0,    0,    0,    0,    0],\n",
       "       [   0, 6742,    0,    0,    0,    0,    0,    0,    0,    0],\n",
       "       [   0,    0, 5958,    0,    0,    0,    0,    0,    0,    0],\n",
       "       [   0,    0,    0, 6131,    0,    0,    0,    0,    0,    0],\n",
       "       [   0,    0,    0,    0, 5842,    0,    0,    0,    0,    0],\n",
       "       [   0,    0,    0,    0,    0, 5421,    0,    0,    0,    0],\n",
       "       [   0,    0,    0,    0,    0,    0, 5918,    0,    0,    0],\n",
       "       [   0,    0,    0,    0,    0,    0,    0, 6265,    0,    0],\n",
       "       [   0,    0,    0,    0,    0,    0,    0,    0, 5851,    0],\n",
       "       [   0,    0,    0,    0,    0,    0,    0,    0,    0, 5949]])"
      ]
     },
     "execution_count": 48,
     "metadata": {},
     "output_type": "execute_result"
    },
    {
     "name": "stdout",
     "output_type": "stream",
     "text": [
      "time: 730 ms\n"
     ]
    }
   ],
   "source": [
    "sk.metrics.confusion_matrix( np.argmax( nn_train_y, 1 ), np.argmax( m7.predict( nn_train_x, batch_size=batch_size ), 1 ) )"
   ]
  },
  {
   "cell_type": "code",
   "execution_count": 49,
   "metadata": {},
   "outputs": [
    {
     "name": "stdout",
     "output_type": "stream",
     "text": [
      "             precision    recall  f1-score   support\n",
      "\n",
      "          0       1.00      1.00      1.00      5923\n",
      "          1       1.00      1.00      1.00      6742\n",
      "          2       1.00      1.00      1.00      5958\n",
      "          3       1.00      1.00      1.00      6131\n",
      "          4       1.00      1.00      1.00      5842\n",
      "          5       1.00      1.00      1.00      5421\n",
      "          6       1.00      1.00      1.00      5918\n",
      "          7       1.00      1.00      1.00      6265\n",
      "          8       1.00      1.00      1.00      5851\n",
      "          9       1.00      1.00      1.00      5949\n",
      "\n",
      "avg / total       1.00      1.00      1.00     60000\n",
      "\n",
      "time: 707 ms\n"
     ]
    }
   ],
   "source": [
    "print( sk.metrics.classification_report( np.argmax( nn_train_y, 1 ), np.argmax( m7.predict( nn_train_x, batch_size=batch_size ), 1 ) ) )"
   ]
  },
  {
   "cell_type": "markdown",
   "metadata": {},
   "source": [
    "# compare"
   ]
  },
  {
   "cell_type": "code",
   "execution_count": 50,
   "metadata": {},
   "outputs": [
    {
     "data": {
      "image/png": "[encoded data removed]",
      "text/plain": [
       "<matplotlib.figure.Figure at 0x7f0884fc0208>"
      ]
     },
     "metadata": {},
     "output_type": "display_data"
    },
    {
     "name": "stdout",
     "output_type": "stream",
     "text": [
      "time: 242 ms\n"
     ]
    }
   ],
   "source": [
    "_ = pd.Series( np.log( h1.history[ 'loss' ] ), name='YellowFin' ).plot.line( legend=True )\n",
    "_ = pd.Series( np.log( h2.history[ 'loss' ] ), name='SGD' ).plot.line( legend=True )\n",
    "_ = pd.Series( np.log( h3.history[ 'loss' ] ), name='Adam' ).plot.line( legend=True )\n",
    "_ = pd.Series( np.log( h4.history[ 'loss' ] ), name='Nadam' ).plot.line( legend=True )"
   ]
  },
  {
   "cell_type": "code",
   "execution_count": 51,
   "metadata": {},
   "outputs": [
    {
     "data": {
      "image/png": "[encoded data removed]",
      "text/plain": [
       "<matplotlib.figure.Figure at 0x7f0884fc3f98>"
      ]
     },
     "metadata": {},
     "output_type": "display_data"
    },
    {
     "name": "stdout",
     "output_type": "stream",
     "text": [
      "time: 214 ms\n"
     ]
    }
   ],
   "source": [
    "_ = pd.Series( np.log( h5.history[ 'loss' ] ), name='YellowFin (BN)' ).plot.line( legend=True )\n",
    "_ = pd.Series( np.log( h6.history[ 'loss' ] ), name='SGD (BN)' ).plot.line( legend=True )\n",
    "_ = pd.Series( np.log( h7.history[ 'loss' ] ), name='Nadam (BN)' ).plot.line( legend=True )"
   ]
  },
  {
   "cell_type": "code",
   "execution_count": 52,
   "metadata": {},
   "outputs": [
    {
     "data": {
      "image/png": "[encoded data removed]",
      "text/plain": [
       "<matplotlib.figure.Figure at 0x7f09115cb5f8>"
      ]
     },
     "metadata": {},
     "output_type": "display_data"
    },
    {
     "name": "stdout",
     "output_type": "stream",
     "text": [
      "time: 240 ms\n"
     ]
    }
   ],
   "source": [
    "_ = pd.Series( h1.history[ 'acc' ], name='YellowFin' ).plot.line( legend=True )\n",
    "_ = pd.Series( h2.history[ 'acc' ], name='SGD' ).plot.line( legend=True )\n",
    "_ = pd.Series( h3.history[ 'acc' ], name='Adam' ).plot.line( legend=True )\n",
    "_ = pd.Series( h4.history[ 'acc' ], name='Nadam' ).plot.line( legend=True )"
   ]
  },
  {
   "cell_type": "code",
   "execution_count": 53,
   "metadata": {},
   "outputs": [
    {
     "data": {
      "image/png": "[encoded data removed]",
      "text/plain": [
       "<matplotlib.figure.Figure at 0x7f0884e75c18>"
      ]
     },
     "metadata": {},
     "output_type": "display_data"
    },
    {
     "name": "stdout",
     "output_type": "stream",
     "text": [
      "time: 208 ms\n"
     ]
    }
   ],
   "source": [
    "_ = pd.Series( h5.history[ 'acc' ], name='YellowFin (BN)' ).plot.line( legend=True )\n",
    "_ = pd.Series( h6.history[ 'acc' ], name='SGD (BN)' ).plot.line( legend=True )\n",
    "_ = pd.Series( h7.history[ 'acc' ], name='Nadam (BN)' ).plot.line( legend=True )"
   ]
  }
 ],
 "metadata": {
  "kernelspec": {
   "display_name": "Python 3",
   "language": "python",
   "name": "python3"
  },
  "language_info": {
   "codemirror_mode": {
    "name": "ipython",
    "version": 3
   },
   "file_extension": ".py",
   "mimetype": "text/x-python",
   "name": "python",
   "nbconvert_exporter": "python",
   "pygments_lexer": "ipython3",
   "version": "3.5.3"
  }
 },
 "nbformat": 4,
 "nbformat_minor": 2
}
