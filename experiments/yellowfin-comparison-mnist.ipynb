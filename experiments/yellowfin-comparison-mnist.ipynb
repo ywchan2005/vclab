{
 "cells": [
  {
   "cell_type": "code",
   "execution_count": 1,
   "metadata": {
    "collapsed": true
   },
   "outputs": [],
   "source": [
    "%matplotlib inline\n",
    "%load_ext autotime\n",
    "\n",
    "import matplotlib as mpl\n",
    "import matplotlib.pyplot as pt\n",
    "import numpy as np\n",
    "import pandas as pd\n",
    "import sklearn as sk\n",
    "import sklearn.metrics"
   ]
  },
  {
   "cell_type": "code",
   "execution_count": 2,
   "metadata": {},
   "outputs": [
    {
     "name": "stderr",
     "output_type": "stream",
     "text": [
      "Using TensorFlow backend.\n"
     ]
    },
    {
     "name": "stdout",
     "output_type": "stream",
     "text": [
      "time: 18.8 s\n"
     ]
    }
   ],
   "source": [
    "import keras\n",
    "import tensorflow as tf"
   ]
  },
  {
   "cell_type": "code",
   "execution_count": 3,
   "metadata": {},
   "outputs": [
    {
     "name": "stdout",
     "output_type": "stream",
     "text": [
      "time: 21 ms\n"
     ]
    }
   ],
   "source": [
    "import libs.yellowfin as yf"
   ]
  },
  {
   "cell_type": "code",
   "execution_count": 4,
   "metadata": {},
   "outputs": [
    {
     "name": "stdout",
     "output_type": "stream",
     "text": [
      "time: 1.04 ms\n"
     ]
    }
   ],
   "source": [
    "mpl.rcParams[ 'figure.figsize' ] = ( 18, 3 )"
   ]
  },
  {
   "cell_type": "code",
   "execution_count": 5,
   "metadata": {},
   "outputs": [
    {
     "name": "stdout",
     "output_type": "stream",
     "text": [
      "time: 14.2 ms\n"
     ]
    }
   ],
   "source": [
    "class OptimizerWrapper( keras.optimizers.Optimizer ):\n",
    "    def __init__( self, optimizer ):\n",
    "        self.optimizer = optimizer\n",
    "        self.updates = []\n",
    "    def get_updates( self, params, constrains, loss ):\n",
    "        grads = self.optimizer._optimizer.compute_gradients( loss, params, gate_gradients=yf.GATE_OP )\n",
    "        opt_update = self.optimizer.apply_gradients( grads )\n",
    "        self.updates.append( opt_update )\n",
    "        return self.updates\n",
    "    @property\n",
    "    def weights( self ):\n",
    "        raise NotImplementedError\n",
    "    def get_config( self ):\n",
    "        raise NotImplementedError\n",
    "    def from_config( self ):\n",
    "        raise NotImplementedError"
   ]
  },
  {
   "cell_type": "markdown",
   "metadata": {},
   "source": [
    "# load data"
   ]
  },
  {
   "cell_type": "code",
   "execution_count": 6,
   "metadata": {},
   "outputs": [
    {
     "data": {
      "text/plain": [
       "((60000, 784), (60000, 10))"
      ]
     },
     "execution_count": 6,
     "metadata": {},
     "output_type": "execute_result"
    },
    {
     "name": "stdout",
     "output_type": "stream",
     "text": [
      "time: 3.08 s\n"
     ]
    }
   ],
   "source": [
    "from keras.datasets import mnist\n",
    "\n",
    "( train_x, train_y ), ( test_x, test_y ) = mnist.load_data()\n",
    "nn_train_x = train_x.astype( float ).reshape( train_x.shape[ 0 ], -1 )\n",
    "nn_train_x = sk.preprocessing.MinMaxScaler().fit_transform( nn_train_x )\n",
    "nn_train_y = keras.utils.to_categorical( train_y )\n",
    "# test_x = test_x.astype( float ).reshape( test_x.shape[ 0 ], -1 )\n",
    "# test_x = sk.preprocessing.MinMaxScaler().fit_transform( test_x )\n",
    "# test_y = keras.utils.to_categorical( test_y )\n",
    "nn_train_x.shape, nn_train_y.shape#, test_x.shape, test_y.shape"
   ]
  },
  {
   "cell_type": "markdown",
   "metadata": {},
   "source": [
    "# parameters"
   ]
  },
  {
   "cell_type": "code",
   "execution_count": 7,
   "metadata": {},
   "outputs": [
    {
     "name": "stdout",
     "output_type": "stream",
     "text": [
      "time: 1.24 ms\n"
     ]
    }
   ],
   "source": [
    "hidden_dim = 128\n",
    "batch_size = 10000\n",
    "epochs = 500"
   ]
  },
  {
   "cell_type": "markdown",
   "metadata": {},
   "source": [
    "# YellowFin"
   ]
  },
  {
   "cell_type": "code",
   "execution_count": 8,
   "metadata": {},
   "outputs": [
    {
     "name": "stdout",
     "output_type": "stream",
     "text": [
      "time: 134 ms\n"
     ]
    }
   ],
   "source": [
    "m1 = keras.models.Sequential()\n",
    "m1.add( keras.layers.Dense( hidden_dim, input_shape=nn_train_x.shape[ 1: ], kernel_initializer='glorot_normal' ) )\n",
    "m1.add( keras.layers.Activation( 'relu' ) )\n",
    "m1.add( keras.layers.Dense( hidden_dim, kernel_initializer='glorot_normal' ) )\n",
    "m1.add( keras.layers.Activation( 'relu' ) )\n",
    "m1.add( keras.layers.Dense( hidden_dim, kernel_initializer='glorot_normal' ) )\n",
    "m1.add( keras.layers.Activation( 'relu' ) )\n",
    "m1.add( keras.layers.Dense( nn_train_y.shape[ 1 ], kernel_initializer='glorot_normal' ) )\n",
    "m1.add( keras.layers.Activation( 'softmax' ) )\n",
    "m1.compile( loss='categorical_crossentropy', optimizer=OptimizerWrapper( yf.YFOptimizer() ), metrics=[ 'acc' ] )"
   ]
  },
  {
   "cell_type": "code",
   "execution_count": 9,
   "metadata": {},
   "outputs": [
    {
     "name": "stdout",
     "output_type": "stream",
     "text": [
      "time: 7min 13s\n"
     ]
    }
   ],
   "source": [
    "h1 = m1.fit( nn_train_x, nn_train_y, epochs=epochs, batch_size=batch_size, verbose=0 )"
   ]
  },
  {
   "cell_type": "code",
   "execution_count": 10,
   "metadata": {},
   "outputs": [
    {
     "data": {
      "image/png": "[encoded data removed]",
      "text/plain": [
       "<matplotlib.figure.Figure at 0x7f9ce7af3748>"
      ]
     },
     "metadata": {},
     "output_type": "display_data"
    },
    {
     "name": "stdout",
     "output_type": "stream",
     "text": [
      "time: 315 ms\n"
     ]
    }
   ],
   "source": [
    "fig, ax1 = pt.subplots()\n",
    "ax2 = ax1.twinx()\n",
    "_ = pd.Series( h1.history[ 'loss' ], name='loss' ).plot.line( legend=True, ax=ax1, color='C0' )\n",
    "_ = pd.Series( h1.history[ 'acc' ], name='acc' ).plot.line( legend=True, ax=ax2, color='C1' )"
   ]
  },
  {
   "cell_type": "code",
   "execution_count": 11,
   "metadata": {},
   "outputs": [
    {
     "data": {
      "text/plain": [
       "0.99998333333333334"
      ]
     },
     "execution_count": 11,
     "metadata": {},
     "output_type": "execute_result"
    },
    {
     "name": "stdout",
     "output_type": "stream",
     "text": [
      "time: 528 ms\n"
     ]
    }
   ],
   "source": [
    "sk.metrics.accuracy_score( np.argmax( nn_train_y, 1 ), np.argmax( m1.predict( nn_train_x, batch_size=batch_size ), 1 ) )"
   ]
  },
  {
   "cell_type": "code",
   "execution_count": 12,
   "metadata": {},
   "outputs": [
    {
     "data": {
      "text/plain": [
       "array([[5923,    0,    0,    0,    0,    0,    0,    0,    0,    0],\n",
       "       [   0, 6742,    0,    0,    0,    0,    0,    0,    0,    0],\n",
       "       [   0,    0, 5958,    0,    0,    0,    0,    0,    0,    0],\n",
       "       [   0,    0,    0, 6131,    0,    0,    0,    0,    0,    0],\n",
       "       [   0,    0,    0,    0, 5841,    0,    0,    1,    0,    0],\n",
       "       [   0,    0,    0,    0,    0, 5421,    0,    0,    0,    0],\n",
       "       [   0,    0,    0,    0,    0,    0, 5918,    0,    0,    0],\n",
       "       [   0,    0,    0,    0,    0,    0,    0, 6265,    0,    0],\n",
       "       [   0,    0,    0,    0,    0,    0,    0,    0, 5851,    0],\n",
       "       [   0,    0,    0,    0,    0,    0,    0,    0,    0, 5949]])"
      ]
     },
     "execution_count": 12,
     "metadata": {},
     "output_type": "execute_result"
    },
    {
     "name": "stdout",
     "output_type": "stream",
     "text": [
      "time: 520 ms\n"
     ]
    }
   ],
   "source": [
    "sk.metrics.confusion_matrix( np.argmax( nn_train_y, 1 ), np.argmax( m1.predict( nn_train_x, batch_size=batch_size ), 1 ) )"
   ]
  },
  {
   "cell_type": "code",
   "execution_count": 13,
   "metadata": {},
   "outputs": [
    {
     "name": "stdout",
     "output_type": "stream",
     "text": [
      "             precision    recall  f1-score   support\n",
      "\n",
      "          0       1.00      1.00      1.00      5923\n",
      "          1       1.00      1.00      1.00      6742\n",
      "          2       1.00      1.00      1.00      5958\n",
      "          3       1.00      1.00      1.00      6131\n",
      "          4       1.00      1.00      1.00      5842\n",
      "          5       1.00      1.00      1.00      5421\n",
      "          6       1.00      1.00      1.00      5918\n",
      "          7       1.00      1.00      1.00      6265\n",
      "          8       1.00      1.00      1.00      5851\n",
      "          9       1.00      1.00      1.00      5949\n",
      "\n",
      "avg / total       1.00      1.00      1.00     60000\n",
      "\n",
      "time: 418 ms\n"
     ]
    }
   ],
   "source": [
    "print( sk.metrics.classification_report( np.argmax( nn_train_y, 1 ), np.argmax( m1.predict( nn_train_x, batch_size=batch_size ), 1 ) ) )"
   ]
  },
  {
   "cell_type": "markdown",
   "metadata": {},
   "source": [
    "# stochastic gradient descent"
   ]
  },
  {
   "cell_type": "code",
   "execution_count": 14,
   "metadata": {},
   "outputs": [
    {
     "name": "stdout",
     "output_type": "stream",
     "text": [
      "time: 73.2 ms\n"
     ]
    }
   ],
   "source": [
    "m2 = keras.models.Sequential()\n",
    "m2.add( keras.layers.Dense( hidden_dim, input_shape=nn_train_x.shape[ 1: ], kernel_initializer='glorot_normal' ) )\n",
    "m2.add( keras.layers.Activation( 'relu' ) )\n",
    "m2.add( keras.layers.Dense( hidden_dim, kernel_initializer='glorot_normal' ) )\n",
    "m2.add( keras.layers.Activation( 'relu' ) )\n",
    "m2.add( keras.layers.Dense( hidden_dim, kernel_initializer='glorot_normal' ) )\n",
    "m2.add( keras.layers.Activation( 'relu' ) )\n",
    "m2.add( keras.layers.Dense( nn_train_y.shape[ 1 ], kernel_initializer='glorot_normal' ) )\n",
    "m2.add( keras.layers.Activation( 'softmax' ) )\n",
    "m2.compile( loss='categorical_crossentropy', optimizer=keras.optimizers.SGD(), metrics=[ 'acc' ] )"
   ]
  },
  {
   "cell_type": "code",
   "execution_count": 15,
   "metadata": {},
   "outputs": [
    {
     "name": "stdout",
     "output_type": "stream",
     "text": [
      "time: 6min 25s\n"
     ]
    }
   ],
   "source": [
    "h2 = m2.fit( nn_train_x, nn_train_y, epochs=epochs, batch_size=batch_size, verbose=0 )"
   ]
  },
  {
   "cell_type": "code",
   "execution_count": 16,
   "metadata": {},
   "outputs": [
    {
     "data": {
      "image/png": "[encoded data removed]",
      "text/plain": [
       "<matplotlib.figure.Figure at 0x7f9cdc6af0f0>"
      ]
     },
     "metadata": {},
     "output_type": "display_data"
    },
    {
     "name": "stdout",
     "output_type": "stream",
     "text": [
      "time: 259 ms\n"
     ]
    }
   ],
   "source": [
    "fig, ax1 = pt.subplots()\n",
    "ax2 = ax1.twinx()\n",
    "_ = pd.Series( h2.history[ 'loss' ], name='loss' ).plot.line( legend=True, ax=ax1, color='C0' )\n",
    "_ = pd.Series( h2.history[ 'acc' ], name='acc' ).plot.line( legend=True, ax=ax2, color='C1' )"
   ]
  },
  {
   "cell_type": "code",
   "execution_count": 17,
   "metadata": {},
   "outputs": [
    {
     "data": {
      "text/plain": [
       "0.92215000000000003"
      ]
     },
     "execution_count": 17,
     "metadata": {},
     "output_type": "execute_result"
    },
    {
     "name": "stdout",
     "output_type": "stream",
     "text": [
      "time: 549 ms\n"
     ]
    }
   ],
   "source": [
    "sk.metrics.accuracy_score( np.argmax( nn_train_y, 1 ), np.argmax( m2.predict( nn_train_x, batch_size=batch_size ), 1 ) )"
   ]
  },
  {
   "cell_type": "code",
   "execution_count": 18,
   "metadata": {},
   "outputs": [
    {
     "data": {
      "text/plain": [
       "array([[5727,    0,   30,   11,   13,   38,   38,    8,   50,    8],\n",
       "       [   0, 6530,   38,   21,    8,   29,    6,   16,   83,   11],\n",
       "       [  44,   61, 5359,   85,   76,   18,   99,   76,  116,   24],\n",
       "       [  15,   39,  119, 5459,    4,  222,   27,   80,  114,   52],\n",
       "       [  19,   34,   23,    3, 5446,    4,   61,    7,   25,  220],\n",
       "       [  66,   29,   33,  164,   58, 4758,  105,   24,  124,   60],\n",
       "       [  41,   22,   37,    0,   60,   83, 5649,    0,   26,    0],\n",
       "       [  22,   41,   75,   24,   67,    7,    2, 5857,   15,  155],\n",
       "       [  29,  110,   59,  129,   33,  141,   42,   13, 5213,   82],\n",
       "       [  39,   31,   16,   78,  203,   38,    1,  170,   42, 5331]])"
      ]
     },
     "execution_count": 18,
     "metadata": {},
     "output_type": "execute_result"
    },
    {
     "name": "stdout",
     "output_type": "stream",
     "text": [
      "time: 552 ms\n"
     ]
    }
   ],
   "source": [
    "sk.metrics.confusion_matrix( np.argmax( nn_train_y, 1 ), np.argmax( m2.predict( nn_train_x, batch_size=batch_size ), 1 ) )"
   ]
  },
  {
   "cell_type": "code",
   "execution_count": 19,
   "metadata": {
    "scrolled": true
   },
   "outputs": [
    {
     "name": "stdout",
     "output_type": "stream",
     "text": [
      "             precision    recall  f1-score   support\n",
      "\n",
      "          0       0.95      0.97      0.96      5923\n",
      "          1       0.95      0.97      0.96      6742\n",
      "          2       0.93      0.90      0.91      5958\n",
      "          3       0.91      0.89      0.90      6131\n",
      "          4       0.91      0.93      0.92      5842\n",
      "          5       0.89      0.88      0.88      5421\n",
      "          6       0.94      0.95      0.95      5918\n",
      "          7       0.94      0.93      0.94      6265\n",
      "          8       0.90      0.89      0.89      5851\n",
      "          9       0.90      0.90      0.90      5949\n",
      "\n",
      "avg / total       0.92      0.92      0.92     60000\n",
      "\n",
      "time: 524 ms\n"
     ]
    }
   ],
   "source": [
    "print( sk.metrics.classification_report( np.argmax( nn_train_y, 1 ), np.argmax( m2.predict( nn_train_x, batch_size=batch_size ), 1 ) ) )"
   ]
  },
  {
   "cell_type": "markdown",
   "metadata": {},
   "source": [
    "# Adam"
   ]
  },
  {
   "cell_type": "code",
   "execution_count": 20,
   "metadata": {},
   "outputs": [
    {
     "name": "stdout",
     "output_type": "stream",
     "text": [
      "time: 67.5 ms\n"
     ]
    }
   ],
   "source": [
    "m3 = keras.models.Sequential()\n",
    "m3.add( keras.layers.Dense( hidden_dim, input_shape=nn_train_x.shape[ 1: ], kernel_initializer='glorot_normal' ) )\n",
    "m3.add( keras.layers.Activation( 'relu' ) )\n",
    "m3.add( keras.layers.Dense( hidden_dim, kernel_initializer='glorot_normal' ) )\n",
    "m3.add( keras.layers.Activation( 'relu' ) )\n",
    "m3.add( keras.layers.Dense( hidden_dim, kernel_initializer='glorot_normal' ) )\n",
    "m3.add( keras.layers.Activation( 'relu' ) )\n",
    "m3.add( keras.layers.Dense( nn_train_y.shape[ 1 ], kernel_initializer='glorot_normal' ) )\n",
    "m3.add( keras.layers.Activation( 'softmax' ) )\n",
    "m3.compile( loss='categorical_crossentropy', optimizer=keras.optimizers.Adam(), metrics=[ 'acc' ] )"
   ]
  },
  {
   "cell_type": "code",
   "execution_count": 21,
   "metadata": {},
   "outputs": [
    {
     "name": "stdout",
     "output_type": "stream",
     "text": [
      "time: 6min 36s\n"
     ]
    }
   ],
   "source": [
    "h3 = m3.fit( nn_train_x, nn_train_y, epochs=epochs, batch_size=batch_size, verbose=0 )"
   ]
  },
  {
   "cell_type": "code",
   "execution_count": 22,
   "metadata": {},
   "outputs": [
    {
     "data": {
      "image/png": "[encoded data removed]",
      "text/plain": [
       "<matplotlib.figure.Figure at 0x7f9cbb8b3b00>"
      ]
     },
     "metadata": {},
     "output_type": "display_data"
    },
    {
     "name": "stdout",
     "output_type": "stream",
     "text": [
      "time: 295 ms\n"
     ]
    }
   ],
   "source": [
    "fig, ax1 = pt.subplots()\n",
    "ax2 = ax1.twinx()\n",
    "_ = pd.Series( h3.history[ 'loss' ], name='loss' ).plot.line( legend=True, ax=ax1, color='C0' )\n",
    "_ = pd.Series( h3.history[ 'acc' ], name='acc' ).plot.line( legend=True, ax=ax2, color='C1' )"
   ]
  },
  {
   "cell_type": "code",
   "execution_count": 23,
   "metadata": {},
   "outputs": [
    {
     "data": {
      "text/plain": [
       "1.0"
      ]
     },
     "execution_count": 23,
     "metadata": {},
     "output_type": "execute_result"
    },
    {
     "name": "stdout",
     "output_type": "stream",
     "text": [
      "time: 590 ms\n"
     ]
    }
   ],
   "source": [
    "sk.metrics.accuracy_score( np.argmax( nn_train_y, 1 ), np.argmax( m3.predict( nn_train_x, batch_size=batch_size ), 1 ) )"
   ]
  },
  {
   "cell_type": "code",
   "execution_count": 24,
   "metadata": {},
   "outputs": [
    {
     "data": {
      "text/plain": [
       "array([[5923,    0,    0,    0,    0,    0,    0,    0,    0,    0],\n",
       "       [   0, 6742,    0,    0,    0,    0,    0,    0,    0,    0],\n",
       "       [   0,    0, 5958,    0,    0,    0,    0,    0,    0,    0],\n",
       "       [   0,    0,    0, 6131,    0,    0,    0,    0,    0,    0],\n",
       "       [   0,    0,    0,    0, 5842,    0,    0,    0,    0,    0],\n",
       "       [   0,    0,    0,    0,    0, 5421,    0,    0,    0,    0],\n",
       "       [   0,    0,    0,    0,    0,    0, 5918,    0,    0,    0],\n",
       "       [   0,    0,    0,    0,    0,    0,    0, 6265,    0,    0],\n",
       "       [   0,    0,    0,    0,    0,    0,    0,    0, 5851,    0],\n",
       "       [   0,    0,    0,    0,    0,    0,    0,    0,    0, 5949]])"
      ]
     },
     "execution_count": 24,
     "metadata": {},
     "output_type": "execute_result"
    },
    {
     "name": "stdout",
     "output_type": "stream",
     "text": [
      "time: 597 ms\n"
     ]
    }
   ],
   "source": [
    "sk.metrics.confusion_matrix( np.argmax( nn_train_y, 1 ), np.argmax( m3.predict( nn_train_x, batch_size=batch_size ), 1 ) )"
   ]
  },
  {
   "cell_type": "code",
   "execution_count": 25,
   "metadata": {},
   "outputs": [
    {
     "name": "stdout",
     "output_type": "stream",
     "text": [
      "             precision    recall  f1-score   support\n",
      "\n",
      "          0       1.00      1.00      1.00      5923\n",
      "          1       1.00      1.00      1.00      6742\n",
      "          2       1.00      1.00      1.00      5958\n",
      "          3       1.00      1.00      1.00      6131\n",
      "          4       1.00      1.00      1.00      5842\n",
      "          5       1.00      1.00      1.00      5421\n",
      "          6       1.00      1.00      1.00      5918\n",
      "          7       1.00      1.00      1.00      6265\n",
      "          8       1.00      1.00      1.00      5851\n",
      "          9       1.00      1.00      1.00      5949\n",
      "\n",
      "avg / total       1.00      1.00      1.00     60000\n",
      "\n",
      "time: 529 ms\n"
     ]
    }
   ],
   "source": [
    "print( sk.metrics.classification_report( np.argmax( nn_train_y, 1 ), np.argmax( m3.predict( nn_train_x, batch_size=batch_size ), 1 ) ) )"
   ]
  },
  {
   "cell_type": "markdown",
   "metadata": {},
   "source": [
    "# Nesterov Adam"
   ]
  },
  {
   "cell_type": "code",
   "execution_count": 26,
   "metadata": {},
   "outputs": [
    {
     "name": "stdout",
     "output_type": "stream",
     "text": [
      "time: 91.1 ms\n"
     ]
    }
   ],
   "source": [
    "m4 = keras.models.Sequential()\n",
    "m4.add( keras.layers.Dense( hidden_dim, input_shape=nn_train_x.shape[ 1: ], kernel_initializer='glorot_normal' ) )\n",
    "m4.add( keras.layers.Activation( 'relu' ) )\n",
    "m4.add( keras.layers.Dense( hidden_dim, kernel_initializer='glorot_normal' ) )\n",
    "m4.add( keras.layers.Activation( 'relu' ) )\n",
    "m4.add( keras.layers.Dense( hidden_dim, kernel_initializer='glorot_normal' ) )\n",
    "m4.add( keras.layers.Activation( 'relu' ) )\n",
    "m4.add( keras.layers.Dense( nn_train_y.shape[ 1 ], kernel_initializer='glorot_normal' ) )\n",
    "m4.add( keras.layers.Activation( 'softmax' ) )\n",
    "m4.compile( loss='categorical_crossentropy', optimizer=keras.optimizers.Nadam(), metrics=[ 'acc' ] )"
   ]
  },
  {
   "cell_type": "code",
   "execution_count": 27,
   "metadata": {},
   "outputs": [
    {
     "name": "stdout",
     "output_type": "stream",
     "text": [
      "time: 6min 30s\n"
     ]
    }
   ],
   "source": [
    "h4 = m4.fit( nn_train_x, nn_train_y, epochs=epochs, batch_size=batch_size, verbose=0 )"
   ]
  },
  {
   "cell_type": "code",
   "execution_count": 28,
   "metadata": {},
   "outputs": [
    {
     "data": {
      "image/png": "[encoded data removed]",
      "text/plain": [
       "<matplotlib.figure.Figure at 0x7f9ce3f85a90>"
      ]
     },
     "metadata": {},
     "output_type": "display_data"
    },
    {
     "name": "stdout",
     "output_type": "stream",
     "text": [
      "time: 322 ms\n"
     ]
    }
   ],
   "source": [
    "fig, ax1 = pt.subplots()\n",
    "ax2 = ax1.twinx()\n",
    "_ = pd.Series( h4.history[ 'loss' ], name='loss' ).plot.line( legend=True, ax=ax1, color='C0' )\n",
    "_ = pd.Series( h4.history[ 'acc' ], name='acc' ).plot.line( legend=True, ax=ax2, color='C1' )"
   ]
  },
  {
   "cell_type": "code",
   "execution_count": 29,
   "metadata": {},
   "outputs": [
    {
     "data": {
      "text/plain": [
       "1.0"
      ]
     },
     "execution_count": 29,
     "metadata": {},
     "output_type": "execute_result"
    },
    {
     "name": "stdout",
     "output_type": "stream",
     "text": [
      "time: 598 ms\n"
     ]
    }
   ],
   "source": [
    "sk.metrics.accuracy_score( np.argmax( nn_train_y, 1 ), np.argmax( m4.predict( nn_train_x, batch_size=batch_size ), 1 ) )"
   ]
  },
  {
   "cell_type": "code",
   "execution_count": 30,
   "metadata": {},
   "outputs": [
    {
     "data": {
      "text/plain": [
       "array([[5923,    0,    0,    0,    0,    0,    0,    0,    0,    0],\n",
       "       [   0, 6742,    0,    0,    0,    0,    0,    0,    0,    0],\n",
       "       [   0,    0, 5958,    0,    0,    0,    0,    0,    0,    0],\n",
       "       [   0,    0,    0, 6131,    0,    0,    0,    0,    0,    0],\n",
       "       [   0,    0,    0,    0, 5842,    0,    0,    0,    0,    0],\n",
       "       [   0,    0,    0,    0,    0, 5421,    0,    0,    0,    0],\n",
       "       [   0,    0,    0,    0,    0,    0, 5918,    0,    0,    0],\n",
       "       [   0,    0,    0,    0,    0,    0,    0, 6265,    0,    0],\n",
       "       [   0,    0,    0,    0,    0,    0,    0,    0, 5851,    0],\n",
       "       [   0,    0,    0,    0,    0,    0,    0,    0,    0, 5949]])"
      ]
     },
     "execution_count": 30,
     "metadata": {},
     "output_type": "execute_result"
    },
    {
     "name": "stdout",
     "output_type": "stream",
     "text": [
      "time: 594 ms\n"
     ]
    }
   ],
   "source": [
    "sk.metrics.confusion_matrix( np.argmax( nn_train_y, 1 ), np.argmax( m4.predict( nn_train_x, batch_size=batch_size ), 1 ) )"
   ]
  },
  {
   "cell_type": "code",
   "execution_count": 31,
   "metadata": {},
   "outputs": [
    {
     "name": "stdout",
     "output_type": "stream",
     "text": [
      "             precision    recall  f1-score   support\n",
      "\n",
      "          0       1.00      1.00      1.00      5923\n",
      "          1       1.00      1.00      1.00      6742\n",
      "          2       1.00      1.00      1.00      5958\n",
      "          3       1.00      1.00      1.00      6131\n",
      "          4       1.00      1.00      1.00      5842\n",
      "          5       1.00      1.00      1.00      5421\n",
      "          6       1.00      1.00      1.00      5918\n",
      "          7       1.00      1.00      1.00      6265\n",
      "          8       1.00      1.00      1.00      5851\n",
      "          9       1.00      1.00      1.00      5949\n",
      "\n",
      "avg / total       1.00      1.00      1.00     60000\n",
      "\n",
      "time: 546 ms\n"
     ]
    }
   ],
   "source": [
    "print( sk.metrics.classification_report( np.argmax( nn_train_y, 1 ), np.argmax( m4.predict( nn_train_x, batch_size=batch_size ), 1 ) ) )"
   ]
  },
  {
   "cell_type": "markdown",
   "metadata": {},
   "source": [
    "# YellowFin (BN)"
   ]
  },
  {
   "cell_type": "code",
   "execution_count": 32,
   "metadata": {},
   "outputs": [
    {
     "name": "stdout",
     "output_type": "stream",
     "text": [
      "time: 168 ms\n"
     ]
    }
   ],
   "source": [
    "m5 = keras.models.Sequential()\n",
    "m5.add( keras.layers.Dense( hidden_dim, input_shape=nn_train_x.shape[ 1: ], kernel_initializer='glorot_normal' ) )\n",
    "m5.add( keras.layers.BatchNormalization() )\n",
    "m5.add( keras.layers.Activation( 'relu' ) )\n",
    "m5.add( keras.layers.Dense( hidden_dim, kernel_initializer='glorot_normal' ) )\n",
    "m5.add( keras.layers.BatchNormalization() )\n",
    "m5.add( keras.layers.Activation( 'relu' ) )\n",
    "m5.add( keras.layers.Dense( hidden_dim, kernel_initializer='glorot_normal' ) )\n",
    "m5.add( keras.layers.BatchNormalization() )\n",
    "m5.add( keras.layers.Activation( 'relu' ) )\n",
    "m5.add( keras.layers.Dense( nn_train_y.shape[ 1 ], kernel_initializer='glorot_normal' ) )\n",
    "m5.add( keras.layers.Activation( 'softmax' ) )\n",
    "m5.compile( loss='categorical_crossentropy', optimizer=OptimizerWrapper( yf.YFOptimizer() ), metrics=[ 'acc' ] )"
   ]
  },
  {
   "cell_type": "code",
   "execution_count": 33,
   "metadata": {},
   "outputs": [
    {
     "name": "stdout",
     "output_type": "stream",
     "text": [
      "time: 12min 8s\n"
     ]
    }
   ],
   "source": [
    "h5 = m5.fit( nn_train_x, nn_train_y, epochs=epochs, batch_size=batch_size, verbose=0 )"
   ]
  },
  {
   "cell_type": "code",
   "execution_count": 34,
   "metadata": {},
   "outputs": [
    {
     "data": {
      "image/png": "[encoded data removed]",
      "text/plain": [
       "<matplotlib.figure.Figure at 0x7f9c77609198>"
      ]
     },
     "metadata": {},
     "output_type": "display_data"
    },
    {
     "name": "stdout",
     "output_type": "stream",
     "text": [
      "time: 503 ms\n"
     ]
    }
   ],
   "source": [
    "fig, ax1 = pt.subplots()\n",
    "ax2 = ax1.twinx()\n",
    "_ = pd.Series( h5.history[ 'loss' ], name='loss' ).plot.line( legend=True, ax=ax1, color='C0' )\n",
    "_ = pd.Series( h5.history[ 'acc' ], name='acc' ).plot.line( legend=True, ax=ax2, color='C1' )"
   ]
  },
  {
   "cell_type": "code",
   "execution_count": 35,
   "metadata": {},
   "outputs": [
    {
     "data": {
      "text/plain": [
       "1.0"
      ]
     },
     "execution_count": 35,
     "metadata": {},
     "output_type": "execute_result"
    },
    {
     "name": "stdout",
     "output_type": "stream",
     "text": [
      "time: 1.21 s\n"
     ]
    }
   ],
   "source": [
    "sk.metrics.accuracy_score( np.argmax( nn_train_y, 1 ), np.argmax( m5.predict( nn_train_x, batch_size=batch_size ), 1 ) )"
   ]
  },
  {
   "cell_type": "code",
   "execution_count": 36,
   "metadata": {},
   "outputs": [
    {
     "data": {
      "text/plain": [
       "array([[5923,    0,    0,    0,    0,    0,    0,    0,    0,    0],\n",
       "       [   0, 6742,    0,    0,    0,    0,    0,    0,    0,    0],\n",
       "       [   0,    0, 5958,    0,    0,    0,    0,    0,    0,    0],\n",
       "       [   0,    0,    0, 6131,    0,    0,    0,    0,    0,    0],\n",
       "       [   0,    0,    0,    0, 5842,    0,    0,    0,    0,    0],\n",
       "       [   0,    0,    0,    0,    0, 5421,    0,    0,    0,    0],\n",
       "       [   0,    0,    0,    0,    0,    0, 5918,    0,    0,    0],\n",
       "       [   0,    0,    0,    0,    0,    0,    0, 6265,    0,    0],\n",
       "       [   0,    0,    0,    0,    0,    0,    0,    0, 5851,    0],\n",
       "       [   0,    0,    0,    0,    0,    0,    0,    0,    0, 5949]])"
      ]
     },
     "execution_count": 36,
     "metadata": {},
     "output_type": "execute_result"
    },
    {
     "name": "stdout",
     "output_type": "stream",
     "text": [
      "time: 703 ms\n"
     ]
    }
   ],
   "source": [
    "sk.metrics.confusion_matrix( np.argmax( nn_train_y, 1 ), np.argmax( m5.predict( nn_train_x, batch_size=batch_size ), 1 ) )"
   ]
  },
  {
   "cell_type": "code",
   "execution_count": 37,
   "metadata": {},
   "outputs": [
    {
     "name": "stdout",
     "output_type": "stream",
     "text": [
      "             precision    recall  f1-score   support\n",
      "\n",
      "          0       1.00      1.00      1.00      5923\n",
      "          1       1.00      1.00      1.00      6742\n",
      "          2       1.00      1.00      1.00      5958\n",
      "          3       1.00      1.00      1.00      6131\n",
      "          4       1.00      1.00      1.00      5842\n",
      "          5       1.00      1.00      1.00      5421\n",
      "          6       1.00      1.00      1.00      5918\n",
      "          7       1.00      1.00      1.00      6265\n",
      "          8       1.00      1.00      1.00      5851\n",
      "          9       1.00      1.00      1.00      5949\n",
      "\n",
      "avg / total       1.00      1.00      1.00     60000\n",
      "\n",
      "time: 607 ms\n"
     ]
    }
   ],
   "source": [
    "print( sk.metrics.classification_report( np.argmax( nn_train_y, 1 ), np.argmax( m5.predict( nn_train_x, batch_size=batch_size ), 1 ) ) )"
   ]
  },
  {
   "cell_type": "markdown",
   "metadata": {},
   "source": [
    "# stochastic gradient descent (BN)"
   ]
  },
  {
   "cell_type": "code",
   "execution_count": 38,
   "metadata": {},
   "outputs": [
    {
     "name": "stdout",
     "output_type": "stream",
     "text": [
      "time: 179 ms\n"
     ]
    }
   ],
   "source": [
    "m6 = keras.models.Sequential()\n",
    "m6.add( keras.layers.Dense( hidden_dim, input_shape=nn_train_x.shape[ 1: ], kernel_initializer='glorot_normal' ) )\n",
    "m6.add( keras.layers.BatchNormalization() )\n",
    "m6.add( keras.layers.Activation( 'relu' ) )\n",
    "m6.add( keras.layers.Dense( hidden_dim, kernel_initializer='glorot_normal' ) )\n",
    "m6.add( keras.layers.BatchNormalization() )\n",
    "m6.add( keras.layers.Activation( 'relu' ) )\n",
    "m6.add( keras.layers.Dense( hidden_dim, kernel_initializer='glorot_normal' ) )\n",
    "m6.add( keras.layers.BatchNormalization() )\n",
    "m6.add( keras.layers.Activation( 'relu' ) )\n",
    "m6.add( keras.layers.Dense( nn_train_y.shape[ 1 ], kernel_initializer='glorot_normal' ) )\n",
    "m6.add( keras.layers.Activation( 'softmax' ) )\n",
    "m6.compile( loss='categorical_crossentropy', optimizer=keras.optimizers.SGD(), metrics=[ 'acc' ] )"
   ]
  },
  {
   "cell_type": "code",
   "execution_count": 39,
   "metadata": {},
   "outputs": [
    {
     "name": "stdout",
     "output_type": "stream",
     "text": [
      "time: 10min 37s\n"
     ]
    }
   ],
   "source": [
    "h6 = m6.fit( nn_train_x, nn_train_y, epochs=epochs, batch_size=batch_size, verbose=0 )"
   ]
  },
  {
   "cell_type": "code",
   "execution_count": 40,
   "metadata": {},
   "outputs": [
    {
     "data": {
      "image/png": "[encoded data removed]",
      "text/plain": [
       "<matplotlib.figure.Figure at 0x7f9c69cbf048>"
      ]
     },
     "metadata": {},
     "output_type": "display_data"
    },
    {
     "name": "stdout",
     "output_type": "stream",
     "text": [
      "time: 338 ms\n"
     ]
    }
   ],
   "source": [
    "fig, ax1 = pt.subplots()\n",
    "ax2 = ax1.twinx()\n",
    "_ = pd.Series( h6.history[ 'loss' ], name='loss' ).plot.line( legend=True, ax=ax1, color='C0' )\n",
    "_ = pd.Series( h6.history[ 'acc' ], name='acc' ).plot.line( legend=True, ax=ax2, color='C1' )"
   ]
  },
  {
   "cell_type": "code",
   "execution_count": 41,
   "metadata": {},
   "outputs": [
    {
     "data": {
      "text/plain": [
       "0.97243333333333337"
      ]
     },
     "execution_count": 41,
     "metadata": {},
     "output_type": "execute_result"
    },
    {
     "name": "stdout",
     "output_type": "stream",
     "text": [
      "time: 1.07 s\n"
     ]
    }
   ],
   "source": [
    "sk.metrics.accuracy_score( np.argmax( nn_train_y, 1 ), np.argmax( m6.predict( nn_train_x, batch_size=batch_size ), 1 ) )"
   ]
  },
  {
   "cell_type": "code",
   "execution_count": 42,
   "metadata": {},
   "outputs": [
    {
     "data": {
      "text/plain": [
       "array([[5838,    0,   10,    2,    7,    9,   18,    3,   26,   10],\n",
       "       [   1, 6652,   28,   15,    9,    5,    5,   10,   12,    5],\n",
       "       [  17,   15, 5777,   30,   26,    6,   10,   36,   33,    8],\n",
       "       [   7,   11,   54, 5900,    0,   53,    3,   32,   45,   26],\n",
       "       [   7,   12,   17,    0, 5671,    3,   32,   12,   13,   75],\n",
       "       [  11,    6,    9,   58,    9, 5237,   36,    6,   32,   17],\n",
       "       [  21,    8,   10,    2,   11,   24, 5821,    1,   20,    0],\n",
       "       [  12,   19,   41,    7,   25,    5,    1, 6103,    7,   45],\n",
       "       [  13,   32,   23,   46,    9,   39,   20,    9, 5624,   36],\n",
       "       [  19,    5,    2,   31,   68,   17,    3,   54,   27, 5723]])"
      ]
     },
     "execution_count": 42,
     "metadata": {},
     "output_type": "execute_result"
    },
    {
     "name": "stdout",
     "output_type": "stream",
     "text": [
      "time: 845 ms\n"
     ]
    }
   ],
   "source": [
    "sk.metrics.confusion_matrix( np.argmax( nn_train_y, 1 ), np.argmax( m6.predict( nn_train_x, batch_size=batch_size ), 1 ) )"
   ]
  },
  {
   "cell_type": "code",
   "execution_count": 43,
   "metadata": {
    "scrolled": true
   },
   "outputs": [
    {
     "name": "stdout",
     "output_type": "stream",
     "text": [
      "             precision    recall  f1-score   support\n",
      "\n",
      "          0       0.98      0.99      0.98      5923\n",
      "          1       0.98      0.99      0.99      6742\n",
      "          2       0.97      0.97      0.97      5958\n",
      "          3       0.97      0.96      0.97      6131\n",
      "          4       0.97      0.97      0.97      5842\n",
      "          5       0.97      0.97      0.97      5421\n",
      "          6       0.98      0.98      0.98      5918\n",
      "          7       0.97      0.97      0.97      6265\n",
      "          8       0.96      0.96      0.96      5851\n",
      "          9       0.96      0.96      0.96      5949\n",
      "\n",
      "avg / total       0.97      0.97      0.97     60000\n",
      "\n",
      "time: 789 ms\n"
     ]
    }
   ],
   "source": [
    "print( sk.metrics.classification_report( np.argmax( nn_train_y, 1 ), np.argmax( m6.predict( nn_train_x, batch_size=batch_size ), 1 ) ) )"
   ]
  },
  {
   "cell_type": "markdown",
   "metadata": {},
   "source": [
    "# Nesterov Adam (BN)"
   ]
  },
  {
   "cell_type": "code",
   "execution_count": 44,
   "metadata": {},
   "outputs": [
    {
     "name": "stdout",
     "output_type": "stream",
     "text": [
      "time: 1.13 s\n"
     ]
    }
   ],
   "source": [
    "m7 = keras.models.Sequential()\n",
    "m7.add( keras.layers.Dense( hidden_dim, input_shape=nn_train_x.shape[ 1: ], kernel_initializer='glorot_normal' ) )\n",
    "m7.add( keras.layers.BatchNormalization() )\n",
    "m7.add( keras.layers.Activation( 'relu' ) )\n",
    "m7.add( keras.layers.Dense( hidden_dim, kernel_initializer='glorot_normal' ) )\n",
    "m7.add( keras.layers.BatchNormalization() )\n",
    "m7.add( keras.layers.Activation( 'relu' ) )\n",
    "m7.add( keras.layers.Dense( hidden_dim, kernel_initializer='glorot_normal' ) )\n",
    "m7.add( keras.layers.BatchNormalization() )\n",
    "m7.add( keras.layers.Activation( 'relu' ) )\n",
    "m7.add( keras.layers.Dense( nn_train_y.shape[ 1 ], kernel_initializer='glorot_normal' ) )\n",
    "m7.add( keras.layers.Activation( 'softmax' ) )\n",
    "m7.compile( loss='categorical_crossentropy', optimizer=keras.optimizers.Nadam(), metrics=[ 'acc' ] )"
   ]
  },
  {
   "cell_type": "code",
   "execution_count": 45,
   "metadata": {},
   "outputs": [
    {
     "name": "stdout",
     "output_type": "stream",
     "text": [
      "time: 10min 32s\n"
     ]
    }
   ],
   "source": [
    "h7 = m7.fit( nn_train_x, nn_train_y, epochs=epochs, batch_size=batch_size, verbose=0 )"
   ]
  },
  {
   "cell_type": "code",
   "execution_count": 46,
   "metadata": {},
   "outputs": [
    {
     "data": {
      "image/png": "[encoded data removed]",
      "text/plain": [
       "<matplotlib.figure.Figure at 0x7f9c6903f0b8>"
      ]
     },
     "metadata": {},
     "output_type": "display_data"
    },
    {
     "name": "stdout",
     "output_type": "stream",
     "text": [
      "time: 408 ms\n"
     ]
    }
   ],
   "source": [
    "fig, ax1 = pt.subplots()\n",
    "ax2 = ax1.twinx()\n",
    "_ = pd.Series( h7.history[ 'loss' ], name='loss' ).plot.line( legend=True, ax=ax1, color='C0' )\n",
    "_ = pd.Series( h7.history[ 'acc' ], name='acc' ).plot.line( legend=True, ax=ax2, color='C1' )"
   ]
  },
  {
   "cell_type": "code",
   "execution_count": 47,
   "metadata": {},
   "outputs": [
    {
     "data": {
      "text/plain": [
       "1.0"
      ]
     },
     "execution_count": 47,
     "metadata": {},
     "output_type": "execute_result"
    },
    {
     "name": "stdout",
     "output_type": "stream",
     "text": [
      "time: 1.11 s\n"
     ]
    }
   ],
   "source": [
    "sk.metrics.accuracy_score( np.argmax( nn_train_y, 1 ), np.argmax( m7.predict( nn_train_x, batch_size=batch_size ), 1 ) )"
   ]
  },
  {
   "cell_type": "code",
   "execution_count": 48,
   "metadata": {},
   "outputs": [
    {
     "data": {
      "text/plain": [
       "array([[5923,    0,    0,    0,    0,    0,    0,    0,    0,    0],\n",
       "       [   0, 6742,    0,    0,    0,    0,    0,    0,    0,    0],\n",
       "       [   0,    0, 5958,    0,    0,    0,    0,    0,    0,    0],\n",
       "       [   0,    0,    0, 6131,    0,    0,    0,    0,    0,    0],\n",
       "       [   0,    0,    0,    0, 5842,    0,    0,    0,    0,    0],\n",
       "       [   0,    0,    0,    0,    0, 5421,    0,    0,    0,    0],\n",
       "       [   0,    0,    0,    0,    0,    0, 5918,    0,    0,    0],\n",
       "       [   0,    0,    0,    0,    0,    0,    0, 6265,    0,    0],\n",
       "       [   0,    0,    0,    0,    0,    0,    0,    0, 5851,    0],\n",
       "       [   0,    0,    0,    0,    0,    0,    0,    0,    0, 5949]])"
      ]
     },
     "execution_count": 48,
     "metadata": {},
     "output_type": "execute_result"
    },
    {
     "name": "stdout",
     "output_type": "stream",
     "text": [
      "time: 987 ms\n"
     ]
    }
   ],
   "source": [
    "sk.metrics.confusion_matrix( np.argmax( nn_train_y, 1 ), np.argmax( m7.predict( nn_train_x, batch_size=batch_size ), 1 ) )"
   ]
  },
  {
   "cell_type": "code",
   "execution_count": 49,
   "metadata": {},
   "outputs": [
    {
     "name": "stdout",
     "output_type": "stream",
     "text": [
      "             precision    recall  f1-score   support\n",
      "\n",
      "          0       1.00      1.00      1.00      5923\n",
      "          1       1.00      1.00      1.00      6742\n",
      "          2       1.00      1.00      1.00      5958\n",
      "          3       1.00      1.00      1.00      6131\n",
      "          4       1.00      1.00      1.00      5842\n",
      "          5       1.00      1.00      1.00      5421\n",
      "          6       1.00      1.00      1.00      5918\n",
      "          7       1.00      1.00      1.00      6265\n",
      "          8       1.00      1.00      1.00      5851\n",
      "          9       1.00      1.00      1.00      5949\n",
      "\n",
      "avg / total       1.00      1.00      1.00     60000\n",
      "\n",
      "time: 856 ms\n"
     ]
    }
   ],
   "source": [
    "print( sk.metrics.classification_report( np.argmax( nn_train_y, 1 ), np.argmax( m7.predict( nn_train_x, batch_size=batch_size ), 1 ) ) )"
   ]
  },
  {
   "cell_type": "markdown",
   "metadata": {},
   "source": [
    "# compare"
   ]
  },
  {
   "cell_type": "code",
   "execution_count": 50,
   "metadata": {},
   "outputs": [
    {
     "data": {
      "image/png": "[encoded data removed]",
      "text/plain": [
       "<matplotlib.figure.Figure at 0x7f9c68992518>"
      ]
     },
     "metadata": {},
     "output_type": "display_data"
    },
    {
     "name": "stdout",
     "output_type": "stream",
     "text": [
      "time: 290 ms\n"
     ]
    }
   ],
   "source": [
    "_ = pd.Series( np.log( h1.history[ 'loss' ] ), name='YellowFin' ).plot.line( legend=True )\n",
    "_ = pd.Series( np.log( h2.history[ 'loss' ] ), name='SGD' ).plot.line( legend=True )\n",
    "_ = pd.Series( np.log( h3.history[ 'loss' ] ), name='Adam' ).plot.line( legend=True )\n",
    "_ = pd.Series( np.log( h4.history[ 'loss' ] ), name='Nadam' ).plot.line( legend=True )"
   ]
  },
  {
   "cell_type": "code",
   "execution_count": 51,
   "metadata": {},
   "outputs": [
    {
     "data": {
      "image/png": "[encoded data removed]",
      "text/plain": [
       "<matplotlib.figure.Figure at 0x7f9c6894ec88>"
      ]
     },
     "metadata": {},
     "output_type": "display_data"
    },
    {
     "name": "stdout",
     "output_type": "stream",
     "text": [
      "time: 263 ms\n"
     ]
    }
   ],
   "source": [
    "_ = pd.Series( np.log( h5.history[ 'loss' ] ), name='YellowFin (BN)' ).plot.line( legend=True )\n",
    "_ = pd.Series( np.log( h6.history[ 'loss' ] ), name='SGD (BN)' ).plot.line( legend=True )\n",
    "_ = pd.Series( np.log( h7.history[ 'loss' ] ), name='Nadam (BN)' ).plot.line( legend=True )"
   ]
  },
  {
   "cell_type": "code",
   "execution_count": 52,
   "metadata": {},
   "outputs": [
    {
     "data": {
      "image/png": "[encoded data removed]",
      "text/plain": [
       "<matplotlib.figure.Figure at 0x7f9c688eb160>"
      ]
     },
     "metadata": {},
     "output_type": "display_data"
    },
    {
     "name": "stdout",
     "output_type": "stream",
     "text": [
      "time: 308 ms\n"
     ]
    }
   ],
   "source": [
    "_ = pd.Series( h1.history[ 'acc' ], name='YellowFin' ).plot.line( legend=True )\n",
    "_ = pd.Series( h2.history[ 'acc' ], name='SGD' ).plot.line( legend=True )\n",
    "_ = pd.Series( h3.history[ 'acc' ], name='Adam' ).plot.line( legend=True )\n",
    "_ = pd.Series( h4.history[ 'acc' ], name='Nadam' ).plot.line( legend=True )"
   ]
  },
  {
   "cell_type": "code",
   "execution_count": 53,
   "metadata": {},
   "outputs": [
    {
     "data": {
      "image/png": "[encoded data removed]",
      "text/plain": [
       "<matplotlib.figure.Figure at 0x7f9c69b159b0>"
      ]
     },
     "metadata": {},
     "output_type": "display_data"
    },
    {
     "name": "stdout",
     "output_type": "stream",
     "text": [
      "time: 248 ms\n"
     ]
    }
   ],
   "source": [
    "_ = pd.Series( h5.history[ 'acc' ], name='YellowFin (BN)' ).plot.line( legend=True )\n",
    "_ = pd.Series( h6.history[ 'acc' ], name='SGD (BN)' ).plot.line( legend=True )\n",
    "_ = pd.Series( h7.history[ 'acc' ], name='Nadam (BN)' ).plot.line( legend=True )"
   ]
  }
 ],
 "metadata": {
  "kernelspec": {
   "display_name": "Python 3",
   "language": "python",
   "name": "python3"
  },
  "language_info": {
   "codemirror_mode": {
    "name": "ipython",
    "version": 3
   },
   "file_extension": ".py",
   "mimetype": "text/x-python",
   "name": "python",
   "nbconvert_exporter": "python",
   "pygments_lexer": "ipython3",
   "version": "3.5.3"
  }
 },
 "nbformat": 4,
 "nbformat_minor": 2
}
